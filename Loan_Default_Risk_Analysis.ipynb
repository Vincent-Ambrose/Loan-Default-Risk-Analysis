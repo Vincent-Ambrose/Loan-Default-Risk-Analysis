{
 "cells": [
  {
   "cell_type": "markdown",
   "metadata": {},
   "source": [
    "# Borrower default risk analysis\n",
    "\n",
    "This project consists of preparing a report for the loan division of a bank. I am going to find out if the marital status, the number of children, the total income etc. of a customer have an impact on a loan default. The bank already has some data on the creditworthiness of customers.\n",
    "\n",
    "This report aims to create a **credit score** for a potential customer. A **credit score** is used to assess a potential borrower's ability to repay their loan."
   ]
  },
  {
   "attachments": {},
   "cell_type": "markdown",
   "metadata": {},
   "source": [
    "* [Intro](#intro)\n",
    "* [Stage 1. Data description](#data_review)\n",
    "    * [1.1 Data collection](#data_collection)\n",
    "    * [1.2 Data exploration](#data_exploration)\n",
    "* [Stage 2. Data preprocessing](#data_preprocessing)\n",
    "    * [2.1 Data preparation](#data_preparation)\n",
    "    * [2.2 Data_classification](#data_classification)\n",
    "* [Stage 3. Hypothesis testing](#Hypothesis_testing)\n",
    "    * [3.1 Data correlation](#data_correlation)\n",
    "    * [3.2 Credit score creation](#credit_score_creation)\n",
    "* [General conclusion](#conclusion)"
   ]
  },
  {
   "attachments": {},
   "cell_type": "markdown",
   "metadata": {},
   "source": [
    "## Intro <a id='intro'></a>"
   ]
  },
  {
   "cell_type": "markdown",
   "metadata": {},
   "source": [
    "This work aim to analyze the borrower default risk using a set of data of previous customers. We are going to prepare a report for the loan division of a bank to assess a potential borrower's ability to pay back his loan. More precisely we will find out the following:\n",
    "- link between having children and solvency\n",
    "- link between marital status and solvency\n",
    "- link between total income and solvency\n",
    "- link between purpose and solvency and others."
   ]
  },
  {
   "attachments": {},
   "cell_type": "markdown",
   "metadata": {},
   "source": [
    "## Stage 1. Data description <a id='data_review'></a>"
   ]
  },
  {
   "attachments": {},
   "cell_type": "markdown",
   "metadata": {},
   "source": [
    "### 1.1 Data collection <a id='data_collection'></a>"
   ]
  },
  {
   "cell_type": "code",
   "execution_count": 1,
   "metadata": {},
   "outputs": [],
   "source": [
    "# Loading all libraries\n",
    "import pandas as pd\n",
    "import jinja2"
   ]
  },
  {
   "cell_type": "code",
   "execution_count": 2,
   "metadata": {},
   "outputs": [],
   "source": [
    "# Loading the data\n",
    "df = pd.read_csv('credit_scoring_eng.csv')"
   ]
  },
  {
   "cell_type": "code",
   "execution_count": 3,
   "metadata": {},
   "outputs": [
    {
     "data": {
      "text/html": [
       "<div>\n",
       "<style scoped>\n",
       "    .dataframe tbody tr th:only-of-type {\n",
       "        vertical-align: middle;\n",
       "    }\n",
       "\n",
       "    .dataframe tbody tr th {\n",
       "        vertical-align: top;\n",
       "    }\n",
       "\n",
       "    .dataframe thead th {\n",
       "        text-align: right;\n",
       "    }\n",
       "</style>\n",
       "<table border=\"1\" class=\"dataframe\">\n",
       "  <thead>\n",
       "    <tr style=\"text-align: right;\">\n",
       "      <th></th>\n",
       "      <th>children</th>\n",
       "      <th>days_employed</th>\n",
       "      <th>dob_years</th>\n",
       "      <th>education</th>\n",
       "      <th>education_id</th>\n",
       "      <th>family_status</th>\n",
       "      <th>family_status_id</th>\n",
       "      <th>gender</th>\n",
       "      <th>income_type</th>\n",
       "      <th>debt</th>\n",
       "      <th>total_income</th>\n",
       "      <th>purpose</th>\n",
       "    </tr>\n",
       "  </thead>\n",
       "  <tbody>\n",
       "    <tr>\n",
       "      <th>0</th>\n",
       "      <td>1</td>\n",
       "      <td>-8437.673028</td>\n",
       "      <td>42</td>\n",
       "      <td>bachelor's degree</td>\n",
       "      <td>0</td>\n",
       "      <td>married</td>\n",
       "      <td>0</td>\n",
       "      <td>F</td>\n",
       "      <td>employee</td>\n",
       "      <td>0</td>\n",
       "      <td>40620.102</td>\n",
       "      <td>purchase of the house</td>\n",
       "    </tr>\n",
       "    <tr>\n",
       "      <th>1</th>\n",
       "      <td>1</td>\n",
       "      <td>-4024.803754</td>\n",
       "      <td>36</td>\n",
       "      <td>secondary education</td>\n",
       "      <td>1</td>\n",
       "      <td>married</td>\n",
       "      <td>0</td>\n",
       "      <td>F</td>\n",
       "      <td>employee</td>\n",
       "      <td>0</td>\n",
       "      <td>17932.802</td>\n",
       "      <td>car purchase</td>\n",
       "    </tr>\n",
       "    <tr>\n",
       "      <th>2</th>\n",
       "      <td>0</td>\n",
       "      <td>-5623.422610</td>\n",
       "      <td>33</td>\n",
       "      <td>Secondary Education</td>\n",
       "      <td>1</td>\n",
       "      <td>married</td>\n",
       "      <td>0</td>\n",
       "      <td>M</td>\n",
       "      <td>employee</td>\n",
       "      <td>0</td>\n",
       "      <td>23341.752</td>\n",
       "      <td>purchase of the house</td>\n",
       "    </tr>\n",
       "    <tr>\n",
       "      <th>3</th>\n",
       "      <td>3</td>\n",
       "      <td>-4124.747207</td>\n",
       "      <td>32</td>\n",
       "      <td>secondary education</td>\n",
       "      <td>1</td>\n",
       "      <td>married</td>\n",
       "      <td>0</td>\n",
       "      <td>M</td>\n",
       "      <td>employee</td>\n",
       "      <td>0</td>\n",
       "      <td>42820.568</td>\n",
       "      <td>supplementary education</td>\n",
       "    </tr>\n",
       "    <tr>\n",
       "      <th>4</th>\n",
       "      <td>0</td>\n",
       "      <td>340266.072047</td>\n",
       "      <td>53</td>\n",
       "      <td>secondary education</td>\n",
       "      <td>1</td>\n",
       "      <td>civil partnership</td>\n",
       "      <td>1</td>\n",
       "      <td>F</td>\n",
       "      <td>retiree</td>\n",
       "      <td>0</td>\n",
       "      <td>25378.572</td>\n",
       "      <td>to have a wedding</td>\n",
       "    </tr>\n",
       "  </tbody>\n",
       "</table>\n",
       "</div>"
      ],
      "text/plain": [
       "   children  days_employed  dob_years            education  education_id  \\\n",
       "0         1   -8437.673028         42    bachelor's degree             0   \n",
       "1         1   -4024.803754         36  secondary education             1   \n",
       "2         0   -5623.422610         33  Secondary Education             1   \n",
       "3         3   -4124.747207         32  secondary education             1   \n",
       "4         0  340266.072047         53  secondary education             1   \n",
       "\n",
       "       family_status  family_status_id gender income_type  debt  total_income  \\\n",
       "0            married                 0      F    employee     0     40620.102   \n",
       "1            married                 0      F    employee     0     17932.802   \n",
       "2            married                 0      M    employee     0     23341.752   \n",
       "3            married                 0      M    employee     0     42820.568   \n",
       "4  civil partnership                 1      F     retiree     0     25378.572   \n",
       "\n",
       "                   purpose  \n",
       "0    purchase of the house  \n",
       "1             car purchase  \n",
       "2    purchase of the house  \n",
       "3  supplementary education  \n",
       "4        to have a wedding  "
      ]
     },
     "execution_count": 3,
     "metadata": {},
     "output_type": "execute_result"
    }
   ],
   "source": [
    "# Show the first lines of dataframe\n",
    "df.head()"
   ]
  },
  {
   "attachments": {},
   "cell_type": "markdown",
   "metadata": {},
   "source": [
    "### 1.2 Data exploration <a id='data_exploration'></a>"
   ]
  },
  {
   "cell_type": "markdown",
   "metadata": {},
   "source": [
    "**Data description**\n",
    "- `children` - the number of children in the family\n",
    "- `days_employed` - work experience in days\n",
    "- `dob_years` - the age of the client in years\n",
    "- `education` - customer education level\n",
    "- `education_id` - education identifier\n",
    "- `family_status` - marital status\n",
    "- `family_status_id` - family status identifier\n",
    "- `gender` - gender of the client\n",
    "- `income_type` - employment type\n",
    "- `debt` - was there any debt in repaying a loan?\n",
    "- `total_income` - monthly income\n",
    "- `purpose` - the purpose of obtaining a loan"
   ]
  },
  {
   "cell_type": "code",
   "execution_count": 4,
   "metadata": {},
   "outputs": [
    {
     "data": {
      "text/plain": [
       "(21525, 12)"
      ]
     },
     "execution_count": 4,
     "metadata": {},
     "output_type": "execute_result"
    }
   ],
   "source": [
    "# Let's see how many rows and columns our dataset has\n",
    "df.shape"
   ]
  },
  {
   "cell_type": "markdown",
   "metadata": {},
   "source": [
    "The initial dataframe is 21525 rows and 12 columns"
   ]
  },
  {
   "cell_type": "code",
   "execution_count": 5,
   "metadata": {
    "scrolled": true
   },
   "outputs": [
    {
     "data": {
      "text/html": [
       "<div>\n",
       "<style scoped>\n",
       "    .dataframe tbody tr th:only-of-type {\n",
       "        vertical-align: middle;\n",
       "    }\n",
       "\n",
       "    .dataframe tbody tr th {\n",
       "        vertical-align: top;\n",
       "    }\n",
       "\n",
       "    .dataframe thead th {\n",
       "        text-align: right;\n",
       "    }\n",
       "</style>\n",
       "<table border=\"1\" class=\"dataframe\">\n",
       "  <thead>\n",
       "    <tr style=\"text-align: right;\">\n",
       "      <th></th>\n",
       "      <th>children</th>\n",
       "      <th>days_employed</th>\n",
       "      <th>dob_years</th>\n",
       "      <th>education</th>\n",
       "      <th>education_id</th>\n",
       "      <th>family_status</th>\n",
       "      <th>family_status_id</th>\n",
       "      <th>gender</th>\n",
       "      <th>income_type</th>\n",
       "      <th>debt</th>\n",
       "      <th>total_income</th>\n",
       "      <th>purpose</th>\n",
       "    </tr>\n",
       "  </thead>\n",
       "  <tbody>\n",
       "    <tr>\n",
       "      <th>0</th>\n",
       "      <td>1</td>\n",
       "      <td>-8437.673028</td>\n",
       "      <td>42</td>\n",
       "      <td>bachelor's degree</td>\n",
       "      <td>0</td>\n",
       "      <td>married</td>\n",
       "      <td>0</td>\n",
       "      <td>F</td>\n",
       "      <td>employee</td>\n",
       "      <td>0</td>\n",
       "      <td>40620.102</td>\n",
       "      <td>purchase of the house</td>\n",
       "    </tr>\n",
       "    <tr>\n",
       "      <th>1</th>\n",
       "      <td>1</td>\n",
       "      <td>-4024.803754</td>\n",
       "      <td>36</td>\n",
       "      <td>secondary education</td>\n",
       "      <td>1</td>\n",
       "      <td>married</td>\n",
       "      <td>0</td>\n",
       "      <td>F</td>\n",
       "      <td>employee</td>\n",
       "      <td>0</td>\n",
       "      <td>17932.802</td>\n",
       "      <td>car purchase</td>\n",
       "    </tr>\n",
       "    <tr>\n",
       "      <th>2</th>\n",
       "      <td>0</td>\n",
       "      <td>-5623.422610</td>\n",
       "      <td>33</td>\n",
       "      <td>Secondary Education</td>\n",
       "      <td>1</td>\n",
       "      <td>married</td>\n",
       "      <td>0</td>\n",
       "      <td>M</td>\n",
       "      <td>employee</td>\n",
       "      <td>0</td>\n",
       "      <td>23341.752</td>\n",
       "      <td>purchase of the house</td>\n",
       "    </tr>\n",
       "    <tr>\n",
       "      <th>3</th>\n",
       "      <td>3</td>\n",
       "      <td>-4124.747207</td>\n",
       "      <td>32</td>\n",
       "      <td>secondary education</td>\n",
       "      <td>1</td>\n",
       "      <td>married</td>\n",
       "      <td>0</td>\n",
       "      <td>M</td>\n",
       "      <td>employee</td>\n",
       "      <td>0</td>\n",
       "      <td>42820.568</td>\n",
       "      <td>supplementary education</td>\n",
       "    </tr>\n",
       "    <tr>\n",
       "      <th>4</th>\n",
       "      <td>0</td>\n",
       "      <td>340266.072047</td>\n",
       "      <td>53</td>\n",
       "      <td>secondary education</td>\n",
       "      <td>1</td>\n",
       "      <td>civil partnership</td>\n",
       "      <td>1</td>\n",
       "      <td>F</td>\n",
       "      <td>retiree</td>\n",
       "      <td>0</td>\n",
       "      <td>25378.572</td>\n",
       "      <td>to have a wedding</td>\n",
       "    </tr>\n",
       "    <tr>\n",
       "      <th>5</th>\n",
       "      <td>0</td>\n",
       "      <td>-926.185831</td>\n",
       "      <td>27</td>\n",
       "      <td>bachelor's degree</td>\n",
       "      <td>0</td>\n",
       "      <td>civil partnership</td>\n",
       "      <td>1</td>\n",
       "      <td>M</td>\n",
       "      <td>business</td>\n",
       "      <td>0</td>\n",
       "      <td>40922.170</td>\n",
       "      <td>purchase of the house</td>\n",
       "    </tr>\n",
       "    <tr>\n",
       "      <th>6</th>\n",
       "      <td>0</td>\n",
       "      <td>-2879.202052</td>\n",
       "      <td>43</td>\n",
       "      <td>bachelor's degree</td>\n",
       "      <td>0</td>\n",
       "      <td>married</td>\n",
       "      <td>0</td>\n",
       "      <td>F</td>\n",
       "      <td>business</td>\n",
       "      <td>0</td>\n",
       "      <td>38484.156</td>\n",
       "      <td>housing transactions</td>\n",
       "    </tr>\n",
       "    <tr>\n",
       "      <th>7</th>\n",
       "      <td>0</td>\n",
       "      <td>-152.779569</td>\n",
       "      <td>50</td>\n",
       "      <td>SECONDARY EDUCATION</td>\n",
       "      <td>1</td>\n",
       "      <td>married</td>\n",
       "      <td>0</td>\n",
       "      <td>M</td>\n",
       "      <td>employee</td>\n",
       "      <td>0</td>\n",
       "      <td>21731.829</td>\n",
       "      <td>education</td>\n",
       "    </tr>\n",
       "    <tr>\n",
       "      <th>8</th>\n",
       "      <td>2</td>\n",
       "      <td>-6929.865299</td>\n",
       "      <td>35</td>\n",
       "      <td>BACHELOR'S DEGREE</td>\n",
       "      <td>0</td>\n",
       "      <td>civil partnership</td>\n",
       "      <td>1</td>\n",
       "      <td>F</td>\n",
       "      <td>employee</td>\n",
       "      <td>0</td>\n",
       "      <td>15337.093</td>\n",
       "      <td>having a wedding</td>\n",
       "    </tr>\n",
       "    <tr>\n",
       "      <th>9</th>\n",
       "      <td>0</td>\n",
       "      <td>-2188.756445</td>\n",
       "      <td>41</td>\n",
       "      <td>secondary education</td>\n",
       "      <td>1</td>\n",
       "      <td>married</td>\n",
       "      <td>0</td>\n",
       "      <td>M</td>\n",
       "      <td>employee</td>\n",
       "      <td>0</td>\n",
       "      <td>23108.150</td>\n",
       "      <td>purchase of the house for my family</td>\n",
       "    </tr>\n",
       "  </tbody>\n",
       "</table>\n",
       "</div>"
      ],
      "text/plain": [
       "   children  days_employed  dob_years            education  education_id  \\\n",
       "0         1   -8437.673028         42    bachelor's degree             0   \n",
       "1         1   -4024.803754         36  secondary education             1   \n",
       "2         0   -5623.422610         33  Secondary Education             1   \n",
       "3         3   -4124.747207         32  secondary education             1   \n",
       "4         0  340266.072047         53  secondary education             1   \n",
       "5         0    -926.185831         27    bachelor's degree             0   \n",
       "6         0   -2879.202052         43    bachelor's degree             0   \n",
       "7         0    -152.779569         50  SECONDARY EDUCATION             1   \n",
       "8         2   -6929.865299         35    BACHELOR'S DEGREE             0   \n",
       "9         0   -2188.756445         41  secondary education             1   \n",
       "\n",
       "       family_status  family_status_id gender income_type  debt  total_income  \\\n",
       "0            married                 0      F    employee     0     40620.102   \n",
       "1            married                 0      F    employee     0     17932.802   \n",
       "2            married                 0      M    employee     0     23341.752   \n",
       "3            married                 0      M    employee     0     42820.568   \n",
       "4  civil partnership                 1      F     retiree     0     25378.572   \n",
       "5  civil partnership                 1      M    business     0     40922.170   \n",
       "6            married                 0      F    business     0     38484.156   \n",
       "7            married                 0      M    employee     0     21731.829   \n",
       "8  civil partnership                 1      F    employee     0     15337.093   \n",
       "9            married                 0      M    employee     0     23108.150   \n",
       "\n",
       "                               purpose  \n",
       "0                purchase of the house  \n",
       "1                         car purchase  \n",
       "2                purchase of the house  \n",
       "3              supplementary education  \n",
       "4                    to have a wedding  \n",
       "5                purchase of the house  \n",
       "6                 housing transactions  \n",
       "7                            education  \n",
       "8                     having a wedding  \n",
       "9  purchase of the house for my family  "
      ]
     },
     "execution_count": 5,
     "metadata": {},
     "output_type": "execute_result"
    }
   ],
   "source": [
    "# Let's display the first 10 rows\n",
    "df.head(10)"
   ]
  },
  {
   "cell_type": "markdown",
   "metadata": {},
   "source": [
    "First thing that jumps to the eyes is the values in the column \"days_employed\": they are negative and this need further investigation. Moreover in the 'education' column we see lower and uppercase characters. We will fix it "
   ]
  },
  {
   "cell_type": "code",
   "execution_count": 6,
   "metadata": {
    "scrolled": false
   },
   "outputs": [
    {
     "name": "stdout",
     "output_type": "stream",
     "text": [
      "<class 'pandas.core.frame.DataFrame'>\n",
      "RangeIndex: 21525 entries, 0 to 21524\n",
      "Data columns (total 12 columns):\n",
      " #   Column            Non-Null Count  Dtype  \n",
      "---  ------            --------------  -----  \n",
      " 0   children          21525 non-null  int64  \n",
      " 1   days_employed     19351 non-null  float64\n",
      " 2   dob_years         21525 non-null  int64  \n",
      " 3   education         21525 non-null  object \n",
      " 4   education_id      21525 non-null  int64  \n",
      " 5   family_status     21525 non-null  object \n",
      " 6   family_status_id  21525 non-null  int64  \n",
      " 7   gender            21525 non-null  object \n",
      " 8   income_type       21525 non-null  object \n",
      " 9   debt              21525 non-null  int64  \n",
      " 10  total_income      19351 non-null  float64\n",
      " 11  purpose           21525 non-null  object \n",
      "dtypes: float64(2), int64(5), object(5)\n",
      "memory usage: 2.0+ MB\n"
     ]
    }
   ],
   "source": [
    "# Get insights into data info\n",
    "df.info()"
   ]
  },
  {
   "cell_type": "markdown",
   "metadata": {},
   "source": [
    "In the Dataframe some columns (days_employed, total_income) are not completely filled. For the moment, we leave that like this and soon we will evaluate if there's need to replace the \"null values\" or just dump them."
   ]
  },
  {
   "cell_type": "code",
   "execution_count": 7,
   "metadata": {
    "scrolled": true
   },
   "outputs": [
    {
     "data": {
      "text/html": [
       "<div>\n",
       "<style scoped>\n",
       "    .dataframe tbody tr th:only-of-type {\n",
       "        vertical-align: middle;\n",
       "    }\n",
       "\n",
       "    .dataframe tbody tr th {\n",
       "        vertical-align: top;\n",
       "    }\n",
       "\n",
       "    .dataframe thead th {\n",
       "        text-align: right;\n",
       "    }\n",
       "</style>\n",
       "<table border=\"1\" class=\"dataframe\">\n",
       "  <thead>\n",
       "    <tr style=\"text-align: right;\">\n",
       "      <th></th>\n",
       "      <th>children</th>\n",
       "      <th>days_employed</th>\n",
       "      <th>dob_years</th>\n",
       "      <th>education</th>\n",
       "      <th>education_id</th>\n",
       "      <th>family_status</th>\n",
       "      <th>family_status_id</th>\n",
       "      <th>gender</th>\n",
       "      <th>income_type</th>\n",
       "      <th>debt</th>\n",
       "      <th>total_income</th>\n",
       "      <th>purpose</th>\n",
       "    </tr>\n",
       "  </thead>\n",
       "  <tbody>\n",
       "    <tr>\n",
       "      <th>12</th>\n",
       "      <td>0</td>\n",
       "      <td>NaN</td>\n",
       "      <td>65</td>\n",
       "      <td>secondary education</td>\n",
       "      <td>1</td>\n",
       "      <td>civil partnership</td>\n",
       "      <td>1</td>\n",
       "      <td>M</td>\n",
       "      <td>retiree</td>\n",
       "      <td>0</td>\n",
       "      <td>NaN</td>\n",
       "      <td>to have a wedding</td>\n",
       "    </tr>\n",
       "    <tr>\n",
       "      <th>26</th>\n",
       "      <td>0</td>\n",
       "      <td>NaN</td>\n",
       "      <td>41</td>\n",
       "      <td>secondary education</td>\n",
       "      <td>1</td>\n",
       "      <td>married</td>\n",
       "      <td>0</td>\n",
       "      <td>M</td>\n",
       "      <td>civil servant</td>\n",
       "      <td>0</td>\n",
       "      <td>NaN</td>\n",
       "      <td>education</td>\n",
       "    </tr>\n",
       "    <tr>\n",
       "      <th>29</th>\n",
       "      <td>0</td>\n",
       "      <td>NaN</td>\n",
       "      <td>63</td>\n",
       "      <td>secondary education</td>\n",
       "      <td>1</td>\n",
       "      <td>unmarried</td>\n",
       "      <td>4</td>\n",
       "      <td>F</td>\n",
       "      <td>retiree</td>\n",
       "      <td>0</td>\n",
       "      <td>NaN</td>\n",
       "      <td>building a real estate</td>\n",
       "    </tr>\n",
       "    <tr>\n",
       "      <th>41</th>\n",
       "      <td>0</td>\n",
       "      <td>NaN</td>\n",
       "      <td>50</td>\n",
       "      <td>secondary education</td>\n",
       "      <td>1</td>\n",
       "      <td>married</td>\n",
       "      <td>0</td>\n",
       "      <td>F</td>\n",
       "      <td>civil servant</td>\n",
       "      <td>0</td>\n",
       "      <td>NaN</td>\n",
       "      <td>second-hand car purchase</td>\n",
       "    </tr>\n",
       "    <tr>\n",
       "      <th>55</th>\n",
       "      <td>0</td>\n",
       "      <td>NaN</td>\n",
       "      <td>54</td>\n",
       "      <td>secondary education</td>\n",
       "      <td>1</td>\n",
       "      <td>civil partnership</td>\n",
       "      <td>1</td>\n",
       "      <td>F</td>\n",
       "      <td>retiree</td>\n",
       "      <td>1</td>\n",
       "      <td>NaN</td>\n",
       "      <td>to have a wedding</td>\n",
       "    </tr>\n",
       "    <tr>\n",
       "      <th>...</th>\n",
       "      <td>...</td>\n",
       "      <td>...</td>\n",
       "      <td>...</td>\n",
       "      <td>...</td>\n",
       "      <td>...</td>\n",
       "      <td>...</td>\n",
       "      <td>...</td>\n",
       "      <td>...</td>\n",
       "      <td>...</td>\n",
       "      <td>...</td>\n",
       "      <td>...</td>\n",
       "      <td>...</td>\n",
       "    </tr>\n",
       "    <tr>\n",
       "      <th>21489</th>\n",
       "      <td>2</td>\n",
       "      <td>NaN</td>\n",
       "      <td>47</td>\n",
       "      <td>Secondary Education</td>\n",
       "      <td>1</td>\n",
       "      <td>married</td>\n",
       "      <td>0</td>\n",
       "      <td>M</td>\n",
       "      <td>business</td>\n",
       "      <td>0</td>\n",
       "      <td>NaN</td>\n",
       "      <td>purchase of a car</td>\n",
       "    </tr>\n",
       "    <tr>\n",
       "      <th>21495</th>\n",
       "      <td>1</td>\n",
       "      <td>NaN</td>\n",
       "      <td>50</td>\n",
       "      <td>secondary education</td>\n",
       "      <td>1</td>\n",
       "      <td>civil partnership</td>\n",
       "      <td>1</td>\n",
       "      <td>F</td>\n",
       "      <td>employee</td>\n",
       "      <td>0</td>\n",
       "      <td>NaN</td>\n",
       "      <td>wedding ceremony</td>\n",
       "    </tr>\n",
       "    <tr>\n",
       "      <th>21497</th>\n",
       "      <td>0</td>\n",
       "      <td>NaN</td>\n",
       "      <td>48</td>\n",
       "      <td>BACHELOR'S DEGREE</td>\n",
       "      <td>0</td>\n",
       "      <td>married</td>\n",
       "      <td>0</td>\n",
       "      <td>F</td>\n",
       "      <td>business</td>\n",
       "      <td>0</td>\n",
       "      <td>NaN</td>\n",
       "      <td>building a property</td>\n",
       "    </tr>\n",
       "    <tr>\n",
       "      <th>21502</th>\n",
       "      <td>1</td>\n",
       "      <td>NaN</td>\n",
       "      <td>42</td>\n",
       "      <td>secondary education</td>\n",
       "      <td>1</td>\n",
       "      <td>married</td>\n",
       "      <td>0</td>\n",
       "      <td>F</td>\n",
       "      <td>employee</td>\n",
       "      <td>0</td>\n",
       "      <td>NaN</td>\n",
       "      <td>building a real estate</td>\n",
       "    </tr>\n",
       "    <tr>\n",
       "      <th>21510</th>\n",
       "      <td>2</td>\n",
       "      <td>NaN</td>\n",
       "      <td>28</td>\n",
       "      <td>secondary education</td>\n",
       "      <td>1</td>\n",
       "      <td>married</td>\n",
       "      <td>0</td>\n",
       "      <td>F</td>\n",
       "      <td>employee</td>\n",
       "      <td>0</td>\n",
       "      <td>NaN</td>\n",
       "      <td>car purchase</td>\n",
       "    </tr>\n",
       "  </tbody>\n",
       "</table>\n",
       "<p>2174 rows × 12 columns</p>\n",
       "</div>"
      ],
      "text/plain": [
       "       children  days_employed  dob_years            education  education_id  \\\n",
       "12            0            NaN         65  secondary education             1   \n",
       "26            0            NaN         41  secondary education             1   \n",
       "29            0            NaN         63  secondary education             1   \n",
       "41            0            NaN         50  secondary education             1   \n",
       "55            0            NaN         54  secondary education             1   \n",
       "...         ...            ...        ...                  ...           ...   \n",
       "21489         2            NaN         47  Secondary Education             1   \n",
       "21495         1            NaN         50  secondary education             1   \n",
       "21497         0            NaN         48    BACHELOR'S DEGREE             0   \n",
       "21502         1            NaN         42  secondary education             1   \n",
       "21510         2            NaN         28  secondary education             1   \n",
       "\n",
       "           family_status  family_status_id gender    income_type  debt  \\\n",
       "12     civil partnership                 1      M        retiree     0   \n",
       "26               married                 0      M  civil servant     0   \n",
       "29             unmarried                 4      F        retiree     0   \n",
       "41               married                 0      F  civil servant     0   \n",
       "55     civil partnership                 1      F        retiree     1   \n",
       "...                  ...               ...    ...            ...   ...   \n",
       "21489            married                 0      M       business     0   \n",
       "21495  civil partnership                 1      F       employee     0   \n",
       "21497            married                 0      F       business     0   \n",
       "21502            married                 0      F       employee     0   \n",
       "21510            married                 0      F       employee     0   \n",
       "\n",
       "       total_income                   purpose  \n",
       "12              NaN         to have a wedding  \n",
       "26              NaN                 education  \n",
       "29              NaN    building a real estate  \n",
       "41              NaN  second-hand car purchase  \n",
       "55              NaN         to have a wedding  \n",
       "...             ...                       ...  \n",
       "21489           NaN         purchase of a car  \n",
       "21495           NaN          wedding ceremony  \n",
       "21497           NaN       building a property  \n",
       "21502           NaN    building a real estate  \n",
       "21510           NaN              car purchase  \n",
       "\n",
       "[2174 rows x 12 columns]"
      ]
     },
     "execution_count": 7,
     "metadata": {},
     "output_type": "execute_result"
    }
   ],
   "source": [
    "# Let's look at the filtered table with missing values from the first column where data is missing\n",
    "df[df['days_employed'].isna()]"
   ]
  },
  {
   "cell_type": "markdown",
   "metadata": {},
   "source": [
    "We notice that there are 2174 absent values in \"days_employed\" and we realize that for every row in which \"days_employed\" is absent, \"total_income\" is absent too."
   ]
  },
  {
   "cell_type": "code",
   "execution_count": 8,
   "metadata": {},
   "outputs": [
    {
     "data": {
      "text/plain": [
       "2174"
      ]
     },
     "execution_count": 8,
     "metadata": {},
     "output_type": "execute_result"
    }
   ],
   "source": [
    "# Let's apply multiple conditions to filter data and see the number of rows in the filtered table.\n",
    "filtro_days_employed = df['days_employed'].isna()\n",
    "filtro_total_income = df['total_income'].isna()\n",
    "bank_list = df[filtro_days_employed & filtro_total_income]\n",
    "\n",
    "len(bank_list)\n"
   ]
  },
  {
   "cell_type": "markdown",
   "metadata": {},
   "source": [
    "**Conclusion**\n",
    "\n",
    "We see that the number of filtered values, that are the rows in which both 'days_employed' and 'total_income' are absent, is equal to the null values in the original dataframe. So, we can assume that there is a link between 'days_employed' and 'total_income'."
   ]
  },
  {
   "cell_type": "code",
   "execution_count": 9,
   "metadata": {},
   "outputs": [
    {
     "name": "stdout",
     "output_type": "stream",
     "text": [
      "Percentage of number of filtered values over the original dataframe values: 10%\n"
     ]
    }
   ],
   "source": [
    "# Let's see what percentage of rows with missing values are out of the total data frame\n",
    "perce =len(bank_list)/len(df)\n",
    "print(f'Percentage of number of filtered values over the original dataframe values: {perce:.0%}')"
   ]
  },
  {
   "cell_type": "markdown",
   "metadata": {},
   "source": [
    "The percentage of the rows with missing values over the rows of the initial dataframe is +/- 10%.\n",
    "I do not see any relation between the absence of values and some specific feature in the row.\n",
    "\n",
    "Since 10% don't seem to me a scary value, I will compare the relation of every feature (column) with the original dataframe and the dataframe composed only by rows with missing values"
   ]
  },
  {
   "cell_type": "code",
   "execution_count": 10,
   "metadata": {},
   "outputs": [
    {
     "name": "stdout",
     "output_type": "stream",
     "text": [
      "Relation with 'n of children' before filtering null values\n",
      " 0     14149\n",
      " 1      4818\n",
      " 2      2055\n",
      " 3       330\n",
      " 20       76\n",
      "-1        47\n",
      " 4        41\n",
      " 5         9\n",
      "Name: children, dtype: int64\n",
      "\n",
      "Relation with 'n of children' before filtering null values (percentage of the total)\n",
      " 0     65.732869\n",
      " 1     22.383275\n",
      " 2      9.547038\n",
      " 3      1.533101\n",
      " 20     0.353078\n",
      "-1      0.218351\n",
      " 4      0.190476\n",
      " 5      0.041812\n",
      "Name: children, dtype: float64\n",
      "\n"
     ]
    }
   ],
   "source": [
    "# We are going to investigate the clients that do not have data on the identified characteristic and the column with the missing values\n",
    "print(\"Relation with 'n of children' before filtering null values\")\n",
    "print(df['children'].value_counts())\n",
    "print()\n",
    "print(\"Relation with 'n of children' before filtering null values (percentage of the total)\")\n",
    "print(100*df['children'].value_counts()/df['children'].count())\n",
    "print()\n"
   ]
  },
  {
   "cell_type": "code",
   "execution_count": 11,
   "metadata": {},
   "outputs": [
    {
     "name": "stdout",
     "output_type": "stream",
     "text": [
      "Relation with 'n of children' with null values filtering\n",
      " 0     1439\n",
      " 1      475\n",
      " 2      204\n",
      " 3       36\n",
      " 20       9\n",
      " 4        7\n",
      "-1        3\n",
      " 5        1\n",
      "Name: children, dtype: int64\n",
      "\n",
      "Relation with 'n of children' with null values filtering (percentage of the total)\n",
      " 0     66.191352\n",
      " 1     21.849126\n",
      " 2      9.383625\n",
      " 3      1.655934\n",
      " 20     0.413983\n",
      " 4      0.321987\n",
      "-1      0.137994\n",
      " 5      0.045998\n",
      "Name: children, dtype: float64\n"
     ]
    }
   ],
   "source": [
    "print(\"Relation with 'n of children' with null values filtering\")\n",
    "print(bank_list['children'].value_counts())\n",
    "print()\n",
    "print(\"Relation with 'n of children' with null values filtering (percentage of the total)\")\n",
    "print(100*bank_list['children'].value_counts()/bank_list['children'].count())"
   ]
  },
  {
   "cell_type": "markdown",
   "metadata": {},
   "source": [
    "The relation between the 2 cases is coherent. So, we can confirm there's no actual connection between the n of children and the absent values"
   ]
  },
  {
   "cell_type": "markdown",
   "metadata": {},
   "source": [
    "Lets do the same with age:"
   ]
  },
  {
   "cell_type": "code",
   "execution_count": 12,
   "metadata": {},
   "outputs": [
    {
     "name": "stdout",
     "output_type": "stream",
     "text": [
      "Relation with 'age' before filtering null values\n",
      "35    617\n",
      "40    609\n",
      "41    607\n",
      "34    603\n",
      "38    598\n",
      "Name: dob_years, dtype: int64\n",
      "\n",
      "Relation with 'age' before filtering null values (percentage of the total)\n",
      "35    2.866434\n",
      "40    2.829268\n",
      "41    2.819977\n",
      "34    2.801394\n",
      "38    2.778165\n",
      "Name: dob_years, dtype: float64\n"
     ]
    }
   ],
   "source": [
    "print(\"Relation with 'age' before filtering null values\")\n",
    "print(df['dob_years'].value_counts().head())\n",
    "print()\n",
    "print(\"Relation with 'age' before filtering null values (percentage of the total)\")\n",
    "print((100*df['dob_years'].value_counts()/df['dob_years'].count()).head())"
   ]
  },
  {
   "cell_type": "code",
   "execution_count": 13,
   "metadata": {},
   "outputs": [
    {
     "name": "stdout",
     "output_type": "stream",
     "text": [
      "Relation with 'age' with null values filtering\n",
      "34    69\n",
      "40    66\n",
      "42    65\n",
      "31    65\n",
      "35    64\n",
      "Name: dob_years, dtype: int64\n",
      "\n",
      "Relation with 'age' with null values filtering (percentage of the total)\n",
      "34    3.173873\n",
      "40    3.035879\n",
      "42    2.989880\n",
      "31    2.989880\n",
      "35    2.943882\n",
      "Name: dob_years, dtype: float64\n"
     ]
    }
   ],
   "source": [
    "print(\"Relation with 'age' with null values filtering\")\n",
    "print(bank_list['dob_years'].value_counts().head())\n",
    "print()\n",
    "print(\"Relation with 'age' with null values filtering (percentage of the total)\")\n",
    "print((100*bank_list['dob_years'].value_counts()/bank_list['dob_years'].count()).head())"
   ]
  },
  {
   "cell_type": "markdown",
   "metadata": {},
   "source": [
    "The relation between the 2 cases is coherent. So, we can confirm there's no actual connection between the age and the absent values"
   ]
  },
  {
   "cell_type": "markdown",
   "metadata": {},
   "source": [
    "Lets do the same with education:"
   ]
  },
  {
   "cell_type": "code",
   "execution_count": 14,
   "metadata": {},
   "outputs": [
    {
     "name": "stdout",
     "output_type": "stream",
     "text": [
      "Relation with 'education' before filtering null values\n",
      "secondary education    13750\n",
      "bachelor's degree       4718\n",
      "SECONDARY EDUCATION      772\n",
      "Secondary Education      711\n",
      "some college             668\n",
      "BACHELOR'S DEGREE        274\n",
      "Bachelor's Degree        268\n",
      "primary education        250\n",
      "Some College              47\n",
      "SOME COLLEGE              29\n",
      "PRIMARY EDUCATION         17\n",
      "Primary Education         15\n",
      "graduate degree            4\n",
      "Graduate Degree            1\n",
      "GRADUATE DEGREE            1\n",
      "Name: education, dtype: int64\n",
      "\n",
      "Relation with 'education' before filtering null values (percentage of the total)\n",
      "secondary education    63.879210\n",
      "bachelor's degree      21.918699\n",
      "SECONDARY EDUCATION     3.586527\n",
      "Secondary Education     3.303136\n",
      "some college            3.103368\n",
      "BACHELOR'S DEGREE       1.272938\n",
      "Bachelor's Degree       1.245064\n",
      "primary education       1.161440\n",
      "Some College            0.218351\n",
      "SOME COLLEGE            0.134727\n",
      "PRIMARY EDUCATION       0.078978\n",
      "Primary Education       0.069686\n",
      "graduate degree         0.018583\n",
      "Graduate Degree         0.004646\n",
      "GRADUATE DEGREE         0.004646\n",
      "Name: education, dtype: float64\n"
     ]
    }
   ],
   "source": [
    "print(\"Relation with 'education' before filtering null values\")\n",
    "print(df['education'].value_counts())\n",
    "print()\n",
    "print(\"Relation with 'education' before filtering null values (percentage of the total)\")\n",
    "print((100*df['education'].value_counts()/df['education'].count()))"
   ]
  },
  {
   "cell_type": "code",
   "execution_count": 15,
   "metadata": {},
   "outputs": [
    {
     "name": "stdout",
     "output_type": "stream",
     "text": [
      "Relation with 'education' with null values filtering\n",
      "secondary education    1408\n",
      "bachelor's degree       496\n",
      "SECONDARY EDUCATION      67\n",
      "Secondary Education      65\n",
      "some college             55\n",
      "Bachelor's Degree        25\n",
      "BACHELOR'S DEGREE        23\n",
      "primary education        19\n",
      "Some College              7\n",
      "SOME COLLEGE              7\n",
      "Primary Education         1\n",
      "PRIMARY EDUCATION         1\n",
      "Name: education, dtype: int64\n",
      "\n",
      "Relation with 'education' with null values filtering (percentage of the total)\n",
      "secondary education    64.765409\n",
      "bachelor's degree      22.815087\n",
      "SECONDARY EDUCATION     3.081877\n",
      "Secondary Education     2.989880\n",
      "some college            2.529899\n",
      "Bachelor's Degree       1.149954\n",
      "BACHELOR'S DEGREE       1.057958\n",
      "primary education       0.873965\n",
      "Some College            0.321987\n",
      "SOME COLLEGE            0.321987\n",
      "Primary Education       0.045998\n",
      "PRIMARY EDUCATION       0.045998\n",
      "Name: education, dtype: float64\n"
     ]
    }
   ],
   "source": [
    "print(\"Relation with 'education' with null values filtering\")\n",
    "print(bank_list['education'].value_counts())\n",
    "print()\n",
    "print(\"Relation with 'education' with null values filtering (percentage of the total)\")\n",
    "print((100*bank_list['education'].value_counts()/bank_list['education'].count()))"
   ]
  },
  {
   "cell_type": "markdown",
   "metadata": {},
   "source": [
    "The relation between the 2 cases is coherent. So, we can confirm there's no actual connection between the education and the absent values"
   ]
  },
  {
   "cell_type": "markdown",
   "metadata": {},
   "source": [
    "Lets do the same with family status:"
   ]
  },
  {
   "cell_type": "code",
   "execution_count": 16,
   "metadata": {
    "tags": []
   },
   "outputs": [
    {
     "name": "stdout",
     "output_type": "stream",
     "text": [
      "Relation with 'family status' before filtering null values\n",
      "married              12380\n",
      "civil partnership     4177\n",
      "unmarried             2813\n",
      "divorced              1195\n",
      "widow / widower        960\n",
      "Name: family_status, dtype: int64\n",
      "\n",
      "Relation with 'family status' before filtering null values (percentage of the total)\n",
      "married              57.514518\n",
      "civil partnership    19.405343\n",
      "unmarried            13.068525\n",
      "divorced              5.551684\n",
      "widow / widower       4.459930\n",
      "Name: family_status, dtype: float64\n"
     ]
    }
   ],
   "source": [
    "print(\"Relation with 'family status' before filtering null values\")\n",
    "print(df['family_status'].value_counts())\n",
    "print()\n",
    "print(\"Relation with 'family status' before filtering null values (percentage of the total)\")\n",
    "print((100*df['family_status'].value_counts()/df['family_status'].count()))"
   ]
  },
  {
   "cell_type": "code",
   "execution_count": 17,
   "metadata": {},
   "outputs": [
    {
     "name": "stdout",
     "output_type": "stream",
     "text": [
      "Relation with 'family status' with null values filtering\n",
      "married              1237\n",
      "civil partnership     442\n",
      "unmarried             288\n",
      "divorced              112\n",
      "widow / widower        95\n",
      "Name: family_status, dtype: int64\n",
      "\n",
      "Relation with 'family status' with null values filtering (percentage of the total)\n",
      "married              56.899724\n",
      "civil partnership    20.331187\n",
      "unmarried            13.247470\n",
      "divorced              5.151794\n",
      "widow / widower       4.369825\n",
      "Name: family_status, dtype: float64\n"
     ]
    }
   ],
   "source": [
    "print(\"Relation with 'family status' with null values filtering\")\n",
    "print(bank_list['family_status'].value_counts())\n",
    "print()\n",
    "print(\"Relation with 'family status' with null values filtering (percentage of the total)\")\n",
    "print((100*bank_list['family_status'].value_counts()/bank_list['family_status'].count()))"
   ]
  },
  {
   "cell_type": "markdown",
   "metadata": {},
   "source": [
    "The relation between the 2 cases is coherent. So, we can confirm there's no actual connection between the family status and the absent values"
   ]
  },
  {
   "cell_type": "markdown",
   "metadata": {},
   "source": [
    "\n",
    "\n",
    "Lets do the same with gender:"
   ]
  },
  {
   "cell_type": "code",
   "execution_count": 18,
   "metadata": {},
   "outputs": [
    {
     "name": "stdout",
     "output_type": "stream",
     "text": [
      "Relation with 'gender' before filtering null values\n",
      "F      14236\n",
      "M       7288\n",
      "XNA        1\n",
      "Name: gender, dtype: int64\n",
      "\n",
      "Relation with 'gender' before filtering null values (percentage of the total)\n",
      "F      66.137050\n",
      "M      33.858304\n",
      "XNA     0.004646\n",
      "Name: gender, dtype: float64\n"
     ]
    }
   ],
   "source": [
    "print(\"Relation with 'gender' before filtering null values\")\n",
    "print(df['gender'].value_counts())\n",
    "print()\n",
    "print(\"Relation with 'gender' before filtering null values (percentage of the total)\")\n",
    "print((100*df['gender'].value_counts()/df['gender'].count()))"
   ]
  },
  {
   "cell_type": "code",
   "execution_count": 19,
   "metadata": {},
   "outputs": [
    {
     "name": "stdout",
     "output_type": "stream",
     "text": [
      "Relation with 'gender' with null values filtering\n",
      "F    1484\n",
      "M     690\n",
      "Name: gender, dtype: int64\n",
      "\n",
      "Relation with 'gender' with null values filtering (percentage of the total)\n",
      "F    68.26127\n",
      "M    31.73873\n",
      "Name: gender, dtype: float64\n"
     ]
    }
   ],
   "source": [
    "print(\"Relation with 'gender' with null values filtering\")\n",
    "print(bank_list['gender'].value_counts())\n",
    "print()\n",
    "print(\"Relation with 'gender' with null values filtering (percentage of the total)\")\n",
    "print((100*bank_list['gender'].value_counts()/bank_list['gender'].count()))"
   ]
  },
  {
   "cell_type": "markdown",
   "metadata": {},
   "source": [
    "The relation between the 2 cases is coherent. So, we can confirm there's no actual connection between the gender and the absent values"
   ]
  },
  {
   "cell_type": "markdown",
   "metadata": {},
   "source": [
    "Lets do the same with income type:"
   ]
  },
  {
   "cell_type": "code",
   "execution_count": 20,
   "metadata": {},
   "outputs": [
    {
     "name": "stdout",
     "output_type": "stream",
     "text": [
      "Relation with 'income_type' before filtering null values\n",
      "employee                       11119\n",
      "business                        5085\n",
      "retiree                         3856\n",
      "civil servant                   1459\n",
      "unemployed                         2\n",
      "entrepreneur                       2\n",
      "student                            1\n",
      "paternity / maternity leave        1\n",
      "Name: income_type, dtype: int64\n",
      "\n",
      "Relation with 'income_type' before filtering null values (percentage of the total)\n",
      "employee                       51.656214\n",
      "business                       23.623693\n",
      "retiree                        17.914053\n",
      "civil servant                   6.778165\n",
      "unemployed                      0.009292\n",
      "entrepreneur                    0.009292\n",
      "student                         0.004646\n",
      "paternity / maternity leave     0.004646\n",
      "Name: income_type, dtype: float64\n"
     ]
    }
   ],
   "source": [
    "print(\"Relation with 'income_type' before filtering null values\")\n",
    "print(df['income_type'].value_counts())\n",
    "print()\n",
    "print(\"Relation with 'income_type' before filtering null values (percentage of the total)\")\n",
    "print((100*df['income_type'].value_counts()/df['income_type'].count()))"
   ]
  },
  {
   "cell_type": "code",
   "execution_count": 21,
   "metadata": {},
   "outputs": [
    {
     "name": "stdout",
     "output_type": "stream",
     "text": [
      "Relation with 'income_type' with null values filtering\n",
      "employee         1105\n",
      "business          508\n",
      "retiree           413\n",
      "civil servant     147\n",
      "entrepreneur        1\n",
      "Name: income_type, dtype: int64\n",
      "\n",
      "Relation with 'income_type' with null values filtering (percentage of the total)\n",
      "employee         50.827967\n",
      "business         23.367065\n",
      "retiree          18.997240\n",
      "civil servant     6.761730\n",
      "entrepreneur      0.045998\n",
      "Name: income_type, dtype: float64\n"
     ]
    }
   ],
   "source": [
    "print(\"Relation with 'income_type' with null values filtering\")\n",
    "print(bank_list['income_type'].value_counts())\n",
    "print()\n",
    "print(\"Relation with 'income_type' with null values filtering (percentage of the total)\")\n",
    "print((100*bank_list['income_type'].value_counts()/bank_list['income_type'].count()))"
   ]
  },
  {
   "cell_type": "markdown",
   "metadata": {},
   "source": [
    "The relation between the 2 cases is coherent. So, we can confirm there's no actual connection between the income type and the absent values"
   ]
  },
  {
   "cell_type": "markdown",
   "metadata": {},
   "source": [
    "Lets do the same with debt:"
   ]
  },
  {
   "cell_type": "code",
   "execution_count": 22,
   "metadata": {},
   "outputs": [
    {
     "name": "stdout",
     "output_type": "stream",
     "text": [
      "Relation with 'debt' before filtering null values\n",
      "0    19784\n",
      "1     1741\n",
      "Name: debt, dtype: int64\n",
      "\n",
      "Relation with 'debt' before filtering null values (percentage of the total)\n",
      "0    91.911731\n",
      "1     8.088269\n",
      "Name: debt, dtype: float64\n"
     ]
    }
   ],
   "source": [
    "print(\"Relation with 'debt' before filtering null values\")\n",
    "print(df['debt'].value_counts())\n",
    "print()\n",
    "print(\"Relation with 'debt' before filtering null values (percentage of the total)\")\n",
    "print((100*df['debt'].value_counts()/df['debt'].count()))"
   ]
  },
  {
   "cell_type": "code",
   "execution_count": 23,
   "metadata": {},
   "outputs": [
    {
     "name": "stdout",
     "output_type": "stream",
     "text": [
      "Relation with 'debt' with null values filtering\n",
      "0    2004\n",
      "1     170\n",
      "Name: debt, dtype: int64\n",
      "\n",
      "Relation with 'debt' with null values filtering (percentage of the total)\n",
      "0    92.180313\n",
      "1     7.819687\n",
      "Name: debt, dtype: float64\n"
     ]
    }
   ],
   "source": [
    "print(\"Relation with 'debt' with null values filtering\")\n",
    "print(bank_list['debt'].value_counts())\n",
    "print()\n",
    "print(\"Relation with 'debt' with null values filtering (percentage of the total)\")\n",
    "print((100*bank_list['debt'].value_counts()/bank_list['debt'].count()))"
   ]
  },
  {
   "cell_type": "markdown",
   "metadata": {},
   "source": [
    "The relation between the 2 cases is coherent. So, we can confirm there's no actual connection between the debt and the absent values"
   ]
  },
  {
   "cell_type": "markdown",
   "metadata": {},
   "source": [
    "Lets do the same with purpose:"
   ]
  },
  {
   "cell_type": "code",
   "execution_count": 24,
   "metadata": {},
   "outputs": [
    {
     "name": "stdout",
     "output_type": "stream",
     "text": [
      "Relation with 'purpose' before filtering null values\n",
      "wedding ceremony              797\n",
      "having a wedding              777\n",
      "to have a wedding             774\n",
      "real estate transactions      676\n",
      "buy commercial real estate    664\n",
      "Name: purpose, dtype: int64\n",
      "\n",
      "Relation with 'purpose' before filtering null values (percentage of the total)\n",
      "wedding ceremony              3.702671\n",
      "having a wedding              3.609756\n",
      "to have a wedding             3.595819\n",
      "real estate transactions      3.140534\n",
      "buy commercial real estate    3.084785\n",
      "Name: purpose, dtype: float64\n"
     ]
    }
   ],
   "source": [
    "print(\"Relation with 'purpose' before filtering null values\")\n",
    "print(df['purpose'].value_counts().head())\n",
    "print()\n",
    "print(\"Relation with 'purpose' before filtering null values (percentage of the total)\")\n",
    "print((100*df['purpose'].value_counts()/df['purpose'].count()).head())"
   ]
  },
  {
   "cell_type": "code",
   "execution_count": 25,
   "metadata": {},
   "outputs": [
    {
     "name": "stdout",
     "output_type": "stream",
     "text": [
      "Relation with 'purpose' with null values filtering\n",
      "having a wedding                92\n",
      "to have a wedding               81\n",
      "wedding ceremony                76\n",
      "construction of own property    75\n",
      "housing transactions            74\n",
      "Name: purpose, dtype: int64\n",
      "\n",
      "Relation with 'purpose' with null values filtering (percentage of the total)\n",
      "having a wedding                4.231831\n",
      "to have a wedding               3.725851\n",
      "wedding ceremony                3.495860\n",
      "construction of own property    3.449862\n",
      "housing transactions            3.403864\n",
      "Name: purpose, dtype: float64\n"
     ]
    }
   ],
   "source": [
    "print(\"Relation with 'purpose' with null values filtering\")\n",
    "print(bank_list['purpose'].value_counts().head())\n",
    "print()\n",
    "print(\"Relation with 'purpose' with null values filtering (percentage of the total)\")\n",
    "print((100*bank_list['purpose'].value_counts()/bank_list['purpose'].count()).head())"
   ]
  },
  {
   "cell_type": "markdown",
   "metadata": {},
   "source": [
    "The relation between the 2 cases is coherent. So, we can confirm there's no actual connection between the purpose and the absent values"
   ]
  },
  {
   "cell_type": "markdown",
   "metadata": {},
   "source": [
    "So, the comparation between the dataframe with filtered valued and the initial dataframe brings us to say that the relation between the 1st, 2nd and 3rd values are pretty similar for all the features.\n",
    "\n",
    "Anyway, I do not think the absent values are due to something in particular. This means their absence is aleatory."
   ]
  },
  {
   "attachments": {},
   "cell_type": "markdown",
   "metadata": {},
   "source": [
    "## Stage 2. Data preprocessing <a id='data_preprocessing'></a>"
   ]
  },
  {
   "attachments": {},
   "cell_type": "markdown",
   "metadata": {},
   "source": [
    "### 2.1 Data preparation <a id='data_preparation'></a>"
   ]
  },
  {
   "cell_type": "code",
   "execution_count": 26,
   "metadata": {},
   "outputs": [
    {
     "data": {
      "text/plain": [
       "array([\"BACHELOR'S DEGREE\", \"Bachelor's Degree\", 'GRADUATE DEGREE',\n",
       "       'Graduate Degree', 'PRIMARY EDUCATION', 'Primary Education',\n",
       "       'SECONDARY EDUCATION', 'SOME COLLEGE', 'Secondary Education',\n",
       "       'Some College', \"bachelor's degree\", 'graduate degree',\n",
       "       'primary education', 'secondary education', 'some college'],\n",
       "      dtype=object)"
      ]
     },
     "execution_count": 26,
     "metadata": {},
     "output_type": "execute_result"
    }
   ],
   "source": [
    "# Let's look at all the values in the 'education' column to see if the spelling will need to be corrected and what exactly will need to be corrected\n",
    "df['education'].sort_values().unique()"
   ]
  },
  {
   "cell_type": "markdown",
   "metadata": {},
   "source": [
    "Concerning the 'education' column, there many values that indicate the same thing, so we take care about it in the following"
   ]
  },
  {
   "cell_type": "code",
   "execution_count": 27,
   "metadata": {
    "scrolled": true
   },
   "outputs": [],
   "source": [
    "df['education'] = df['education'].str.lower()"
   ]
  },
  {
   "cell_type": "code",
   "execution_count": 28,
   "metadata": {},
   "outputs": [
    {
     "data": {
      "text/plain": [
       "array([\"bachelor's degree\", 'graduate degree', 'primary education',\n",
       "       'secondary education', 'some college'], dtype=object)"
      ]
     },
     "execution_count": 28,
     "metadata": {},
     "output_type": "execute_result"
    }
   ],
   "source": [
    "# Checking all the values in the column to make sure we have corrected them\n",
    "df['education'].sort_values().unique()"
   ]
  },
  {
   "cell_type": "code",
   "execution_count": 29,
   "metadata": {},
   "outputs": [
    {
     "data": {
      "text/plain": [
       " 0     14149\n",
       " 1      4818\n",
       " 2      2055\n",
       " 3       330\n",
       " 20       76\n",
       "-1        47\n",
       " 4        41\n",
       " 5         9\n",
       "Name: children, dtype: int64"
      ]
     },
     "execution_count": 29,
     "metadata": {},
     "output_type": "execute_result"
    }
   ],
   "source": [
    "# Let's see the distribution of values in the `children` column\n",
    "df['children'].value_counts()"
   ]
  },
  {
   "cell_type": "markdown",
   "metadata": {},
   "source": [
    "There are some anomalies in this column:\n",
    "- 20 children seems absurd\n",
    "- -1 children is not acceptable\n",
    "\n",
    "In my opinion, they are both error of typing: '20' means '2' and '-1' means '1'\n",
    "\n",
    "So, I arrange the new dataframe with both corrections\n"
   ]
  },
  {
   "cell_type": "code",
   "execution_count": 30,
   "metadata": {},
   "outputs": [],
   "source": [
    "df.loc[df['children'] == 20, 'children'] = 2\n",
    "df.loc[df['children'] == -1, 'children'] = 1"
   ]
  },
  {
   "cell_type": "code",
   "execution_count": 31,
   "metadata": {},
   "outputs": [
    {
     "data": {
      "text/plain": [
       "0    14149\n",
       "1     4865\n",
       "2     2131\n",
       "3      330\n",
       "4       41\n",
       "5        9\n",
       "Name: children, dtype: int64"
      ]
     },
     "execution_count": 31,
     "metadata": {},
     "output_type": "execute_result"
    }
   ],
   "source": [
    "# Check the `children` column again to make sure everything is fixed\n",
    "df['children'].value_counts()"
   ]
  },
  {
   "cell_type": "markdown",
   "metadata": {},
   "source": [
    "Just keep in mind that we are making an assumption about the nature of the errors and it is not wrong in this case to assume that it is a typo, but these modifications with a larger volume of data can alter the behavior of the information. On another occasion, it would be necessary to discuss with those in charge of collecting information."
   ]
  },
  {
   "cell_type": "markdown",
   "metadata": {},
   "source": [
    "Now we are going to see if there is some problem among the column of age"
   ]
  },
  {
   "cell_type": "code",
   "execution_count": 32,
   "metadata": {
    "scrolled": true
   },
   "outputs": [
    {
     "data": {
      "text/plain": [
       "array([ 0, 19, 20, 21, 22, 23, 24, 25, 26, 27, 28, 29, 30, 31, 32, 33, 34,\n",
       "       35, 36, 37, 38, 39, 40, 41, 42, 43, 44, 45, 46, 47, 48, 49, 50, 51,\n",
       "       52, 53, 54, 55, 56, 57, 58, 59, 60, 61, 62, 63, 64, 65, 66, 67, 68,\n",
       "       69, 70, 71, 72, 73, 74, 75], dtype=int64)"
      ]
     },
     "execution_count": 32,
     "metadata": {},
     "output_type": "execute_result"
    }
   ],
   "source": [
    "df['dob_years'].sort_values().unique()"
   ]
  },
  {
   "cell_type": "markdown",
   "metadata": {},
   "source": [
    "In the 'dob_years' column the only thing that is not acceptable is 0 (zero), so we replace this value with the median of the column without 0 (zero)."
   ]
  },
  {
   "cell_type": "code",
   "execution_count": 33,
   "metadata": {},
   "outputs": [
    {
     "data": {
      "text/plain": [
       "43.0"
      ]
     },
     "execution_count": 33,
     "metadata": {},
     "output_type": "execute_result"
    }
   ],
   "source": [
    "median_age = df.loc[df['dob_years'] != 0, 'dob_years'].median()\n",
    "median_age"
   ]
  },
  {
   "cell_type": "markdown",
   "metadata": {},
   "source": [
    "Lets now assign this median value to it:"
   ]
  },
  {
   "cell_type": "code",
   "execution_count": 34,
   "metadata": {},
   "outputs": [],
   "source": [
    "df.loc[df['dob_years'] == 0, 'dob_years'] = median_age"
   ]
  },
  {
   "cell_type": "markdown",
   "metadata": {},
   "source": [
    "We verify:"
   ]
  },
  {
   "cell_type": "code",
   "execution_count": 35,
   "metadata": {},
   "outputs": [
    {
     "data": {
      "text/plain": [
       "array([19, 20, 21, 22, 23, 24, 25, 26, 27, 28, 29, 30, 31, 32, 33, 34, 35,\n",
       "       36, 37, 38, 39, 40, 41, 42, 43, 44, 45, 46, 47, 48, 49, 50, 51, 52,\n",
       "       53, 54, 55, 56, 57, 58, 59, 60, 61, 62, 63, 64, 65, 66, 67, 68, 69,\n",
       "       70, 71, 72, 73, 74, 75], dtype=int64)"
      ]
     },
     "execution_count": 35,
     "metadata": {},
     "output_type": "execute_result"
    }
   ],
   "source": [
    "df['dob_years'].sort_values().unique()"
   ]
  },
  {
   "attachments": {},
   "cell_type": "markdown",
   "metadata": {},
   "source": [
    "####  Restore missing values in `days_employed`"
   ]
  },
  {
   "cell_type": "markdown",
   "metadata": {},
   "source": [
    "Let's work now on the column 'days_employed'"
   ]
  },
  {
   "cell_type": "code",
   "execution_count": 36,
   "metadata": {},
   "outputs": [
    {
     "data": {
      "text/plain": [
       "0      -8437.673028\n",
       "1      -4024.803754\n",
       "2      -5623.422610\n",
       "3      -4124.747207\n",
       "4     340266.072047\n",
       "5       -926.185831\n",
       "6      -2879.202052\n",
       "7       -152.779569\n",
       "8      -6929.865299\n",
       "9      -2188.756445\n",
       "10     -4171.483647\n",
       "11      -792.701887\n",
       "12              NaN\n",
       "13     -1846.641941\n",
       "14     -1844.956182\n",
       "15      -972.364419\n",
       "16     -1719.934226\n",
       "17     -2369.999720\n",
       "18    400281.136913\n",
       "19    -10038.818549\n",
       "Name: days_employed, dtype: float64"
      ]
     },
     "execution_count": 36,
     "metadata": {},
     "output_type": "execute_result"
    }
   ],
   "source": [
    "# Find problematic data in `days_employed`, if it exists, re-arrange them\n",
    "df['days_employed'].head(20)"
   ]
  },
  {
   "cell_type": "markdown",
   "metadata": {},
   "source": [
    "We see that in the column 'days_employed' there are negative and float values. Anyway the positive values are one or more order of magnitude higher maybe because of a problem with the collection of \n",
    "information. I will replace temporarely all the positive data in 'days_employed' with null-value and later I substitute these null values with the mean or median value of the respective category (to be chosen which one)"
   ]
  },
  {
   "cell_type": "code",
   "execution_count": 37,
   "metadata": {},
   "outputs": [],
   "source": [
    "df.loc[df['days_employed'] > 0, 'days_employed'] = None"
   ]
  },
  {
   "cell_type": "markdown",
   "metadata": {},
   "source": [
    "I check if the replacement effectively took place, counting the positive values of column 'days_employed'"
   ]
  },
  {
   "cell_type": "code",
   "execution_count": 38,
   "metadata": {},
   "outputs": [
    {
     "data": {
      "text/plain": [
       "0"
      ]
     },
     "execution_count": 38,
     "metadata": {},
     "output_type": "execute_result"
    }
   ],
   "source": [
    "len(df[df.days_employed > 0])"
   ]
  },
  {
   "cell_type": "markdown",
   "metadata": {},
   "source": [
    "Ok! we now have no positive value. Let's now convert the neg values to positive using their absolute value"
   ]
  },
  {
   "cell_type": "code",
   "execution_count": 39,
   "metadata": {},
   "outputs": [],
   "source": [
    "df['days_employed'] = df['days_employed'].abs()"
   ]
  },
  {
   "cell_type": "code",
   "execution_count": 40,
   "metadata": {},
   "outputs": [
    {
     "data": {
      "text/plain": [
       "count    15906.000000\n",
       "mean      2353.015932\n",
       "std       2304.243851\n",
       "min         24.141633\n",
       "25%        756.371964\n",
       "50%       1630.019381\n",
       "75%       3157.480084\n",
       "max      18388.949901\n",
       "Name: days_employed, dtype: float64"
      ]
     },
     "execution_count": 40,
     "metadata": {},
     "output_type": "execute_result"
    }
   ],
   "source": [
    "df['days_employed'].describe()"
   ]
  },
  {
   "cell_type": "markdown",
   "metadata": {},
   "source": [
    "Since the distribution of values in 'days_employed' is skewed and there are some outliers(the max is >10x the median value), I think it is better to use the median value to replace the null values. Let's dive into it"
   ]
  },
  {
   "cell_type": "markdown",
   "metadata": {},
   "source": [
    "To fill the absent values in 'days_employed' we will use the median value of the corresponding age category of the row. But to do this, we need first to find out these categories."
   ]
  },
  {
   "cell_type": "code",
   "execution_count": 41,
   "metadata": {},
   "outputs": [],
   "source": [
    "# Let's write a function that calculates the age category\n",
    "def age_group(age):\n",
    "    \"\"\"\n",
    "    The function returns the age category according to the age value, using the following rules:\n",
    "    — 18-35 yo for age between 18 and 35 year old\n",
    "    — 36-46 yo for age between 36 and 46 year old\n",
    "    — 47-66 yo for age between 47 and 66 year old\n",
    "    — >66 yo for age over 66 year old\n",
    "    \"\"\"\n",
    "    \n",
    "    if 18 <= age <= 35:\n",
    "        return \"18-35 yo\"\n",
    "    if 36 <= age <= 46:\n",
    "        return \"36-46 yo\"\n",
    "    if 47 <= age <= 66:\n",
    "        return \"47-66 yo\"\n",
    "    if age > 66:\n",
    "        return \">66 yo\""
   ]
  },
  {
   "cell_type": "markdown",
   "metadata": {},
   "source": [
    "Now that we have the category of age we add a new column 'age_cat' referring the age of every customer"
   ]
  },
  {
   "cell_type": "code",
   "execution_count": 42,
   "metadata": {},
   "outputs": [],
   "source": [
    "# Create a new column 'age_cat' based on the function\n",
    "df['age_cat'] = df['dob_years'].map(age_group)"
   ]
  },
  {
   "cell_type": "markdown",
   "metadata": {},
   "source": [
    "Let's now review the distribution of 'days_employed' by age_cat"
   ]
  },
  {
   "cell_type": "code",
   "execution_count": 43,
   "metadata": {},
   "outputs": [
    {
     "data": {
      "text/html": [
       "<div>\n",
       "<style scoped>\n",
       "    .dataframe tbody tr th:only-of-type {\n",
       "        vertical-align: middle;\n",
       "    }\n",
       "\n",
       "    .dataframe tbody tr th {\n",
       "        vertical-align: top;\n",
       "    }\n",
       "\n",
       "    .dataframe thead tr th {\n",
       "        text-align: left;\n",
       "    }\n",
       "\n",
       "    .dataframe thead tr:last-of-type th {\n",
       "        text-align: right;\n",
       "    }\n",
       "</style>\n",
       "<table border=\"1\" class=\"dataframe\">\n",
       "  <thead>\n",
       "    <tr>\n",
       "      <th></th>\n",
       "      <th colspan=\"4\" halign=\"left\">days_employed</th>\n",
       "    </tr>\n",
       "    <tr>\n",
       "      <th></th>\n",
       "      <th>mean</th>\n",
       "      <th>median</th>\n",
       "      <th>min</th>\n",
       "      <th>max</th>\n",
       "    </tr>\n",
       "    <tr>\n",
       "      <th>age_cat</th>\n",
       "      <th></th>\n",
       "      <th></th>\n",
       "      <th></th>\n",
       "      <th></th>\n",
       "    </tr>\n",
       "  </thead>\n",
       "  <tbody>\n",
       "    <tr>\n",
       "      <th>18-35 yo</th>\n",
       "      <td>1539.404299</td>\n",
       "      <td>1202.380896</td>\n",
       "      <td>24.141633</td>\n",
       "      <td>7622.710756</td>\n",
       "    </tr>\n",
       "    <tr>\n",
       "      <th>36-46 yo</th>\n",
       "      <td>2504.763759</td>\n",
       "      <td>1877.007970</td>\n",
       "      <td>33.520665</td>\n",
       "      <td>12506.318296</td>\n",
       "    </tr>\n",
       "    <tr>\n",
       "      <th>47-66 yo</th>\n",
       "      <td>3235.292944</td>\n",
       "      <td>2302.063575</td>\n",
       "      <td>30.195337</td>\n",
       "      <td>18388.949901</td>\n",
       "    </tr>\n",
       "    <tr>\n",
       "      <th>&gt;66 yo</th>\n",
       "      <td>4024.973149</td>\n",
       "      <td>2598.981129</td>\n",
       "      <td>214.343991</td>\n",
       "      <td>14747.887934</td>\n",
       "    </tr>\n",
       "  </tbody>\n",
       "</table>\n",
       "</div>"
      ],
      "text/plain": [
       "         days_employed                                       \n",
       "                  mean       median         min           max\n",
       "age_cat                                                      \n",
       "18-35 yo   1539.404299  1202.380896   24.141633   7622.710756\n",
       "36-46 yo   2504.763759  1877.007970   33.520665  12506.318296\n",
       "47-66 yo   3235.292944  2302.063575   30.195337  18388.949901\n",
       ">66 yo     4024.973149  2598.981129  214.343991  14747.887934"
      ]
     },
     "execution_count": 43,
     "metadata": {},
     "output_type": "execute_result"
    }
   ],
   "source": [
    "age_days_employed = df.groupby(['age_cat']).agg({'days_employed' : ['mean', 'median', 'min', 'max']})\n",
    "age_days_employed"
   ]
  },
  {
   "cell_type": "markdown",
   "metadata": {},
   "source": [
    "It makes sense because the older a client is, the more days he (or she) has worked."
   ]
  },
  {
   "cell_type": "markdown",
   "metadata": {},
   "source": [
    "And now we will replace the null values with the median value of the corresponding age_cat. This because the values are highly skewed (see for example min and max)"
   ]
  },
  {
   "cell_type": "code",
   "execution_count": 44,
   "metadata": {},
   "outputs": [],
   "source": [
    "def my_lambda(x):\n",
    "    return x.fillna(x.median())\n",
    "\n",
    "df['days_employed'] = df.groupby(['age_cat'])['days_employed'].transform(lambda x: my_lambda(x))"
   ]
  },
  {
   "cell_type": "markdown",
   "metadata": {},
   "source": [
    "To simplify things up, lets take the int of every value."
   ]
  },
  {
   "cell_type": "code",
   "execution_count": 45,
   "metadata": {},
   "outputs": [],
   "source": [
    "df['days_employed'] = df['days_employed'].astype(int)"
   ]
  },
  {
   "cell_type": "markdown",
   "metadata": {},
   "source": [
    "Ok ! Lets see the resulting column info"
   ]
  },
  {
   "cell_type": "code",
   "execution_count": 46,
   "metadata": {},
   "outputs": [
    {
     "name": "stdout",
     "output_type": "stream",
     "text": [
      "<class 'pandas.core.series.Series'>\n",
      "RangeIndex: 21525 entries, 0 to 21524\n",
      "Series name: days_employed\n",
      "Non-Null Count  Dtype\n",
      "--------------  -----\n",
      "21525 non-null  int32\n",
      "dtypes: int32(1)\n",
      "memory usage: 84.2 KB\n"
     ]
    }
   ],
   "source": [
    "df['days_employed'].info()"
   ]
  },
  {
   "cell_type": "markdown",
   "metadata": {},
   "source": [
    "Ok ! we have now 21525 int values in 'days_employed'"
   ]
  },
  {
   "cell_type": "markdown",
   "metadata": {},
   "source": [
    "Lets analyze now the family_status column to see if there's some anomaly"
   ]
  },
  {
   "cell_type": "code",
   "execution_count": 47,
   "metadata": {},
   "outputs": [
    {
     "data": {
      "text/plain": [
       "array(['civil partnership', 'divorced', 'married', 'unmarried',\n",
       "       'widow / widower'], dtype=object)"
      ]
     },
     "execution_count": 47,
     "metadata": {},
     "output_type": "execute_result"
    }
   ],
   "source": [
    "df['family_status'].sort_values().unique()"
   ]
  },
  {
   "cell_type": "markdown",
   "metadata": {},
   "source": [
    "There's no anomaly inside the 'family_status' column, so we skip this."
   ]
  },
  {
   "cell_type": "markdown",
   "metadata": {},
   "source": [
    "Lets analyze now the 'gender' column to see if there's some anomaly"
   ]
  },
  {
   "cell_type": "code",
   "execution_count": 48,
   "metadata": {},
   "outputs": [
    {
     "data": {
      "text/plain": [
       "array(['F', 'M', 'XNA'], dtype=object)"
      ]
     },
     "execution_count": 48,
     "metadata": {},
     "output_type": "execute_result"
    }
   ],
   "source": [
    "df['gender'].unique()"
   ]
  },
  {
   "cell_type": "markdown",
   "metadata": {},
   "source": [
    "There's no anomaly inside the 'gender' column, so we skip this."
   ]
  },
  {
   "cell_type": "markdown",
   "metadata": {},
   "source": [
    "Lets analyze now the 'income_type' column to see if there's some anomaly"
   ]
  },
  {
   "cell_type": "code",
   "execution_count": 49,
   "metadata": {},
   "outputs": [
    {
     "data": {
      "text/plain": [
       "array(['business', 'civil servant', 'employee', 'entrepreneur',\n",
       "       'paternity / maternity leave', 'retiree', 'student', 'unemployed'],\n",
       "      dtype=object)"
      ]
     },
     "execution_count": 49,
     "metadata": {},
     "output_type": "execute_result"
    }
   ],
   "source": [
    "df['income_type'].sort_values().unique()"
   ]
  },
  {
   "cell_type": "markdown",
   "metadata": {},
   "source": [
    "There's no anomaly inside the 'income_type' column, so we skip this."
   ]
  },
  {
   "cell_type": "markdown",
   "metadata": {},
   "source": [
    "Lets see if there are duplicates:"
   ]
  },
  {
   "cell_type": "code",
   "execution_count": 50,
   "metadata": {},
   "outputs": [
    {
     "data": {
      "text/plain": [
       "False    21454\n",
       "True        71\n",
       "dtype: int64"
      ]
     },
     "execution_count": 50,
     "metadata": {},
     "output_type": "execute_result"
    }
   ],
   "source": [
    "df.duplicated().value_counts()"
   ]
  },
  {
   "cell_type": "markdown",
   "metadata": {},
   "source": [
    "We have 71 duplicated rows and then we should get rid of them and reset the index "
   ]
  },
  {
   "cell_type": "code",
   "execution_count": 51,
   "metadata": {},
   "outputs": [],
   "source": [
    "df = df.drop_duplicates().reset_index(drop = True)"
   ]
  },
  {
   "cell_type": "code",
   "execution_count": 52,
   "metadata": {},
   "outputs": [
    {
     "data": {
      "text/plain": [
       "False    21454\n",
       "dtype: int64"
      ]
     },
     "execution_count": 52,
     "metadata": {},
     "output_type": "execute_result"
    }
   ],
   "source": [
    "# Última comprobación para ver si tenemos duplicados\n",
    "\n",
    "df.duplicated().value_counts()"
   ]
  },
  {
   "cell_type": "markdown",
   "metadata": {},
   "source": [
    "Finally we have no duplicated values. Good! Now reset the index "
   ]
  },
  {
   "cell_type": "code",
   "execution_count": 53,
   "metadata": {},
   "outputs": [
    {
     "data": {
      "text/plain": [
       "(21454, 13)"
      ]
     },
     "execution_count": 53,
     "metadata": {},
     "output_type": "execute_result"
    }
   ],
   "source": [
    "# Checking the size of the dataset we now have, after having run these first few manipulations\n",
    "df.shape"
   ]
  },
  {
   "cell_type": "markdown",
   "metadata": {},
   "source": [
    "Filtering the duplicated rows we end up with 21454 rows, so just 0.4% less rows. This does not stop us to proceed."
   ]
  },
  {
   "attachments": {},
   "cell_type": "markdown",
   "metadata": {},
   "source": [
    "Restoring missing values in `total_income`"
   ]
  },
  {
   "cell_type": "markdown",
   "metadata": {},
   "source": [
    "As already stated, the second column with missing values is 'total_income'"
   ]
  },
  {
   "cell_type": "code",
   "execution_count": 54,
   "metadata": {},
   "outputs": [
    {
     "data": {
      "text/plain": [
       "count     19351\n",
       "mean      26787\n",
       "std       16475\n",
       "min        3306\n",
       "25%       16488\n",
       "50%       23202\n",
       "75%       32549\n",
       "max      362496\n",
       "Name: total_income, dtype: int32"
      ]
     },
     "execution_count": 54,
     "metadata": {},
     "output_type": "execute_result"
    }
   ],
   "source": [
    "# Distribution of mean and median value of `total_income`\n",
    "df['total_income'].describe().astype(int)"
   ]
  },
  {
   "cell_type": "markdown",
   "metadata": {},
   "source": [
    "Since the distribution of values in 'total_income' is skewed and there are some outliers, I think it is better to use the median value to replace the null values. But, as already done with 'days_employed' not just the overall median but the median correspondent to the level of education. Let's dive into it"
   ]
  },
  {
   "cell_type": "code",
   "execution_count": 55,
   "metadata": {},
   "outputs": [
    {
     "data": {
      "text/html": [
       "<div>\n",
       "<style scoped>\n",
       "    .dataframe tbody tr th:only-of-type {\n",
       "        vertical-align: middle;\n",
       "    }\n",
       "\n",
       "    .dataframe tbody tr th {\n",
       "        vertical-align: top;\n",
       "    }\n",
       "\n",
       "    .dataframe thead tr th {\n",
       "        text-align: left;\n",
       "    }\n",
       "\n",
       "    .dataframe thead tr:last-of-type th {\n",
       "        text-align: right;\n",
       "    }\n",
       "</style>\n",
       "<table border=\"1\" class=\"dataframe\">\n",
       "  <thead>\n",
       "    <tr>\n",
       "      <th></th>\n",
       "      <th colspan=\"4\" halign=\"left\">total_income</th>\n",
       "    </tr>\n",
       "    <tr>\n",
       "      <th></th>\n",
       "      <th>mean</th>\n",
       "      <th>median</th>\n",
       "      <th>min</th>\n",
       "      <th>max</th>\n",
       "    </tr>\n",
       "    <tr>\n",
       "      <th>education</th>\n",
       "      <th></th>\n",
       "      <th></th>\n",
       "      <th></th>\n",
       "      <th></th>\n",
       "    </tr>\n",
       "  </thead>\n",
       "  <tbody>\n",
       "    <tr>\n",
       "      <th>bachelor's degree</th>\n",
       "      <td>33142.802434</td>\n",
       "      <td>28054.5310</td>\n",
       "      <td>5148.514</td>\n",
       "      <td>362496.645</td>\n",
       "    </tr>\n",
       "    <tr>\n",
       "      <th>graduate degree</th>\n",
       "      <td>27960.024667</td>\n",
       "      <td>25161.5835</td>\n",
       "      <td>15800.399</td>\n",
       "      <td>42945.794</td>\n",
       "    </tr>\n",
       "    <tr>\n",
       "      <th>primary education</th>\n",
       "      <td>21144.882211</td>\n",
       "      <td>18741.9760</td>\n",
       "      <td>4049.374</td>\n",
       "      <td>78410.774</td>\n",
       "    </tr>\n",
       "    <tr>\n",
       "      <th>secondary education</th>\n",
       "      <td>24594.503037</td>\n",
       "      <td>21836.5830</td>\n",
       "      <td>3306.762</td>\n",
       "      <td>276204.162</td>\n",
       "    </tr>\n",
       "    <tr>\n",
       "      <th>some college</th>\n",
       "      <td>29045.443644</td>\n",
       "      <td>25618.4640</td>\n",
       "      <td>5514.581</td>\n",
       "      <td>153349.533</td>\n",
       "    </tr>\n",
       "  </tbody>\n",
       "</table>\n",
       "</div>"
      ],
      "text/plain": [
       "                     total_income                                   \n",
       "                             mean      median        min         max\n",
       "education                                                           \n",
       "bachelor's degree    33142.802434  28054.5310   5148.514  362496.645\n",
       "graduate degree      27960.024667  25161.5835  15800.399   42945.794\n",
       "primary education    21144.882211  18741.9760   4049.374   78410.774\n",
       "secondary education  24594.503037  21836.5830   3306.762  276204.162\n",
       "some college         29045.443644  25618.4640   5514.581  153349.533"
      ]
     },
     "execution_count": 55,
     "metadata": {},
     "output_type": "execute_result"
    }
   ],
   "source": [
    "education_total_income = df.groupby(['education']).agg({'total_income' : ['mean', 'median', 'min', 'max']})\n",
    "education_total_income"
   ]
  },
  {
   "cell_type": "markdown",
   "metadata": {},
   "source": [
    "It makes sense because the higher is the level of study, the higher is the total_income"
   ]
  },
  {
   "cell_type": "markdown",
   "metadata": {},
   "source": [
    "And now we will replace the null values with the median value of the corresponding education."
   ]
  },
  {
   "cell_type": "code",
   "execution_count": 56,
   "metadata": {},
   "outputs": [],
   "source": [
    "def my_lambda(x):\n",
    "    return x.fillna(x.median())\n",
    "\n",
    "df['total_income'] = df.groupby(['education'])['total_income'].transform(lambda x: my_lambda(x))"
   ]
  },
  {
   "cell_type": "code",
   "execution_count": 57,
   "metadata": {},
   "outputs": [],
   "source": [
    "df['total_income'] = df['total_income'].fillna(df['total_income'].median())"
   ]
  },
  {
   "cell_type": "markdown",
   "metadata": {},
   "source": [
    "Cool ! Now we have filled the null values in 'total_income' with the median value of correspondent education"
   ]
  },
  {
   "cell_type": "markdown",
   "metadata": {},
   "source": [
    "To simplify things up, lets take the int of every value."
   ]
  },
  {
   "cell_type": "code",
   "execution_count": 58,
   "metadata": {},
   "outputs": [],
   "source": [
    "df['total_income'] = df['total_income'].astype(int)"
   ]
  },
  {
   "cell_type": "markdown",
   "metadata": {},
   "source": [
    "Ok ! Lets see the resulting column info"
   ]
  },
  {
   "cell_type": "code",
   "execution_count": 59,
   "metadata": {},
   "outputs": [
    {
     "name": "stdout",
     "output_type": "stream",
     "text": [
      "<class 'pandas.core.series.Series'>\n",
      "RangeIndex: 21454 entries, 0 to 21453\n",
      "Series name: total_income\n",
      "Non-Null Count  Dtype\n",
      "--------------  -----\n",
      "21454 non-null  int32\n",
      "dtypes: int32(1)\n",
      "memory usage: 83.9 KB\n"
     ]
    }
   ],
   "source": [
    "df['total_income'].info()"
   ]
  },
  {
   "cell_type": "markdown",
   "metadata": {},
   "source": [
    "Ok ! we have now 21525 int values in 'total_income'"
   ]
  },
  {
   "cell_type": "markdown",
   "metadata": {},
   "source": [
    "Let's now analyze the 'total income' mean and median values based on every column"
   ]
  },
  {
   "cell_type": "code",
   "execution_count": 60,
   "metadata": {},
   "outputs": [
    {
     "data": {
      "text/html": [
       "<div>\n",
       "<style scoped>\n",
       "    .dataframe tbody tr th:only-of-type {\n",
       "        vertical-align: middle;\n",
       "    }\n",
       "\n",
       "    .dataframe tbody tr th {\n",
       "        vertical-align: top;\n",
       "    }\n",
       "\n",
       "    .dataframe thead tr th {\n",
       "        text-align: left;\n",
       "    }\n",
       "\n",
       "    .dataframe thead tr:last-of-type th {\n",
       "        text-align: right;\n",
       "    }\n",
       "</style>\n",
       "<table border=\"1\" class=\"dataframe\">\n",
       "  <thead>\n",
       "    <tr>\n",
       "      <th></th>\n",
       "      <th colspan=\"2\" halign=\"left\">total_income</th>\n",
       "    </tr>\n",
       "    <tr>\n",
       "      <th></th>\n",
       "      <th>mean</th>\n",
       "      <th>median</th>\n",
       "    </tr>\n",
       "    <tr>\n",
       "      <th>age_cat</th>\n",
       "      <th></th>\n",
       "      <th></th>\n",
       "    </tr>\n",
       "  </thead>\n",
       "  <tbody>\n",
       "    <tr>\n",
       "      <th>18-35 yo</th>\n",
       "      <td>26563</td>\n",
       "      <td>23242</td>\n",
       "    </tr>\n",
       "    <tr>\n",
       "      <th>36-46 yo</th>\n",
       "      <td>28207</td>\n",
       "      <td>24031</td>\n",
       "    </tr>\n",
       "    <tr>\n",
       "      <th>47-66 yo</th>\n",
       "      <td>25420</td>\n",
       "      <td>21836</td>\n",
       "    </tr>\n",
       "    <tr>\n",
       "      <th>&gt;66 yo</th>\n",
       "      <td>20864</td>\n",
       "      <td>18811</td>\n",
       "    </tr>\n",
       "  </tbody>\n",
       "</table>\n",
       "</div>"
      ],
      "text/plain": [
       "         total_income       \n",
       "                 mean median\n",
       "age_cat                     \n",
       "18-35 yo        26563  23242\n",
       "36-46 yo        28207  24031\n",
       "47-66 yo        25420  21836\n",
       ">66 yo          20864  18811"
      ]
     },
     "execution_count": 60,
     "metadata": {},
     "output_type": "execute_result"
    }
   ],
   "source": [
    "# Relation between 'age_cat' and 'total_income'\n",
    "df.groupby(['age_cat']).agg({'total_income': ['mean', 'median']}).astype(int)"
   ]
  },
  {
   "cell_type": "code",
   "execution_count": 61,
   "metadata": {},
   "outputs": [
    {
     "data": {
      "text/html": [
       "<div>\n",
       "<style scoped>\n",
       "    .dataframe tbody tr th:only-of-type {\n",
       "        vertical-align: middle;\n",
       "    }\n",
       "\n",
       "    .dataframe tbody tr th {\n",
       "        vertical-align: top;\n",
       "    }\n",
       "\n",
       "    .dataframe thead tr th {\n",
       "        text-align: left;\n",
       "    }\n",
       "\n",
       "    .dataframe thead tr:last-of-type th {\n",
       "        text-align: right;\n",
       "    }\n",
       "</style>\n",
       "<table border=\"1\" class=\"dataframe\">\n",
       "  <thead>\n",
       "    <tr>\n",
       "      <th></th>\n",
       "      <th colspan=\"2\" halign=\"left\">total_income</th>\n",
       "    </tr>\n",
       "    <tr>\n",
       "      <th></th>\n",
       "      <th>mean</th>\n",
       "      <th>median</th>\n",
       "    </tr>\n",
       "    <tr>\n",
       "      <th>children</th>\n",
       "      <th></th>\n",
       "      <th></th>\n",
       "    </tr>\n",
       "  </thead>\n",
       "  <tbody>\n",
       "    <tr>\n",
       "      <th>0</th>\n",
       "      <td>26125</td>\n",
       "      <td>22267</td>\n",
       "    </tr>\n",
       "    <tr>\n",
       "      <th>1</th>\n",
       "      <td>27022</td>\n",
       "      <td>23164</td>\n",
       "    </tr>\n",
       "    <tr>\n",
       "      <th>2</th>\n",
       "      <td>27100</td>\n",
       "      <td>22584</td>\n",
       "    </tr>\n",
       "    <tr>\n",
       "      <th>3</th>\n",
       "      <td>28688</td>\n",
       "      <td>23675</td>\n",
       "    </tr>\n",
       "    <tr>\n",
       "      <th>4</th>\n",
       "      <td>26661</td>\n",
       "      <td>24522</td>\n",
       "    </tr>\n",
       "    <tr>\n",
       "      <th>5</th>\n",
       "      <td>26664</td>\n",
       "      <td>26953</td>\n",
       "    </tr>\n",
       "  </tbody>\n",
       "</table>\n",
       "</div>"
      ],
      "text/plain": [
       "         total_income       \n",
       "                 mean median\n",
       "children                    \n",
       "0               26125  22267\n",
       "1               27022  23164\n",
       "2               27100  22584\n",
       "3               28688  23675\n",
       "4               26661  24522\n",
       "5               26664  26953"
      ]
     },
     "execution_count": 61,
     "metadata": {},
     "output_type": "execute_result"
    }
   ],
   "source": [
    "# Relation between 'children' and 'total_income'\n",
    "df.groupby(['children']).agg({'total_income': ['mean', 'median']}).astype(int)\n"
   ]
  },
  {
   "cell_type": "code",
   "execution_count": 62,
   "metadata": {},
   "outputs": [
    {
     "data": {
      "text/html": [
       "<div>\n",
       "<style scoped>\n",
       "    .dataframe tbody tr th:only-of-type {\n",
       "        vertical-align: middle;\n",
       "    }\n",
       "\n",
       "    .dataframe tbody tr th {\n",
       "        vertical-align: top;\n",
       "    }\n",
       "\n",
       "    .dataframe thead tr th {\n",
       "        text-align: left;\n",
       "    }\n",
       "\n",
       "    .dataframe thead tr:last-of-type th {\n",
       "        text-align: right;\n",
       "    }\n",
       "</style>\n",
       "<table border=\"1\" class=\"dataframe\">\n",
       "  <thead>\n",
       "    <tr>\n",
       "      <th></th>\n",
       "      <th colspan=\"2\" halign=\"left\">total_income</th>\n",
       "    </tr>\n",
       "    <tr>\n",
       "      <th></th>\n",
       "      <th>mean</th>\n",
       "      <th>median</th>\n",
       "    </tr>\n",
       "    <tr>\n",
       "      <th>education</th>\n",
       "      <th></th>\n",
       "      <th></th>\n",
       "    </tr>\n",
       "  </thead>\n",
       "  <tbody>\n",
       "    <tr>\n",
       "      <th>bachelor's degree</th>\n",
       "      <td>32624</td>\n",
       "      <td>28054</td>\n",
       "    </tr>\n",
       "    <tr>\n",
       "      <th>graduate degree</th>\n",
       "      <td>27959</td>\n",
       "      <td>25161</td>\n",
       "    </tr>\n",
       "    <tr>\n",
       "      <th>primary education</th>\n",
       "      <td>20965</td>\n",
       "      <td>18741</td>\n",
       "    </tr>\n",
       "    <tr>\n",
       "      <th>secondary education</th>\n",
       "      <td>24325</td>\n",
       "      <td>21836</td>\n",
       "    </tr>\n",
       "    <tr>\n",
       "      <th>some college</th>\n",
       "      <td>28727</td>\n",
       "      <td>25618</td>\n",
       "    </tr>\n",
       "  </tbody>\n",
       "</table>\n",
       "</div>"
      ],
      "text/plain": [
       "                    total_income       \n",
       "                            mean median\n",
       "education                              \n",
       "bachelor's degree          32624  28054\n",
       "graduate degree            27959  25161\n",
       "primary education          20965  18741\n",
       "secondary education        24325  21836\n",
       "some college               28727  25618"
      ]
     },
     "execution_count": 62,
     "metadata": {},
     "output_type": "execute_result"
    }
   ],
   "source": [
    "# Relation between 'education' and 'total_income'\n",
    "df.groupby(['education']).agg({'total_income': ['mean', 'median']}).astype(int)"
   ]
  },
  {
   "cell_type": "markdown",
   "metadata": {},
   "source": [
    "This last, the relation between 'education' and 'total_income', is the more explicit.\n",
    "In short, the more people are educated, the bigger is their income.\n",
    "The scale is (from lower to high): \n",
    "- primary edu\n",
    "- secondary edu\n",
    "- some college \n",
    "- grad degree\n",
    "- BSc degree"
   ]
  },
  {
   "cell_type": "code",
   "execution_count": 63,
   "metadata": {},
   "outputs": [
    {
     "data": {
      "text/html": [
       "<div>\n",
       "<style scoped>\n",
       "    .dataframe tbody tr th:only-of-type {\n",
       "        vertical-align: middle;\n",
       "    }\n",
       "\n",
       "    .dataframe tbody tr th {\n",
       "        vertical-align: top;\n",
       "    }\n",
       "\n",
       "    .dataframe thead tr th {\n",
       "        text-align: left;\n",
       "    }\n",
       "\n",
       "    .dataframe thead tr:last-of-type th {\n",
       "        text-align: right;\n",
       "    }\n",
       "</style>\n",
       "<table border=\"1\" class=\"dataframe\">\n",
       "  <thead>\n",
       "    <tr>\n",
       "      <th></th>\n",
       "      <th colspan=\"2\" halign=\"left\">total_income</th>\n",
       "    </tr>\n",
       "    <tr>\n",
       "      <th></th>\n",
       "      <th>mean</th>\n",
       "      <th>median</th>\n",
       "    </tr>\n",
       "    <tr>\n",
       "      <th>family_status</th>\n",
       "      <th></th>\n",
       "      <th></th>\n",
       "    </tr>\n",
       "  </thead>\n",
       "  <tbody>\n",
       "    <tr>\n",
       "      <th>civil partnership</th>\n",
       "      <td>26363</td>\n",
       "      <td>22412</td>\n",
       "    </tr>\n",
       "    <tr>\n",
       "      <th>divorced</th>\n",
       "      <td>26827</td>\n",
       "      <td>22857</td>\n",
       "    </tr>\n",
       "    <tr>\n",
       "      <th>married</th>\n",
       "      <td>26694</td>\n",
       "      <td>22806</td>\n",
       "    </tr>\n",
       "    <tr>\n",
       "      <th>unmarried</th>\n",
       "      <td>26660</td>\n",
       "      <td>22864</td>\n",
       "    </tr>\n",
       "    <tr>\n",
       "      <th>widow / widower</th>\n",
       "      <td>22939</td>\n",
       "      <td>21617</td>\n",
       "    </tr>\n",
       "  </tbody>\n",
       "</table>\n",
       "</div>"
      ],
      "text/plain": [
       "                  total_income       \n",
       "                          mean median\n",
       "family_status                        \n",
       "civil partnership        26363  22412\n",
       "divorced                 26827  22857\n",
       "married                  26694  22806\n",
       "unmarried                26660  22864\n",
       "widow / widower          22939  21617"
      ]
     },
     "execution_count": 63,
     "metadata": {},
     "output_type": "execute_result"
    }
   ],
   "source": [
    "# Relation between 'family_status' and 'total_income'\n",
    "df.groupby(['family_status']).agg({'total_income': ['mean', 'median']}).astype(int)"
   ]
  },
  {
   "cell_type": "code",
   "execution_count": 64,
   "metadata": {},
   "outputs": [
    {
     "data": {
      "text/html": [
       "<div>\n",
       "<style scoped>\n",
       "    .dataframe tbody tr th:only-of-type {\n",
       "        vertical-align: middle;\n",
       "    }\n",
       "\n",
       "    .dataframe tbody tr th {\n",
       "        vertical-align: top;\n",
       "    }\n",
       "\n",
       "    .dataframe thead tr th {\n",
       "        text-align: left;\n",
       "    }\n",
       "\n",
       "    .dataframe thead tr:last-of-type th {\n",
       "        text-align: right;\n",
       "    }\n",
       "</style>\n",
       "<table border=\"1\" class=\"dataframe\">\n",
       "  <thead>\n",
       "    <tr>\n",
       "      <th></th>\n",
       "      <th colspan=\"2\" halign=\"left\">total_income</th>\n",
       "    </tr>\n",
       "    <tr>\n",
       "      <th></th>\n",
       "      <th>mean</th>\n",
       "      <th>median</th>\n",
       "    </tr>\n",
       "    <tr>\n",
       "      <th>gender</th>\n",
       "      <th></th>\n",
       "      <th></th>\n",
       "    </tr>\n",
       "  </thead>\n",
       "  <tbody>\n",
       "    <tr>\n",
       "      <th>F</th>\n",
       "      <td>24540</td>\n",
       "      <td>21836</td>\n",
       "    </tr>\n",
       "    <tr>\n",
       "      <th>M</th>\n",
       "      <td>30213</td>\n",
       "      <td>26145</td>\n",
       "    </tr>\n",
       "    <tr>\n",
       "      <th>XNA</th>\n",
       "      <td>32624</td>\n",
       "      <td>32624</td>\n",
       "    </tr>\n",
       "  </tbody>\n",
       "</table>\n",
       "</div>"
      ],
      "text/plain": [
       "       total_income       \n",
       "               mean median\n",
       "gender                    \n",
       "F             24540  21836\n",
       "M             30213  26145\n",
       "XNA           32624  32624"
      ]
     },
     "execution_count": 64,
     "metadata": {},
     "output_type": "execute_result"
    }
   ],
   "source": [
    "# Relation between 'gender' and 'total_income'\n",
    "df.groupby(['gender']).agg({'total_income': ['mean', 'median']}).astype(int)"
   ]
  },
  {
   "cell_type": "markdown",
   "metadata": {},
   "source": [
    "Males are definitive higher earner than female customers"
   ]
  },
  {
   "cell_type": "code",
   "execution_count": 65,
   "metadata": {},
   "outputs": [
    {
     "data": {
      "text/html": [
       "<div>\n",
       "<style scoped>\n",
       "    .dataframe tbody tr th:only-of-type {\n",
       "        vertical-align: middle;\n",
       "    }\n",
       "\n",
       "    .dataframe tbody tr th {\n",
       "        vertical-align: top;\n",
       "    }\n",
       "\n",
       "    .dataframe thead tr th {\n",
       "        text-align: left;\n",
       "    }\n",
       "\n",
       "    .dataframe thead tr:last-of-type th {\n",
       "        text-align: right;\n",
       "    }\n",
       "</style>\n",
       "<table border=\"1\" class=\"dataframe\">\n",
       "  <thead>\n",
       "    <tr>\n",
       "      <th></th>\n",
       "      <th colspan=\"2\" halign=\"left\">total_income</th>\n",
       "    </tr>\n",
       "    <tr>\n",
       "      <th></th>\n",
       "      <th>mean</th>\n",
       "      <th>median</th>\n",
       "    </tr>\n",
       "    <tr>\n",
       "      <th>income_type</th>\n",
       "      <th></th>\n",
       "      <th></th>\n",
       "    </tr>\n",
       "  </thead>\n",
       "  <tbody>\n",
       "    <tr>\n",
       "      <th>business</th>\n",
       "      <td>31587</td>\n",
       "      <td>27129</td>\n",
       "    </tr>\n",
       "    <tr>\n",
       "      <th>civil servant</th>\n",
       "      <td>27062</td>\n",
       "      <td>23718</td>\n",
       "    </tr>\n",
       "    <tr>\n",
       "      <th>employee</th>\n",
       "      <td>25575</td>\n",
       "      <td>22125</td>\n",
       "    </tr>\n",
       "    <tr>\n",
       "      <th>entrepreneur</th>\n",
       "      <td>53960</td>\n",
       "      <td>53960</td>\n",
       "    </tr>\n",
       "    <tr>\n",
       "      <th>paternity / maternity leave</th>\n",
       "      <td>8612</td>\n",
       "      <td>8612</td>\n",
       "    </tr>\n",
       "    <tr>\n",
       "      <th>retiree</th>\n",
       "      <td>22019</td>\n",
       "      <td>20471</td>\n",
       "    </tr>\n",
       "    <tr>\n",
       "      <th>student</th>\n",
       "      <td>15712</td>\n",
       "      <td>15712</td>\n",
       "    </tr>\n",
       "    <tr>\n",
       "      <th>unemployed</th>\n",
       "      <td>21014</td>\n",
       "      <td>21014</td>\n",
       "    </tr>\n",
       "  </tbody>\n",
       "</table>\n",
       "</div>"
      ],
      "text/plain": [
       "                            total_income       \n",
       "                                    mean median\n",
       "income_type                                    \n",
       "business                           31587  27129\n",
       "civil servant                      27062  23718\n",
       "employee                           25575  22125\n",
       "entrepreneur                       53960  53960\n",
       "paternity / maternity leave         8612   8612\n",
       "retiree                            22019  20471\n",
       "student                            15712  15712\n",
       "unemployed                         21014  21014"
      ]
     },
     "execution_count": 65,
     "metadata": {},
     "output_type": "execute_result"
    }
   ],
   "source": [
    "# Relation between 'income_type' and 'total_income'\n",
    "df.groupby(['income_type']).agg({'total_income': ['mean', 'median']}).astype(int)"
   ]
  },
  {
   "cell_type": "markdown",
   "metadata": {},
   "source": [
    "This last as well, the relation between 'income_type' and 'total_income', is reasonable. Business and entrepreneur (maybe are the same) score the highest income while students and paternity leave have the lowest"
   ]
  },
  {
   "cell_type": "markdown",
   "metadata": {},
   "source": [
    "The 'education' index is, in my opinion, the most trustable index to foresee the total income.\n",
    "In short, the more people are educated, the bigger is their income."
   ]
  },
  {
   "cell_type": "code",
   "execution_count": 66,
   "metadata": {},
   "outputs": [
    {
     "name": "stdout",
     "output_type": "stream",
     "text": [
      "<class 'pandas.core.frame.DataFrame'>\n",
      "RangeIndex: 21454 entries, 0 to 21453\n",
      "Data columns (total 13 columns):\n",
      " #   Column            Non-Null Count  Dtype \n",
      "---  ------            --------------  ----- \n",
      " 0   children          21454 non-null  int64 \n",
      " 1   days_employed     21454 non-null  int32 \n",
      " 2   dob_years         21454 non-null  int64 \n",
      " 3   education         21454 non-null  object\n",
      " 4   education_id      21454 non-null  int64 \n",
      " 5   family_status     21454 non-null  object\n",
      " 6   family_status_id  21454 non-null  int64 \n",
      " 7   gender            21454 non-null  object\n",
      " 8   income_type       21454 non-null  object\n",
      " 9   debt              21454 non-null  int64 \n",
      " 10  total_income      21454 non-null  int32 \n",
      " 11  purpose           21454 non-null  object\n",
      " 12  age_cat           21454 non-null  object\n",
      "dtypes: int32(2), int64(5), object(6)\n",
      "memory usage: 2.0+ MB\n"
     ]
    }
   ],
   "source": [
    "# Comprobar el número de entradas en las columnas\n",
    "df.info()"
   ]
  },
  {
   "cell_type": "markdown",
   "metadata": {},
   "source": [
    "Ok, now we are sure that every column has all non-null values."
   ]
  },
  {
   "attachments": {},
   "cell_type": "markdown",
   "metadata": {},
   "source": [
    "### 2.2 Data classification <a id='data_classification'></a>"
   ]
  },
  {
   "cell_type": "markdown",
   "metadata": {},
   "source": [
    "Let's first arrange the categorical data: 'purpose' column"
   ]
  },
  {
   "cell_type": "code",
   "execution_count": 67,
   "metadata": {
    "scrolled": true
   },
   "outputs": [
    {
     "data": {
      "text/plain": [
       "array(['building a property', 'building a real estate',\n",
       "       'buy commercial real estate', 'buy real estate',\n",
       "       'buy residential real estate', 'buying a second-hand car',\n",
       "       'buying my own car', 'buying property for renting out', 'car',\n",
       "       'car purchase', 'cars', 'construction of own property',\n",
       "       'education', 'getting an education', 'getting higher education',\n",
       "       'going to university', 'having a wedding', 'housing',\n",
       "       'housing renovation', 'housing transactions', 'profile education',\n",
       "       'property', 'purchase of a car', 'purchase of my own house',\n",
       "       'purchase of the house', 'purchase of the house for my family',\n",
       "       'real estate transactions', 'second-hand car purchase',\n",
       "       'supplementary education', 'to become educated', 'to buy a car',\n",
       "       'to get a supplementary education', 'to have a wedding',\n",
       "       'to own a car', 'transactions with commercial real estate',\n",
       "       'transactions with my real estate', 'university education',\n",
       "       'wedding ceremony'], dtype=object)"
      ]
     },
     "execution_count": 67,
     "metadata": {},
     "output_type": "execute_result"
    }
   ],
   "source": [
    "# Displays the data values selected for classification\n",
    "df.purpose.sort_values().unique()"
   ]
  },
  {
   "cell_type": "markdown",
   "metadata": {},
   "source": [
    "We can reduce all these different purposes to just 4. Let's see how"
   ]
  },
  {
   "cell_type": "code",
   "execution_count": 68,
   "metadata": {},
   "outputs": [],
   "source": [
    "def replace_wrong_purpose(wrong_purposes, correct_purpose):\n",
    "    for wrong_purpose in wrong_purposes:\n",
    "        df['purpose'] = df['purpose'].replace(wrong_purpose, correct_purpose)\n",
    "        \n",
    "duplicates_1 = ['building a property', 'building a real estate', 'buy commercial real estate', 'buy real estate', 'buy residential real estate', 'buying property for renting out', \n",
    "                'construction of own property', 'housing', 'housing renovation', 'housing transactions', 'property', 'purchase of my own house', 'purchase of the house', \n",
    "                'purchase of the house for my family', 'real estate transactions', 'transactions with commercial real estate','transactions with my real estate']\n",
    "correct_1 = \"real estate\"\n",
    "\n",
    "duplicates_2 = ['buying a second-hand car', 'buying my own car', 'car', 'car purchase', 'cars', 'purchase of a car', 'second-hand car purchase', 'to buy a car', 'to own a car']\n",
    "correct_2 = \"car purchase\"\n",
    "\n",
    "duplicates_3 = ['education', 'getting an education', 'getting higher education', 'going to university', 'profile education', 'supplementary education', 'to become educated',\n",
    "                'to get a supplementary education', 'university education']\n",
    "correct_3 = \"education\"\n",
    "\n",
    "duplicates_4 = ['having a wedding', 'to have a wedding', 'wedding ceremony']\n",
    "correct_4 = \"wedding\"\n",
    "\n",
    "replace_wrong_purpose(duplicates_1, correct_1)  \n",
    "replace_wrong_purpose(duplicates_2, correct_2)\n",
    "replace_wrong_purpose(duplicates_3, correct_3)\n",
    "replace_wrong_purpose(duplicates_4, correct_4)"
   ]
  },
  {
   "cell_type": "markdown",
   "metadata": {},
   "source": [
    "Let's check again for unique values"
   ]
  },
  {
   "cell_type": "code",
   "execution_count": 69,
   "metadata": {},
   "outputs": [
    {
     "data": {
      "text/plain": [
       "array(['car purchase', 'education', 'real estate', 'wedding'],\n",
       "      dtype=object)"
      ]
     },
     "execution_count": 69,
     "metadata": {},
     "output_type": "execute_result"
    }
   ],
   "source": [
    "df.purpose.sort_values().unique()"
   ]
  },
  {
   "cell_type": "markdown",
   "metadata": {},
   "source": [
    "Cool, we have now only four kind of purposes instead of the long messy list of before"
   ]
  },
  {
   "attachments": {},
   "cell_type": "markdown",
   "metadata": {},
   "source": [
    "## Stage 3. Hypothesis testing <a id='Hypothesis_testing'></a>"
   ]
  },
  {
   "attachments": {},
   "cell_type": "markdown",
   "metadata": {},
   "source": [
    "### 3.1 Data correlations <a id='data_correlation'></a>"
   ]
  },
  {
   "cell_type": "markdown",
   "metadata": {},
   "source": [
    "**Is there a correlation between having children and paying on time?**"
   ]
  },
  {
   "cell_type": "code",
   "execution_count": 70,
   "metadata": {},
   "outputs": [
    {
     "data": {
      "text/html": [
       "<style type=\"text/css\">\n",
       "#T_f7ef8_row0_col0 {\n",
       "  width: 10em;\n",
       "  background: linear-gradient(90deg, #ff6200 0.4%, transparent 0.4%);\n",
       "}\n",
       "#T_f7ef8_row0_col1, #T_f7ef8_row4_col0 {\n",
       "  width: 10em;\n",
       "  background: linear-gradient(90deg, #ff6200 100.0%, transparent 100.0%);\n",
       "}\n",
       "#T_f7ef8_row1_col0 {\n",
       "  width: 10em;\n",
       "  background: linear-gradient(90deg, #ff6200 19.0%, transparent 19.0%);\n",
       "}\n",
       "#T_f7ef8_row1_col1 {\n",
       "  width: 10em;\n",
       "  background: linear-gradient(90deg, #ff6200 97.2%, transparent 97.2%);\n",
       "}\n",
       "#T_f7ef8_row2_col0 {\n",
       "  width: 10em;\n",
       "  background: linear-gradient(90deg, #ff6200 41.9%, transparent 41.9%);\n",
       "}\n",
       "#T_f7ef8_row2_col1 {\n",
       "  width: 10em;\n",
       "  background: linear-gradient(90deg, #ff6200 94.0%, transparent 94.0%);\n",
       "}\n",
       "#T_f7ef8_row3_col0 {\n",
       "  width: 10em;\n",
       "  background: linear-gradient(90deg, #ff6200 2.5%, transparent 2.5%);\n",
       "}\n",
       "#T_f7ef8_row3_col1 {\n",
       "  width: 10em;\n",
       "  background: linear-gradient(90deg, #ff6200 83.8%, transparent 83.8%);\n",
       "}\n",
       "#T_f7ef8_row4_col1 {\n",
       "  width: 10em;\n",
       "  background: linear-gradient(90deg, #ff6200 77.3%, transparent 77.3%);\n",
       "}\n",
       "#T_f7ef8_row5_col0, #T_f7ef8_row5_col1 {\n",
       "  width: 10em;\n",
       "}\n",
       "</style>\n",
       "<table id=\"T_f7ef8\">\n",
       "  <thead>\n",
       "    <tr>\n",
       "      <th class=\"blank level0\" >&nbsp;</th>\n",
       "      <th id=\"T_f7ef8_level0_col0\" class=\"col_heading level0 col0\" >debt</th>\n",
       "      <th id=\"T_f7ef8_level0_col1\" class=\"col_heading level0 col1\" >default_rate_%</th>\n",
       "    </tr>\n",
       "    <tr>\n",
       "      <th class=\"index_name level0\" >children</th>\n",
       "      <th class=\"blank col0\" >&nbsp;</th>\n",
       "      <th class=\"blank col1\" >&nbsp;</th>\n",
       "    </tr>\n",
       "  </thead>\n",
       "  <tbody>\n",
       "    <tr>\n",
       "      <th id=\"T_f7ef8_level0_row0\" class=\"row_heading level0 row0\" >4</th>\n",
       "      <td id=\"T_f7ef8_row0_col0\" class=\"data row0 col0\" >4</td>\n",
       "      <td id=\"T_f7ef8_row0_col1\" class=\"data row0 col1\" >9.760000</td>\n",
       "    </tr>\n",
       "    <tr>\n",
       "      <th id=\"T_f7ef8_level0_row1\" class=\"row_heading level0 row1\" >2</th>\n",
       "      <td id=\"T_f7ef8_row1_col0\" class=\"data row1 col0\" >202</td>\n",
       "      <td id=\"T_f7ef8_row1_col1\" class=\"data row1 col1\" >9.490000</td>\n",
       "    </tr>\n",
       "    <tr>\n",
       "      <th id=\"T_f7ef8_level0_row2\" class=\"row_heading level0 row2\" >1</th>\n",
       "      <td id=\"T_f7ef8_row2_col0\" class=\"data row2 col0\" >445</td>\n",
       "      <td id=\"T_f7ef8_row2_col1\" class=\"data row2 col1\" >9.170000</td>\n",
       "    </tr>\n",
       "    <tr>\n",
       "      <th id=\"T_f7ef8_level0_row3\" class=\"row_heading level0 row3\" >3</th>\n",
       "      <td id=\"T_f7ef8_row3_col0\" class=\"data row3 col0\" >27</td>\n",
       "      <td id=\"T_f7ef8_row3_col1\" class=\"data row3 col1\" >8.180000</td>\n",
       "    </tr>\n",
       "    <tr>\n",
       "      <th id=\"T_f7ef8_level0_row4\" class=\"row_heading level0 row4\" >0</th>\n",
       "      <td id=\"T_f7ef8_row4_col0\" class=\"data row4 col0\" >1063</td>\n",
       "      <td id=\"T_f7ef8_row4_col1\" class=\"data row4 col1\" >7.540000</td>\n",
       "    </tr>\n",
       "    <tr>\n",
       "      <th id=\"T_f7ef8_level0_row5\" class=\"row_heading level0 row5\" >5</th>\n",
       "      <td id=\"T_f7ef8_row5_col0\" class=\"data row5 col0\" >0</td>\n",
       "      <td id=\"T_f7ef8_row5_col1\" class=\"data row5 col1\" >0.000000</td>\n",
       "    </tr>\n",
       "  </tbody>\n",
       "</table>\n"
      ],
      "text/plain": [
       "<pandas.io.formats.style.Styler at 0x1a543553760>"
      ]
     },
     "execution_count": 70,
     "metadata": {},
     "output_type": "execute_result"
    }
   ],
   "source": [
    "# Checking the data on the children and punctual payments\n",
    "\n",
    "deb_clients = df['children'].value_counts()\n",
    "\n",
    "children_deb = df.groupby('children').agg({'debt':'sum'})\n",
    "\n",
    "children_deb[\"default_rate_%\"] = (100*children_deb['debt']/deb_clients).round(2)\n",
    "\n",
    "children_deb.sort_values(by = 'default_rate_%', ascending=False, inplace=True)\n",
    "\n",
    "\n",
    "children_deb.style.bar(color= '#ff6200')"
   ]
  },
  {
   "cell_type": "markdown",
   "metadata": {},
   "source": [
    "This last means respectively that:\n",
    "- 1063 clients with no children have not paid previous debts\n",
    "- 445 clients with 1 children have not paid previous debts\n",
    "- etc."
   ]
  },
  {
   "cell_type": "markdown",
   "metadata": {},
   "source": [
    "**Conclusion**\n",
    "\n",
    "So we realize that, statistically speaking, the default rate of customer with no children is the lowest (i did not consider clients with 5 children) thus they are more likely to pay back their debt whereas customers with 4 children are the worst. "
   ]
  },
  {
   "cell_type": "markdown",
   "metadata": {},
   "source": [
    "**Is there a correlation between family situation and paying on time?**"
   ]
  },
  {
   "cell_type": "code",
   "execution_count": 71,
   "metadata": {},
   "outputs": [
    {
     "data": {
      "text/html": [
       "<style type=\"text/css\">\n",
       "#T_c2cc5_row0_col0 {\n",
       "  width: 10em;\n",
       "  background: linear-gradient(90deg, #ff6200 29.4%, transparent 29.4%);\n",
       "}\n",
       "#T_c2cc5_row0_col1, #T_c2cc5_row2_col0 {\n",
       "  width: 10em;\n",
       "  background: linear-gradient(90deg, #ff6200 100.0%, transparent 100.0%);\n",
       "}\n",
       "#T_c2cc5_row1_col0 {\n",
       "  width: 10em;\n",
       "  background: linear-gradient(90deg, #ff6200 41.7%, transparent 41.7%);\n",
       "}\n",
       "#T_c2cc5_row1_col1 {\n",
       "  width: 10em;\n",
       "  background: linear-gradient(90deg, #ff6200 95.9%, transparent 95.9%);\n",
       "}\n",
       "#T_c2cc5_row2_col1 {\n",
       "  width: 10em;\n",
       "  background: linear-gradient(90deg, #ff6200 77.4%, transparent 77.4%);\n",
       "}\n",
       "#T_c2cc5_row3_col0 {\n",
       "  width: 10em;\n",
       "  background: linear-gradient(90deg, #ff6200 9.1%, transparent 9.1%);\n",
       "}\n",
       "#T_c2cc5_row3_col1 {\n",
       "  width: 10em;\n",
       "  background: linear-gradient(90deg, #ff6200 72.9%, transparent 72.9%);\n",
       "}\n",
       "#T_c2cc5_row4_col0 {\n",
       "  width: 10em;\n",
       "  background: linear-gradient(90deg, #ff6200 6.8%, transparent 6.8%);\n",
       "}\n",
       "#T_c2cc5_row4_col1 {\n",
       "  width: 10em;\n",
       "  background: linear-gradient(90deg, #ff6200 67.4%, transparent 67.4%);\n",
       "}\n",
       "</style>\n",
       "<table id=\"T_c2cc5\">\n",
       "  <thead>\n",
       "    <tr>\n",
       "      <th class=\"blank level0\" >&nbsp;</th>\n",
       "      <th id=\"T_c2cc5_level0_col0\" class=\"col_heading level0 col0\" >debt</th>\n",
       "      <th id=\"T_c2cc5_level0_col1\" class=\"col_heading level0 col1\" >default_rate %</th>\n",
       "    </tr>\n",
       "    <tr>\n",
       "      <th class=\"index_name level0\" >family_status</th>\n",
       "      <th class=\"blank col0\" >&nbsp;</th>\n",
       "      <th class=\"blank col1\" >&nbsp;</th>\n",
       "    </tr>\n",
       "  </thead>\n",
       "  <tbody>\n",
       "    <tr>\n",
       "      <th id=\"T_c2cc5_level0_row0\" class=\"row_heading level0 row0\" >unmarried</th>\n",
       "      <td id=\"T_c2cc5_row0_col0\" class=\"data row0 col0\" >274</td>\n",
       "      <td id=\"T_c2cc5_row0_col1\" class=\"data row0 col1\" >9.750000</td>\n",
       "    </tr>\n",
       "    <tr>\n",
       "      <th id=\"T_c2cc5_level0_row1\" class=\"row_heading level0 row1\" >civil partnership</th>\n",
       "      <td id=\"T_c2cc5_row1_col0\" class=\"data row1 col0\" >388</td>\n",
       "      <td id=\"T_c2cc5_row1_col1\" class=\"data row1 col1\" >9.350000</td>\n",
       "    </tr>\n",
       "    <tr>\n",
       "      <th id=\"T_c2cc5_level0_row2\" class=\"row_heading level0 row2\" >married</th>\n",
       "      <td id=\"T_c2cc5_row2_col0\" class=\"data row2 col0\" >931</td>\n",
       "      <td id=\"T_c2cc5_row2_col1\" class=\"data row2 col1\" >7.550000</td>\n",
       "    </tr>\n",
       "    <tr>\n",
       "      <th id=\"T_c2cc5_level0_row3\" class=\"row_heading level0 row3\" >divorced</th>\n",
       "      <td id=\"T_c2cc5_row3_col0\" class=\"data row3 col0\" >85</td>\n",
       "      <td id=\"T_c2cc5_row3_col1\" class=\"data row3 col1\" >7.110000</td>\n",
       "    </tr>\n",
       "    <tr>\n",
       "      <th id=\"T_c2cc5_level0_row4\" class=\"row_heading level0 row4\" >widow / widower</th>\n",
       "      <td id=\"T_c2cc5_row4_col0\" class=\"data row4 col0\" >63</td>\n",
       "      <td id=\"T_c2cc5_row4_col1\" class=\"data row4 col1\" >6.570000</td>\n",
       "    </tr>\n",
       "  </tbody>\n",
       "</table>\n"
      ],
      "text/plain": [
       "<pandas.io.formats.style.Styler at 0x1a545363a90>"
      ]
     },
     "execution_count": 71,
     "metadata": {},
     "output_type": "execute_result"
    }
   ],
   "source": [
    "# Comprueba los datos del estado familiar y los pagos a tiempo \n",
    "\n",
    "fam_stat_clients = df['family_status'].value_counts()\n",
    "\n",
    "fam_stat_deb = df.groupby('family_status').agg({'debt':'sum'})\n",
    "\n",
    "fam_stat_deb[\"default_rate %\"] = (100*fam_stat_deb['debt']/fam_stat_clients).round(2)\n",
    "\n",
    "fam_stat_deb.sort_values(by = 'default_rate %', ascending=False, inplace=True)\n",
    "\n",
    "fam_stat_deb.style.bar(color= '#ff6200')"
   ]
  },
  {
   "cell_type": "markdown",
   "metadata": {},
   "source": [
    "**Conclusion**\n",
    "\n",
    "So we realize that the default rate of widow customer is the lowest thus they are more likely to pay back their debt whereas unmarried customers are the worst. "
   ]
  },
  {
   "cell_type": "markdown",
   "metadata": {},
   "source": [
    "**Is there a correlation between income level and on-time payment?**"
   ]
  },
  {
   "cell_type": "markdown",
   "metadata": {},
   "source": [
    "To do this, let's create a category of different income levels"
   ]
  },
  {
   "cell_type": "code",
   "execution_count": 72,
   "metadata": {},
   "outputs": [],
   "source": [
    "def total_income_group(income):\n",
    "    \"\"\"\n",
    "    The function returns the total income, using the following rules:\n",
    "    — >50k for customer who get more than 50k/year\n",
    "    — 35-50k for customer who get between 35k and 50k/year\n",
    "    — 25-34k for customer who who get between 25k and 34k/year\n",
    "    — 15-24k for customer who who get between 15k and 24k/year\n",
    "    — <15h for customer who who get less than 15k/year    \n",
    "    \"\"\"\n",
    "    \n",
    "    if income > 50000:\n",
    "        return '>50k'\n",
    "    if 35000 < income <= 50000:\n",
    "        return '35-50k'\n",
    "    if 25000 < income <= 35000:\n",
    "        return '25-34k'\n",
    "    if 15000 < income <= 25000:\n",
    "        return '15-24k'\n",
    "    if income <= 15000:\n",
    "        return '<15k'   "
   ]
  },
  {
   "cell_type": "code",
   "execution_count": 73,
   "metadata": {},
   "outputs": [
    {
     "data": {
      "text/html": [
       "<div>\n",
       "<style scoped>\n",
       "    .dataframe tbody tr th:only-of-type {\n",
       "        vertical-align: middle;\n",
       "    }\n",
       "\n",
       "    .dataframe tbody tr th {\n",
       "        vertical-align: top;\n",
       "    }\n",
       "\n",
       "    .dataframe thead th {\n",
       "        text-align: right;\n",
       "    }\n",
       "</style>\n",
       "<table border=\"1\" class=\"dataframe\">\n",
       "  <thead>\n",
       "    <tr style=\"text-align: right;\">\n",
       "      <th></th>\n",
       "      <th>children</th>\n",
       "      <th>days_employed</th>\n",
       "      <th>dob_years</th>\n",
       "      <th>education</th>\n",
       "      <th>education_id</th>\n",
       "      <th>family_status</th>\n",
       "      <th>family_status_id</th>\n",
       "      <th>gender</th>\n",
       "      <th>income_type</th>\n",
       "      <th>debt</th>\n",
       "      <th>total_income</th>\n",
       "      <th>purpose</th>\n",
       "      <th>age_cat</th>\n",
       "      <th>income_cat</th>\n",
       "    </tr>\n",
       "  </thead>\n",
       "  <tbody>\n",
       "    <tr>\n",
       "      <th>0</th>\n",
       "      <td>1</td>\n",
       "      <td>8437</td>\n",
       "      <td>42</td>\n",
       "      <td>bachelor's degree</td>\n",
       "      <td>0</td>\n",
       "      <td>married</td>\n",
       "      <td>0</td>\n",
       "      <td>F</td>\n",
       "      <td>employee</td>\n",
       "      <td>0</td>\n",
       "      <td>40620</td>\n",
       "      <td>real estate</td>\n",
       "      <td>36-46 yo</td>\n",
       "      <td>35-50k</td>\n",
       "    </tr>\n",
       "    <tr>\n",
       "      <th>1</th>\n",
       "      <td>1</td>\n",
       "      <td>4024</td>\n",
       "      <td>36</td>\n",
       "      <td>secondary education</td>\n",
       "      <td>1</td>\n",
       "      <td>married</td>\n",
       "      <td>0</td>\n",
       "      <td>F</td>\n",
       "      <td>employee</td>\n",
       "      <td>0</td>\n",
       "      <td>17932</td>\n",
       "      <td>car purchase</td>\n",
       "      <td>36-46 yo</td>\n",
       "      <td>15-24k</td>\n",
       "    </tr>\n",
       "    <tr>\n",
       "      <th>2</th>\n",
       "      <td>0</td>\n",
       "      <td>5623</td>\n",
       "      <td>33</td>\n",
       "      <td>secondary education</td>\n",
       "      <td>1</td>\n",
       "      <td>married</td>\n",
       "      <td>0</td>\n",
       "      <td>M</td>\n",
       "      <td>employee</td>\n",
       "      <td>0</td>\n",
       "      <td>23341</td>\n",
       "      <td>real estate</td>\n",
       "      <td>18-35 yo</td>\n",
       "      <td>15-24k</td>\n",
       "    </tr>\n",
       "    <tr>\n",
       "      <th>3</th>\n",
       "      <td>3</td>\n",
       "      <td>4124</td>\n",
       "      <td>32</td>\n",
       "      <td>secondary education</td>\n",
       "      <td>1</td>\n",
       "      <td>married</td>\n",
       "      <td>0</td>\n",
       "      <td>M</td>\n",
       "      <td>employee</td>\n",
       "      <td>0</td>\n",
       "      <td>42820</td>\n",
       "      <td>education</td>\n",
       "      <td>18-35 yo</td>\n",
       "      <td>35-50k</td>\n",
       "    </tr>\n",
       "    <tr>\n",
       "      <th>4</th>\n",
       "      <td>0</td>\n",
       "      <td>2302</td>\n",
       "      <td>53</td>\n",
       "      <td>secondary education</td>\n",
       "      <td>1</td>\n",
       "      <td>civil partnership</td>\n",
       "      <td>1</td>\n",
       "      <td>F</td>\n",
       "      <td>retiree</td>\n",
       "      <td>0</td>\n",
       "      <td>25378</td>\n",
       "      <td>wedding</td>\n",
       "      <td>47-66 yo</td>\n",
       "      <td>25-34k</td>\n",
       "    </tr>\n",
       "  </tbody>\n",
       "</table>\n",
       "</div>"
      ],
      "text/plain": [
       "   children  days_employed  dob_years            education  education_id  \\\n",
       "0         1           8437         42    bachelor's degree             0   \n",
       "1         1           4024         36  secondary education             1   \n",
       "2         0           5623         33  secondary education             1   \n",
       "3         3           4124         32  secondary education             1   \n",
       "4         0           2302         53  secondary education             1   \n",
       "\n",
       "       family_status  family_status_id gender income_type  debt  total_income  \\\n",
       "0            married                 0      F    employee     0         40620   \n",
       "1            married                 0      F    employee     0         17932   \n",
       "2            married                 0      M    employee     0         23341   \n",
       "3            married                 0      M    employee     0         42820   \n",
       "4  civil partnership                 1      F     retiree     0         25378   \n",
       "\n",
       "        purpose   age_cat income_cat  \n",
       "0   real estate  36-46 yo     35-50k  \n",
       "1  car purchase  36-46 yo     15-24k  \n",
       "2   real estate  18-35 yo     15-24k  \n",
       "3     education  18-35 yo     35-50k  \n",
       "4       wedding  47-66 yo     25-34k  "
      ]
     },
     "execution_count": 73,
     "metadata": {},
     "output_type": "execute_result"
    }
   ],
   "source": [
    "df['income_cat'] = df['total_income'].map(total_income_group)\n",
    "df.head()"
   ]
  },
  {
   "cell_type": "markdown",
   "metadata": {},
   "source": [
    "Good, Now we have a new column with income_cat !"
   ]
  },
  {
   "cell_type": "code",
   "execution_count": 74,
   "metadata": {},
   "outputs": [
    {
     "data": {
      "text/html": [
       "<style type=\"text/css\">\n",
       "#T_d2d19_row0_col0, #T_d2d19_row0_col1 {\n",
       "  width: 10em;\n",
       "  background: linear-gradient(90deg, #ff6200 100.0%, transparent 100.0%);\n",
       "}\n",
       "#T_d2d19_row1_col0 {\n",
       "  width: 10em;\n",
       "  background: linear-gradient(90deg, #ff6200 56.0%, transparent 56.0%);\n",
       "}\n",
       "#T_d2d19_row1_col1 {\n",
       "  width: 10em;\n",
       "  background: linear-gradient(90deg, #ff6200 92.8%, transparent 92.8%);\n",
       "}\n",
       "#T_d2d19_row2_col0 {\n",
       "  width: 10em;\n",
       "  background: linear-gradient(90deg, #ff6200 40.3%, transparent 40.3%);\n",
       "}\n",
       "#T_d2d19_row2_col1 {\n",
       "  width: 10em;\n",
       "  background: linear-gradient(90deg, #ff6200 91.6%, transparent 91.6%);\n",
       "}\n",
       "#T_d2d19_row3_col0 {\n",
       "  width: 10em;\n",
       "  background: linear-gradient(90deg, #ff6200 26.8%, transparent 26.8%);\n",
       "}\n",
       "#T_d2d19_row3_col1 {\n",
       "  width: 10em;\n",
       "  background: linear-gradient(90deg, #ff6200 83.0%, transparent 83.0%);\n",
       "}\n",
       "#T_d2d19_row4_col0 {\n",
       "  width: 10em;\n",
       "  background: linear-gradient(90deg, #ff6200 12.4%, transparent 12.4%);\n",
       "}\n",
       "#T_d2d19_row4_col1 {\n",
       "  width: 10em;\n",
       "  background: linear-gradient(90deg, #ff6200 80.2%, transparent 80.2%);\n",
       "}\n",
       "</style>\n",
       "<table id=\"T_d2d19\">\n",
       "  <thead>\n",
       "    <tr>\n",
       "      <th class=\"blank level0\" >&nbsp;</th>\n",
       "      <th id=\"T_d2d19_level0_col0\" class=\"col_heading level0 col0\" >debt</th>\n",
       "      <th id=\"T_d2d19_level0_col1\" class=\"col_heading level0 col1\" >default_rate_%</th>\n",
       "    </tr>\n",
       "    <tr>\n",
       "      <th class=\"index_name level0\" >income_cat</th>\n",
       "      <th class=\"blank col0\" >&nbsp;</th>\n",
       "      <th class=\"blank col1\" >&nbsp;</th>\n",
       "    </tr>\n",
       "  </thead>\n",
       "  <tbody>\n",
       "    <tr>\n",
       "      <th id=\"T_d2d19_level0_row0\" class=\"row_heading level0 row0\" >15-24k</th>\n",
       "      <td id=\"T_d2d19_row0_col0\" class=\"data row0 col0\" >739</td>\n",
       "      <td id=\"T_d2d19_row0_col1\" class=\"data row0 col1\" >8.690000</td>\n",
       "    </tr>\n",
       "    <tr>\n",
       "      <th id=\"T_d2d19_level0_row1\" class=\"row_heading level0 row1\" >25-34k</th>\n",
       "      <td id=\"T_d2d19_row1_col0\" class=\"data row1 col0\" >414</td>\n",
       "      <td id=\"T_d2d19_row1_col1\" class=\"data row1 col1\" >8.060000</td>\n",
       "    </tr>\n",
       "    <tr>\n",
       "      <th id=\"T_d2d19_level0_row2\" class=\"row_heading level0 row2\" ><15k</th>\n",
       "      <td id=\"T_d2d19_row2_col0\" class=\"data row2 col0\" >298</td>\n",
       "      <td id=\"T_d2d19_row2_col1\" class=\"data row2 col1\" >7.960000</td>\n",
       "    </tr>\n",
       "    <tr>\n",
       "      <th id=\"T_d2d19_level0_row3\" class=\"row_heading level0 row3\" >35-50k</th>\n",
       "      <td id=\"T_d2d19_row3_col0\" class=\"data row3 col0\" >198</td>\n",
       "      <td id=\"T_d2d19_row3_col1\" class=\"data row3 col1\" >7.210000</td>\n",
       "    </tr>\n",
       "    <tr>\n",
       "      <th id=\"T_d2d19_level0_row4\" class=\"row_heading level0 row4\" >>50k</th>\n",
       "      <td id=\"T_d2d19_row4_col0\" class=\"data row4 col0\" >92</td>\n",
       "      <td id=\"T_d2d19_row4_col1\" class=\"data row4 col1\" >6.970000</td>\n",
       "    </tr>\n",
       "  </tbody>\n",
       "</table>\n"
      ],
      "text/plain": [
       "<pandas.io.formats.style.Styler at 0x1a543552830>"
      ]
     },
     "execution_count": 74,
     "metadata": {},
     "output_type": "execute_result"
    }
   ],
   "source": [
    "income_clients = df['income_cat'].value_counts()\n",
    "\n",
    "income_deb = df.groupby('income_cat').agg({'debt':'sum'})\n",
    "\n",
    "income_deb[\"default_rate_%\"] = (100*income_deb['debt']/income_clients).round(2)\n",
    "\n",
    "income_deb.sort_values(by = 'default_rate_%', ascending=False, inplace=True)\n",
    "\n",
    "income_deb.style.bar(color= '#ff6200')\n"
   ]
  },
  {
   "cell_type": "markdown",
   "metadata": {},
   "source": [
    "This last means respectively that:\n",
    "- 739 clients with total_income between 15k-24k have not paid previous debts\n",
    "- 414 clients with total_income between 25k-34k have not paid previous debts\n",
    "- etc."
   ]
  },
  {
   "cell_type": "markdown",
   "metadata": {},
   "source": [
    "So we realize that, statistically speaking, customers with higher income are more likely to pay back their debt."
   ]
  },
  {
   "cell_type": "markdown",
   "metadata": {},
   "source": [
    "**How does the purpose of the loan affect the default rate?**"
   ]
  },
  {
   "cell_type": "code",
   "execution_count": 75,
   "metadata": {},
   "outputs": [
    {
     "data": {
      "text/html": [
       "<style type=\"text/css\">\n",
       "#T_018d5_row0_col0 {\n",
       "  width: 10em;\n",
       "  background: linear-gradient(90deg, #ff6200 51.5%, transparent 51.5%);\n",
       "}\n",
       "#T_018d5_row0_col1, #T_018d5_row3_col0 {\n",
       "  width: 10em;\n",
       "  background: linear-gradient(90deg, #ff6200 100.0%, transparent 100.0%);\n",
       "}\n",
       "#T_018d5_row1_col0 {\n",
       "  width: 10em;\n",
       "  background: linear-gradient(90deg, #ff6200 47.3%, transparent 47.3%);\n",
       "}\n",
       "#T_018d5_row1_col1 {\n",
       "  width: 10em;\n",
       "  background: linear-gradient(90deg, #ff6200 98.5%, transparent 98.5%);\n",
       "}\n",
       "#T_018d5_row2_col0 {\n",
       "  width: 10em;\n",
       "  background: linear-gradient(90deg, #ff6200 23.8%, transparent 23.8%);\n",
       "}\n",
       "#T_018d5_row2_col1 {\n",
       "  width: 10em;\n",
       "  background: linear-gradient(90deg, #ff6200 85.5%, transparent 85.5%);\n",
       "}\n",
       "#T_018d5_row3_col1 {\n",
       "  width: 10em;\n",
       "  background: linear-gradient(90deg, #ff6200 77.2%, transparent 77.2%);\n",
       "}\n",
       "</style>\n",
       "<table id=\"T_018d5\">\n",
       "  <thead>\n",
       "    <tr>\n",
       "      <th class=\"blank level0\" >&nbsp;</th>\n",
       "      <th id=\"T_018d5_level0_col0\" class=\"col_heading level0 col0\" >debt</th>\n",
       "      <th id=\"T_018d5_level0_col1\" class=\"col_heading level0 col1\" >default_rate_%</th>\n",
       "    </tr>\n",
       "    <tr>\n",
       "      <th class=\"index_name level0\" >purpose</th>\n",
       "      <th class=\"blank col0\" >&nbsp;</th>\n",
       "      <th class=\"blank col1\" >&nbsp;</th>\n",
       "    </tr>\n",
       "  </thead>\n",
       "  <tbody>\n",
       "    <tr>\n",
       "      <th id=\"T_018d5_level0_row0\" class=\"row_heading level0 row0\" >car purchase</th>\n",
       "      <td id=\"T_018d5_row0_col0\" class=\"data row0 col0\" >403</td>\n",
       "      <td id=\"T_018d5_row0_col1\" class=\"data row0 col1\" >9.360000</td>\n",
       "    </tr>\n",
       "    <tr>\n",
       "      <th id=\"T_018d5_level0_row1\" class=\"row_heading level0 row1\" >education</th>\n",
       "      <td id=\"T_018d5_row1_col0\" class=\"data row1 col0\" >370</td>\n",
       "      <td id=\"T_018d5_row1_col1\" class=\"data row1 col1\" >9.220000</td>\n",
       "    </tr>\n",
       "    <tr>\n",
       "      <th id=\"T_018d5_level0_row2\" class=\"row_heading level0 row2\" >wedding</th>\n",
       "      <td id=\"T_018d5_row2_col0\" class=\"data row2 col0\" >186</td>\n",
       "      <td id=\"T_018d5_row2_col1\" class=\"data row2 col1\" >8.000000</td>\n",
       "    </tr>\n",
       "    <tr>\n",
       "      <th id=\"T_018d5_level0_row3\" class=\"row_heading level0 row3\" >real estate</th>\n",
       "      <td id=\"T_018d5_row3_col0\" class=\"data row3 col0\" >782</td>\n",
       "      <td id=\"T_018d5_row3_col1\" class=\"data row3 col1\" >7.230000</td>\n",
       "    </tr>\n",
       "  </tbody>\n",
       "</table>\n"
      ],
      "text/plain": [
       "<pandas.io.formats.style.Styler at 0x1a545363c70>"
      ]
     },
     "execution_count": 75,
     "metadata": {},
     "output_type": "execute_result"
    }
   ],
   "source": [
    "# Consulting the default rate percentages for each credit purpose and analyze them\n",
    "\n",
    "purpose_clients = df['purpose'].value_counts()\n",
    "\n",
    "purpose_deb = df.groupby('purpose').agg({'debt':'sum'})\n",
    "\n",
    "purpose_deb[\"default_rate_%\"] = (100*purpose_deb['debt']/purpose_clients).round(2)\n",
    "\n",
    "purpose_deb.sort_values(by = 'default_rate_%', ascending=False, inplace=True)\n",
    "\n",
    "purpose_deb.style.bar(color= '#ff6200')"
   ]
  },
  {
   "cell_type": "markdown",
   "metadata": {},
   "source": [
    "So we realize that, statistically speaking, customers with real estate as a purpose are more likely to pay back their debt and customers with car purchase are the least trustable"
   ]
  },
  {
   "cell_type": "markdown",
   "metadata": {},
   "source": [
    "**How does education affect the default rate?**"
   ]
  },
  {
   "cell_type": "code",
   "execution_count": 76,
   "metadata": {},
   "outputs": [
    {
     "data": {
      "text/html": [
       "<style type=\"text/css\">\n",
       "#T_2ab82_row0_col0 {\n",
       "  width: 10em;\n",
       "  background: linear-gradient(90deg, #ff6200 2.3%, transparent 2.3%);\n",
       "}\n",
       "#T_2ab82_row0_col1, #T_2ab82_row2_col0 {\n",
       "  width: 10em;\n",
       "  background: linear-gradient(90deg, #ff6200 100.0%, transparent 100.0%);\n",
       "}\n",
       "#T_2ab82_row1_col0 {\n",
       "  width: 10em;\n",
       "  background: linear-gradient(90deg, #ff6200 5.0%, transparent 5.0%);\n",
       "}\n",
       "#T_2ab82_row1_col1 {\n",
       "  width: 10em;\n",
       "  background: linear-gradient(90deg, #ff6200 83.2%, transparent 83.2%);\n",
       "}\n",
       "#T_2ab82_row2_col1 {\n",
       "  width: 10em;\n",
       "  background: linear-gradient(90deg, #ff6200 81.8%, transparent 81.8%);\n",
       "}\n",
       "#T_2ab82_row3_col0 {\n",
       "  width: 10em;\n",
       "  background: linear-gradient(90deg, #ff6200 20.4%, transparent 20.4%);\n",
       "}\n",
       "#T_2ab82_row3_col1 {\n",
       "  width: 10em;\n",
       "  background: linear-gradient(90deg, #ff6200 48.2%, transparent 48.2%);\n",
       "}\n",
       "#T_2ab82_row4_col0, #T_2ab82_row4_col1 {\n",
       "  width: 10em;\n",
       "}\n",
       "</style>\n",
       "<table id=\"T_2ab82\">\n",
       "  <thead>\n",
       "    <tr>\n",
       "      <th class=\"blank level0\" >&nbsp;</th>\n",
       "      <th id=\"T_2ab82_level0_col0\" class=\"col_heading level0 col0\" >debt</th>\n",
       "      <th id=\"T_2ab82_level0_col1\" class=\"col_heading level0 col1\" >default_rate_%</th>\n",
       "    </tr>\n",
       "    <tr>\n",
       "      <th class=\"index_name level0\" >education</th>\n",
       "      <th class=\"blank col0\" >&nbsp;</th>\n",
       "      <th class=\"blank col1\" >&nbsp;</th>\n",
       "    </tr>\n",
       "  </thead>\n",
       "  <tbody>\n",
       "    <tr>\n",
       "      <th id=\"T_2ab82_level0_row0\" class=\"row_heading level0 row0\" >primary education</th>\n",
       "      <td id=\"T_2ab82_row0_col0\" class=\"data row0 col0\" >31</td>\n",
       "      <td id=\"T_2ab82_row0_col1\" class=\"data row0 col1\" >10.990000</td>\n",
       "    </tr>\n",
       "    <tr>\n",
       "      <th id=\"T_2ab82_level0_row1\" class=\"row_heading level0 row1\" >some college</th>\n",
       "      <td id=\"T_2ab82_row1_col0\" class=\"data row1 col0\" >68</td>\n",
       "      <td id=\"T_2ab82_row1_col1\" class=\"data row1 col1\" >9.140000</td>\n",
       "    </tr>\n",
       "    <tr>\n",
       "      <th id=\"T_2ab82_level0_row2\" class=\"row_heading level0 row2\" >secondary education</th>\n",
       "      <td id=\"T_2ab82_row2_col0\" class=\"data row2 col0\" >1364</td>\n",
       "      <td id=\"T_2ab82_row2_col1\" class=\"data row2 col1\" >8.990000</td>\n",
       "    </tr>\n",
       "    <tr>\n",
       "      <th id=\"T_2ab82_level0_row3\" class=\"row_heading level0 row3\" >bachelor's degree</th>\n",
       "      <td id=\"T_2ab82_row3_col0\" class=\"data row3 col0\" >278</td>\n",
       "      <td id=\"T_2ab82_row3_col1\" class=\"data row3 col1\" >5.300000</td>\n",
       "    </tr>\n",
       "    <tr>\n",
       "      <th id=\"T_2ab82_level0_row4\" class=\"row_heading level0 row4\" >graduate degree</th>\n",
       "      <td id=\"T_2ab82_row4_col0\" class=\"data row4 col0\" >0</td>\n",
       "      <td id=\"T_2ab82_row4_col1\" class=\"data row4 col1\" >0.000000</td>\n",
       "    </tr>\n",
       "  </tbody>\n",
       "</table>\n"
      ],
      "text/plain": [
       "<pandas.io.formats.style.Styler at 0x1a543553b20>"
      ]
     },
     "execution_count": 76,
     "metadata": {},
     "output_type": "execute_result"
    }
   ],
   "source": [
    "education_clients = df['education'].value_counts()\n",
    "\n",
    "education_deb = df.groupby('education').agg({'debt':'sum'})\n",
    "\n",
    "education_deb[\"default_rate_%\"] = (100*education_deb['debt']/education_clients).round(2)\n",
    "\n",
    "education_deb.sort_values(by = 'default_rate_%', ascending=False, inplace=True)\n",
    "\n",
    "education_deb.style.bar(color= '#ff6200')"
   ]
  },
  {
   "cell_type": "markdown",
   "metadata": {},
   "source": [
    "So we realize that, statistically speaking, customers with bachelor's degree  are more likely to pay back their debt and customers with primary education are the least trustable"
   ]
  },
  {
   "attachments": {},
   "cell_type": "markdown",
   "metadata": {},
   "source": [
    "### 3.2 Credit score creation <a id='credit_score_creation'></a>"
   ]
  },
  {
   "cell_type": "markdown",
   "metadata": {},
   "source": [
    "Now we know for each category evaluated (number of children, family status, total income, purpose and education) which group is more financially reliable and who is less. So we can create an index for every one and then calculate the overall creditworthiness of every customer"
   ]
  },
  {
   "cell_type": "markdown",
   "metadata": {},
   "source": [
    "Lets begin setting an index for children"
   ]
  },
  {
   "cell_type": "code",
   "execution_count": 77,
   "metadata": {},
   "outputs": [],
   "source": [
    "def children_index(children):\n",
    "    \"\"\"\n",
    "    The function returns the children index according to the previous analysis, using the following rules:\n",
    "    — index = 6 (max) for customer with 5 children\n",
    "    — index = 5 for customer with 0 children\n",
    "    — index = 4 for customer with 3 children\n",
    "    — index = 3 for customer with 1 children\n",
    "    — index = 2 for customer with 2 children\n",
    "    — index = 1 (min) for customer with 4 children \n",
    "    \"\"\"\n",
    "    \n",
    "    if children == 5:\n",
    "        return 6\n",
    "    if children == 0:\n",
    "        return 5\n",
    "    if children == 3:\n",
    "        return 4\n",
    "    if children == 1:\n",
    "        return 3\n",
    "    if children == 2:\n",
    "        return 2\n",
    "    if children == 4:\n",
    "        return 1"
   ]
  },
  {
   "cell_type": "markdown",
   "metadata": {},
   "source": [
    "Let's create a new column 'children_ind' using the previous function"
   ]
  },
  {
   "cell_type": "code",
   "execution_count": 78,
   "metadata": {},
   "outputs": [],
   "source": [
    "df['children_ind'] = df['children'].map(children_index)"
   ]
  },
  {
   "cell_type": "markdown",
   "metadata": {},
   "source": [
    "Lets set an index for age"
   ]
  },
  {
   "cell_type": "code",
   "execution_count": 79,
   "metadata": {},
   "outputs": [],
   "source": [
    "def age_index(age):\n",
    "    \n",
    "    \"\"\"\n",
    "    The function returns the age index according to the previous analysis, using the following rules:\n",
    "    — index = 4 (max) for customer aged 18-35\n",
    "    — index = 3 for customer aged 36-46\n",
    "    — index = 2 for customer aged 47-66\n",
    "    — index = 1 (min) for customer aged >66  \n",
    "    \"\"\"\n",
    "    \n",
    "    if 18 <= age <= 35:\n",
    "        return 1\n",
    "    if 36 <= age <= 46:\n",
    "        return 2\n",
    "    if 47 <= age <= 66:\n",
    "        return 3\n",
    "    if age >= 66:\n",
    "        return 4"
   ]
  },
  {
   "cell_type": "markdown",
   "metadata": {},
   "source": [
    "Let's create a new column 'age_ind' using the previous function"
   ]
  },
  {
   "cell_type": "code",
   "execution_count": 80,
   "metadata": {},
   "outputs": [],
   "source": [
    "df['age_ind'] = df['dob_years'].map(age_index)"
   ]
  },
  {
   "cell_type": "markdown",
   "metadata": {},
   "source": [
    "Lets set an index for family status"
   ]
  },
  {
   "cell_type": "code",
   "execution_count": 81,
   "metadata": {},
   "outputs": [],
   "source": [
    "def family_status_index(family_status):\n",
    "    \"\"\"\n",
    "    The function returns the family status index according to the previous analysis, using the following rules:\n",
    "    — index = 5 (max) for widow customer \n",
    "    — index = 4 for divorced customer \n",
    "    — index = 3 for married customer\n",
    "    — index = 2 for civil partnership customer\n",
    "    — index = 1 (min) for unmarried customer  \n",
    "    \"\"\"\n",
    "    \n",
    "    if family_status == 'unmarried':\n",
    "        return 1\n",
    "    if family_status == 'civil partnership':\n",
    "        return 2\n",
    "    if family_status == 'married':\n",
    "        return 3\n",
    "    if family_status == 'divorced':\n",
    "        return 4\n",
    "    if family_status == 'widow / widower':\n",
    "        return 5"
   ]
  },
  {
   "cell_type": "markdown",
   "metadata": {},
   "source": [
    "Let's create a new column 'family_status_ind' using the previous function"
   ]
  },
  {
   "cell_type": "code",
   "execution_count": 82,
   "metadata": {},
   "outputs": [],
   "source": [
    "df['family_status_ind'] = df['family_status'].map(family_status_index)"
   ]
  },
  {
   "cell_type": "markdown",
   "metadata": {},
   "source": [
    "Lets set an index for education"
   ]
  },
  {
   "cell_type": "code",
   "execution_count": 83,
   "metadata": {},
   "outputs": [],
   "source": [
    "def education_index(education):\n",
    "    \"\"\"\n",
    "    The function returns the education index according to the previous analysis, using the following rules:\n",
    "    — index = 5 (max) for graduate degree customer \n",
    "    — index = 4 for bachelor's degree customer \n",
    "    — index = 3 for secondary education customer\n",
    "    — index = 2 for some college customer\n",
    "    — index = 1 (min) for primary education customer  \n",
    "    \"\"\"\n",
    "    \n",
    "    if education == 'primary education':\n",
    "        return 1\n",
    "    if education == 'some college':\n",
    "        return 2\n",
    "    if education == 'secondary education':\n",
    "        return 3\n",
    "    if education == \"bachelor's degree\":\n",
    "        return 4\n",
    "    if education == \"graduate degree\":\n",
    "        return 5"
   ]
  },
  {
   "cell_type": "markdown",
   "metadata": {},
   "source": [
    "Let's create a new column 'education_ind' using the previous function"
   ]
  },
  {
   "cell_type": "code",
   "execution_count": 84,
   "metadata": {},
   "outputs": [],
   "source": [
    "df['education_ind'] = df['education'].map(education_index)"
   ]
  },
  {
   "cell_type": "markdown",
   "metadata": {},
   "source": [
    "Lets set an index for income"
   ]
  },
  {
   "cell_type": "code",
   "execution_count": 85,
   "metadata": {},
   "outputs": [],
   "source": [
    "def income_index(income):\n",
    "    \"\"\"\n",
    "    The function returns the income index according to the previous analysis, using the following rules:\n",
    "    — index = 5 (max) for customer who get more than 50k/year\n",
    "    — index = 4 for customer who get between 35k and 50k/year\n",
    "    — index = 3 for customer who who get less than 15k/year\n",
    "    — index = 2 for customer who who get between 25k and 35k/year\n",
    "    — index = 1 (min) for customer who between 15k and 24k/year    \n",
    "    \"\"\"\n",
    "    \n",
    "    if income > 50000:\n",
    "        return 5\n",
    "    if 35000 < income <= 50000:\n",
    "        return 4\n",
    "    if 25000 < income <= 35000:\n",
    "        return 2\n",
    "    if 15000 < income <= 25000:\n",
    "        return 1\n",
    "    if income <= 15000:\n",
    "        return 3 "
   ]
  },
  {
   "cell_type": "markdown",
   "metadata": {},
   "source": [
    "Let's create a new column 'income_ind' using the previous function"
   ]
  },
  {
   "cell_type": "code",
   "execution_count": 86,
   "metadata": {},
   "outputs": [],
   "source": [
    "df['income_ind'] = df['total_income'].map(income_index)"
   ]
  },
  {
   "cell_type": "markdown",
   "metadata": {},
   "source": [
    "Lets set an index for purpose"
   ]
  },
  {
   "cell_type": "code",
   "execution_count": 87,
   "metadata": {},
   "outputs": [],
   "source": [
    "def purpose_index(purpose):\n",
    "    \"\"\"\n",
    "    The function returns the purpose index according to the previous analysis, using the following rules:\n",
    "    — index = 4 (max) for real estate customer \n",
    "    — index = 3 for wedding customer\n",
    "    — index = 2 for education customer\n",
    "    — index = 1 (min) car purchase customer  \n",
    "    \"\"\"\n",
    "    \n",
    "    if purpose == 'car purchase':\n",
    "        return 1\n",
    "    if purpose == 'education':\n",
    "        return 2\n",
    "    if purpose == 'wedding':\n",
    "        return 3\n",
    "    if purpose == \"real estate\":\n",
    "        return 4"
   ]
  },
  {
   "cell_type": "markdown",
   "metadata": {},
   "source": [
    "Let's create a new column 'purpose_ind' using the previous function"
   ]
  },
  {
   "cell_type": "code",
   "execution_count": 88,
   "metadata": {},
   "outputs": [],
   "source": [
    "df['purpose_ind'] = df['purpose'].map(purpose_index)"
   ]
  },
  {
   "cell_type": "markdown",
   "metadata": {},
   "source": [
    "And finally we can have the final index of every row just calculating the mean value of all the indexes"
   ]
  },
  {
   "cell_type": "code",
   "execution_count": 89,
   "metadata": {},
   "outputs": [],
   "source": [
    "df['final_ind'] = ((df['children_ind'] + df['age_ind'] + df['family_status_ind'] + df['education_ind'] + df['income_ind'] + df['purpose_ind'])/6).round(2)"
   ]
  },
  {
   "cell_type": "markdown",
   "metadata": {},
   "source": [
    "Practically speaking, the final index ranges between 1 and 4.8 where. The smaller is the final index the lower is the creditworthiness of the debtor."
   ]
  },
  {
   "attachments": {},
   "cell_type": "markdown",
   "metadata": {},
   "source": [
    "## General conclusion <a id='conclusion'></a>"
   ]
  },
  {
   "cell_type": "markdown",
   "metadata": {},
   "source": [
    "We begun with a 21525x12 dataframe whith more or less 10% of rows with absent values. These absent values were always in the columns \"days_employed\" and \"total_income\" at the same time but anyway I did not discovered any connection between them.\n",
    "Once I worked the values in \"days_employed\", meaning that I deleted the original positive values because to high to be reasonable and replaced them with the median value of the correspondent age category and converted the negative float values into positive int values.\n",
    "I dropped the duplicated values (71 of them) and filled the absent values \"total_income\"  with the median value of the correspondent education. I did so because there were some outside values much higher or much smaller that could affect the simple average.\n",
    "After all this, I ended up with 21454 rows.\n",
    "After that I ran the analysis of every column based on categories and in relation with the ability to pay back the debt.\n",
    "\n",
    "Finally I discovered that prime indicators to measure the likeability of a client to pay back his debt are:\n",
    "- higher education\n",
    "- real estate purpose \n",
    "- high income level\n",
    "- not having children\n",
    "- be a widow/widower"
   ]
  }
 ],
 "metadata": {
  "ExecuteTimeLog": [
   {
    "duration": 2741,
    "start_time": "2021-10-21T01:08:49.480Z"
   },
   {
    "duration": 52,
    "start_time": "2021-10-21T01:08:53.315Z"
   },
   {
    "duration": 49,
    "start_time": "2021-10-21T01:08:57.432Z"
   },
   {
    "duration": 70,
    "start_time": "2021-10-21T01:09:07.706Z"
   }
  ],
  "kernelspec": {
   "display_name": "Python 3.10.8 64-bit",
   "language": "python",
   "name": "python3"
  },
  "language_info": {
   "codemirror_mode": {
    "name": "ipython",
    "version": 3
   },
   "file_extension": ".py",
   "mimetype": "text/x-python",
   "name": "python",
   "nbconvert_exporter": "python",
   "pygments_lexer": "ipython3",
   "version": "3.10.8"
  },
  "toc": {
   "base_numbering": 1,
   "nav_menu": {},
   "number_sections": true,
   "sideBar": true,
   "skip_h1_title": true,
   "title_cell": "Table of Contents",
   "title_sidebar": "Contents",
   "toc_cell": false,
   "toc_position": {},
   "toc_section_display": true,
   "toc_window_display": false
  },
  "vscode": {
   "interpreter": {
    "hash": "26de051ba29f2982a8de78e945f0abaf191376122a1563185a90213a26c5da77"
   }
  }
 },
 "nbformat": 4,
 "nbformat_minor": 2
}
