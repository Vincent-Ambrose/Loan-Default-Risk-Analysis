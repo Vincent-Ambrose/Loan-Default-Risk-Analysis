{
 "cells": [
  {
   "cell_type": "markdown",
   "metadata": {},
   "source": [
    "# Borrower default risk analysis\n",
    "\n",
    "This project consists of preparing a report for the loan division of a bank. I am going to find out if the marital status, the number of children, the total income etc. of a customer have an impact on a loan default. The bank already has some data on the creditworthiness of customers.\n",
    "\n",
    "This report aims to create a **credit score** for a potential customer. A **credit score** is used to assess a potential borrower's ability to repay their loan."
   ]
  },
  {
   "attachments": {},
   "cell_type": "markdown",
   "metadata": {},
   "source": [
    "* [Intro](#intro)\n",
    "* [Stage 1. Data description](#data_review)\n",
    "    * [1.1 Data collection](#data_collection)\n",
    "    * [1.2 Data exploration](#data_exploration)\n",
    "* [Stage 2. Data preprocessing](#data_preprocessing)\n",
    "    * [2.1 Data preparation](#data_preparation)\n",
    "    * [2.2 Data_classification](#data_classification)\n",
    "* [Stage 3. Hypothesis testing](#Hypothesis_testing)\n",
    "    * [3.1 Data correlation](#data_correlation)\n",
    "    * [3.2 Credit score creation](#credit_score_creation)\n",
    "* [General conclusion](#conclusion)"
   ]
  },
  {
   "attachments": {},
   "cell_type": "markdown",
   "metadata": {},
   "source": [
    "## Intro <a id='intro'></a>"
   ]
  },
  {
   "cell_type": "markdown",
   "metadata": {},
   "source": [
    "This work aim to analyze the borrower default risk using a set of data of previous customers. We are going to prepare a report for the loan division of a bank to assess a potential borrower's ability to pay back his loan. More precisely we will find out the following:\n",
    "- link between having children and solvency\n",
    "- link between marital status and solvency\n",
    "- link between total income and solvency\n",
    "- link between purpose and solvency and others."
   ]
  },
  {
   "attachments": {},
   "cell_type": "markdown",
   "metadata": {},
   "source": [
    "## Stage 1. Data description <a id='data_review'></a>"
   ]
  },
  {
   "attachments": {},
   "cell_type": "markdown",
   "metadata": {},
   "source": [
    "### 1.1 Data collection <a id='data_collection'></a>"
   ]
  },
  {
   "cell_type": "code",
   "execution_count": null,
   "metadata": {},
   "outputs": [],
   "source": [
    "# Loading all libraries\n",
    "import pandas as pd\n",
    "import jinja2"
   ]
  },
  {
   "cell_type": "code",
   "execution_count": null,
   "metadata": {},
   "outputs": [],
   "source": [
    "# Loading the data\n",
    "df = pd.read_csv('credit_scoring_eng.csv')"
   ]
  },
  {
   "cell_type": "code",
   "execution_count": null,
   "metadata": {},
   "outputs": [],
   "source": [
    "# Show the first lines of dataframe\n",
    "df.head()"
   ]
  },
  {
   "attachments": {},
   "cell_type": "markdown",
   "metadata": {},
   "source": [
    "### 1.2 Data exploration <a id='data_exploration'></a>"
   ]
  },
  {
   "cell_type": "markdown",
   "metadata": {},
   "source": [
    "**Data description**\n",
    "- `children` - the number of children in the family\n",
    "- `days_employed` - work experience in days\n",
    "- `dob_years` - the age of the client in years\n",
    "- `education` - customer education level\n",
    "- `education_id` - education identifier\n",
    "- `family_status` - marital status\n",
    "- `family_status_id` - family status identifier\n",
    "- `gender` - gender of the client\n",
    "- `income_type` - employment type\n",
    "- `debt` - was there any debt in repaying a loan?\n",
    "- `total_income` - monthly income\n",
    "- `purpose` - the purpose of obtaining a loan"
   ]
  },
  {
   "cell_type": "code",
   "execution_count": null,
   "metadata": {},
   "outputs": [],
   "source": [
    "# Let's see how many rows and columns our dataset has\n",
    "df.shape"
   ]
  },
  {
   "cell_type": "markdown",
   "metadata": {},
   "source": [
    "The initial dataframe is 21525 rows and 12 columns"
   ]
  },
  {
   "cell_type": "code",
   "execution_count": null,
   "metadata": {
    "scrolled": true
   },
   "outputs": [],
   "source": [
    "# Let's display the first 10 rows\n",
    "df.head(10)"
   ]
  },
  {
   "cell_type": "markdown",
   "metadata": {},
   "source": [
    "First thing that jumps to the eyes is the values in the column \"days_employed\": they are negative and this need further investigation. Moreover in the 'education' column we see lower and uppercase characters. We will fix it "
   ]
  },
  {
   "cell_type": "code",
   "execution_count": null,
   "metadata": {
    "scrolled": false
   },
   "outputs": [],
   "source": [
    "# Get insights into data info\n",
    "df.info()"
   ]
  },
  {
   "cell_type": "markdown",
   "metadata": {},
   "source": [
    "In the Dataframe some columns (days_employed, total_income) are not completely filled. For the moment, we leave that like this and soon we will evaluate if there's need to replace the \"null values\" or just dump them."
   ]
  },
  {
   "cell_type": "code",
   "execution_count": null,
   "metadata": {
    "scrolled": true
   },
   "outputs": [],
   "source": [
    "# Let's look at the filtered table with missing values from the first column where data is missing\n",
    "df[df['days_employed'].isna()]"
   ]
  },
  {
   "cell_type": "markdown",
   "metadata": {},
   "source": [
    "We notice that there are 2174 absent values in \"days_employed\" and we realize that for every row in which \"days_employed\" is absent, \"total_income\" is absent too."
   ]
  },
  {
   "cell_type": "code",
   "execution_count": null,
   "metadata": {},
   "outputs": [],
   "source": [
    "# Let's apply multiple conditions to filter data and see the number of rows in the filtered table.\n",
    "filtro_days_employed = df['days_employed'].isna()\n",
    "filtro_total_income = df['total_income'].isna()\n",
    "bank_list = df[filtro_days_employed & filtro_total_income]\n",
    "\n",
    "len(bank_list)\n"
   ]
  },
  {
   "cell_type": "markdown",
   "metadata": {},
   "source": [
    "**Conclusion**\n",
    "\n",
    "We see that the number of filtered values, that are the rows in which both 'days_employed' and 'total_income' are absent, is equal to the null values in the original dataframe. So, we can assume that there is a link between 'days_employed' and 'total_income'."
   ]
  },
  {
   "cell_type": "code",
   "execution_count": null,
   "metadata": {},
   "outputs": [],
   "source": [
    "# Let's see what percentage of rows with missing values are out of the total data frame\n",
    "perce =len(bank_list)/len(df)\n",
    "print(f'Percentage of number of filtered values over the original dataframe values: {perce:.0%}')"
   ]
  },
  {
   "cell_type": "markdown",
   "metadata": {},
   "source": [
    "The percentage of the rows with missing values over the rows of the initial dataframe is +/- 10%.\n",
    "I do not see any relation between the absence of values and some specific feature in the row.\n",
    "\n",
    "Since 10% don't seem to me a scary value, I will compare the relation of every feature (column) with the original dataframe and the dataframe composed only by rows with missing values"
   ]
  },
  {
   "cell_type": "code",
   "execution_count": null,
   "metadata": {},
   "outputs": [],
   "source": [
    "# We are going to investigate the clients that do not have data on the identified characteristic and the column with the missing values\n",
    "print(\"Relation with 'n of children' before filtering null values\")\n",
    "print(df['children'].value_counts())\n",
    "print()\n",
    "print(\"Relation with 'n of children' before filtering null values (percentage of the total)\")\n",
    "print(100*df['children'].value_counts()/df['children'].count())\n",
    "print()\n"
   ]
  },
  {
   "cell_type": "code",
   "execution_count": null,
   "metadata": {},
   "outputs": [],
   "source": [
    "print(\"Relation with 'n of children' with null values filtering\")\n",
    "print(bank_list['children'].value_counts())\n",
    "print()\n",
    "print(\"Relation with 'n of children' with null values filtering (percentage of the total)\")\n",
    "print(100*bank_list['children'].value_counts()/bank_list['children'].count())"
   ]
  },
  {
   "cell_type": "markdown",
   "metadata": {},
   "source": [
    "The relation between the 2 cases is coherent. So, we can confirm there's no actual connection between the n of children and the absent values"
   ]
  },
  {
   "cell_type": "markdown",
   "metadata": {},
   "source": [
    "Lets do the same with age:"
   ]
  },
  {
   "cell_type": "code",
   "execution_count": null,
   "metadata": {},
   "outputs": [],
   "source": [
    "print(\"Relation with 'age' before filtering null values\")\n",
    "print(df['dob_years'].value_counts().head())\n",
    "print()\n",
    "print(\"Relation with 'age' before filtering null values (percentage of the total)\")\n",
    "print((100*df['dob_years'].value_counts()/df['dob_years'].count()).head())"
   ]
  },
  {
   "cell_type": "code",
   "execution_count": null,
   "metadata": {},
   "outputs": [],
   "source": [
    "print(\"Relation with 'age' with null values filtering\")\n",
    "print(bank_list['dob_years'].value_counts().head())\n",
    "print()\n",
    "print(\"Relation with 'age' with null values filtering (percentage of the total)\")\n",
    "print((100*bank_list['dob_years'].value_counts()/bank_list['dob_years'].count()).head())"
   ]
  },
  {
   "cell_type": "markdown",
   "metadata": {},
   "source": [
    "The relation between the 2 cases is coherent. So, we can confirm there's no actual connection between the age and the absent values"
   ]
  },
  {
   "cell_type": "markdown",
   "metadata": {},
   "source": [
    "Lets do the same with education:"
   ]
  },
  {
   "cell_type": "code",
   "execution_count": null,
   "metadata": {},
   "outputs": [],
   "source": [
    "print(\"Relation with 'education' before filtering null values\")\n",
    "print(df['education'].value_counts())\n",
    "print()\n",
    "print(\"Relation with 'education' before filtering null values (percentage of the total)\")\n",
    "print((100*df['education'].value_counts()/df['education'].count()))"
   ]
  },
  {
   "cell_type": "code",
   "execution_count": null,
   "metadata": {},
   "outputs": [],
   "source": [
    "print(\"Relation with 'education' with null values filtering\")\n",
    "print(bank_list['education'].value_counts())\n",
    "print()\n",
    "print(\"Relation with 'education' with null values filtering (percentage of the total)\")\n",
    "print((100*bank_list['education'].value_counts()/bank_list['education'].count()))"
   ]
  },
  {
   "cell_type": "markdown",
   "metadata": {},
   "source": [
    "The relation between the 2 cases is coherent. So, we can confirm there's no actual connection between the education and the absent values"
   ]
  },
  {
   "cell_type": "markdown",
   "metadata": {},
   "source": [
    "Lets do the same with family status:"
   ]
  },
  {
   "cell_type": "code",
   "execution_count": null,
   "metadata": {
    "tags": []
   },
   "outputs": [],
   "source": [
    "print(\"Relation with 'family status' before filtering null values\")\n",
    "print(df['family_status'].value_counts())\n",
    "print()\n",
    "print(\"Relation with 'family status' before filtering null values (percentage of the total)\")\n",
    "print((100*df['family_status'].value_counts()/df['family_status'].count()))"
   ]
  },
  {
   "cell_type": "code",
   "execution_count": null,
   "metadata": {},
   "outputs": [],
   "source": [
    "print(\"Relation with 'family status' with null values filtering\")\n",
    "print(bank_list['family_status'].value_counts())\n",
    "print()\n",
    "print(\"Relation with 'family status' with null values filtering (percentage of the total)\")\n",
    "print((100*bank_list['family_status'].value_counts()/bank_list['family_status'].count()))"
   ]
  },
  {
   "cell_type": "markdown",
   "metadata": {},
   "source": [
    "The relation between the 2 cases is coherent. So, we can confirm there's no actual connection between the family status and the absent values"
   ]
  },
  {
   "cell_type": "markdown",
   "metadata": {},
   "source": [
    "\n",
    "\n",
    "Lets do the same with gender:"
   ]
  },
  {
   "cell_type": "code",
   "execution_count": null,
   "metadata": {},
   "outputs": [],
   "source": [
    "print(\"Relation with 'gender' before filtering null values\")\n",
    "print(df['gender'].value_counts())\n",
    "print()\n",
    "print(\"Relation with 'gender' before filtering null values (percentage of the total)\")\n",
    "print((100*df['gender'].value_counts()/df['gender'].count()))"
   ]
  },
  {
   "cell_type": "code",
   "execution_count": null,
   "metadata": {},
   "outputs": [],
   "source": [
    "print(\"Relation with 'gender' with null values filtering\")\n",
    "print(bank_list['gender'].value_counts())\n",
    "print()\n",
    "print(\"Relation with 'gender' with null values filtering (percentage of the total)\")\n",
    "print((100*bank_list['gender'].value_counts()/bank_list['gender'].count()))"
   ]
  },
  {
   "cell_type": "markdown",
   "metadata": {},
   "source": [
    "The relation between the 2 cases is coherent. So, we can confirm there's no actual connection between the gender and the absent values"
   ]
  },
  {
   "cell_type": "markdown",
   "metadata": {},
   "source": [
    "Lets do the same with income type:"
   ]
  },
  {
   "cell_type": "code",
   "execution_count": null,
   "metadata": {},
   "outputs": [],
   "source": [
    "print(\"Relation with 'income_type' before filtering null values\")\n",
    "print(df['income_type'].value_counts())\n",
    "print()\n",
    "print(\"Relation with 'income_type' before filtering null values (percentage of the total)\")\n",
    "print((100*df['income_type'].value_counts()/df['income_type'].count()))"
   ]
  },
  {
   "cell_type": "code",
   "execution_count": null,
   "metadata": {},
   "outputs": [],
   "source": [
    "print(\"Relation with 'income_type' with null values filtering\")\n",
    "print(bank_list['income_type'].value_counts())\n",
    "print()\n",
    "print(\"Relation with 'income_type' with null values filtering (percentage of the total)\")\n",
    "print((100*bank_list['income_type'].value_counts()/bank_list['income_type'].count()))"
   ]
  },
  {
   "cell_type": "markdown",
   "metadata": {},
   "source": [
    "The relation between the 2 cases is coherent. So, we can confirm there's no actual connection between the income type and the absent values"
   ]
  },
  {
   "cell_type": "markdown",
   "metadata": {},
   "source": [
    "Lets do the same with debt:"
   ]
  },
  {
   "cell_type": "code",
   "execution_count": null,
   "metadata": {},
   "outputs": [],
   "source": [
    "print(\"Relation with 'debt' before filtering null values\")\n",
    "print(df['debt'].value_counts())\n",
    "print()\n",
    "print(\"Relation with 'debt' before filtering null values (percentage of the total)\")\n",
    "print((100*df['debt'].value_counts()/df['debt'].count()))"
   ]
  },
  {
   "cell_type": "code",
   "execution_count": null,
   "metadata": {},
   "outputs": [],
   "source": [
    "print(\"Relation with 'debt' with null values filtering\")\n",
    "print(bank_list['debt'].value_counts())\n",
    "print()\n",
    "print(\"Relation with 'debt' with null values filtering (percentage of the total)\")\n",
    "print((100*bank_list['debt'].value_counts()/bank_list['debt'].count()))"
   ]
  },
  {
   "cell_type": "markdown",
   "metadata": {},
   "source": [
    "The relation between the 2 cases is coherent. So, we can confirm there's no actual connection between the debt and the absent values"
   ]
  },
  {
   "cell_type": "markdown",
   "metadata": {},
   "source": [
    "Lets do the same with purpose:"
   ]
  },
  {
   "cell_type": "code",
   "execution_count": null,
   "metadata": {},
   "outputs": [],
   "source": [
    "print(\"Relation with 'purpose' before filtering null values\")\n",
    "print(df['purpose'].value_counts().head())\n",
    "print()\n",
    "print(\"Relation with 'purpose' before filtering null values (percentage of the total)\")\n",
    "print((100*df['purpose'].value_counts()/df['purpose'].count()).head())"
   ]
  },
  {
   "cell_type": "code",
   "execution_count": null,
   "metadata": {},
   "outputs": [],
   "source": [
    "print(\"Relation with 'purpose' with null values filtering\")\n",
    "print(bank_list['purpose'].value_counts().head())\n",
    "print()\n",
    "print(\"Relation with 'purpose' with null values filtering (percentage of the total)\")\n",
    "print((100*bank_list['purpose'].value_counts()/bank_list['purpose'].count()).head())"
   ]
  },
  {
   "cell_type": "markdown",
   "metadata": {},
   "source": [
    "The relation between the 2 cases is coherent. So, we can confirm there's no actual connection between the purpose and the absent values"
   ]
  },
  {
   "cell_type": "markdown",
   "metadata": {},
   "source": [
    "So, the comparation between the dataframe with filtered valued and the initial dataframe brings us to say that the relation between the 1st, 2nd and 3rd values are pretty similar for all the features.\n",
    "\n",
    "Anyway, I do not think the absent values are due to something in particular. This means their absence is aleatory."
   ]
  },
  {
   "attachments": {},
   "cell_type": "markdown",
   "metadata": {},
   "source": [
    "## Stage 2. Data preprocessing <a id='data_preprocessing'></a>"
   ]
  },
  {
   "attachments": {},
   "cell_type": "markdown",
   "metadata": {},
   "source": [
    "### 2.1 Data preparation <a id='data_preparation'></a>"
   ]
  },
  {
   "cell_type": "code",
   "execution_count": null,
   "metadata": {},
   "outputs": [],
   "source": [
    "# Let's look at all the values in the 'education' column to see if the spelling will need to be corrected and what exactly will need to be corrected\n",
    "df['education'].sort_values().unique()"
   ]
  },
  {
   "cell_type": "markdown",
   "metadata": {},
   "source": [
    "Concerning the 'education' column, there many values that indicate the same thing, so we take care about it in the following"
   ]
  },
  {
   "cell_type": "code",
   "execution_count": null,
   "metadata": {
    "scrolled": true
   },
   "outputs": [],
   "source": [
    "df['education'] = df['education'].str.lower()"
   ]
  },
  {
   "cell_type": "code",
   "execution_count": null,
   "metadata": {},
   "outputs": [],
   "source": [
    "# Checking all the values in the column to make sure we have corrected them\n",
    "df['education'].sort_values().unique()"
   ]
  },
  {
   "cell_type": "code",
   "execution_count": null,
   "metadata": {},
   "outputs": [],
   "source": [
    "# Let's see the distribution of values in the `children` column\n",
    "df['children'].value_counts()"
   ]
  },
  {
   "cell_type": "markdown",
   "metadata": {},
   "source": [
    "There are some anomalies in this column:\n",
    "- 20 children seems absurd\n",
    "- -1 children is not acceptable\n",
    "\n",
    "In my opinion, they are both error of typing: '20' means '2' and '-1' means '1'\n",
    "\n",
    "So, I arrange the new dataframe with both corrections\n"
   ]
  },
  {
   "cell_type": "code",
   "execution_count": null,
   "metadata": {},
   "outputs": [],
   "source": [
    "df.loc[df['children'] == 20, 'children'] = 2\n",
    "df.loc[df['children'] == -1, 'children'] = 1"
   ]
  },
  {
   "cell_type": "code",
   "execution_count": null,
   "metadata": {},
   "outputs": [],
   "source": [
    "# Check the `children` column again to make sure everything is fixed\n",
    "df['children'].value_counts()"
   ]
  },
  {
   "cell_type": "markdown",
   "metadata": {},
   "source": [
    "Just keep in mind that we are making an assumption about the nature of the errors and it is not wrong in this case to assume that it is a typo, but these modifications with a larger volume of data can alter the behavior of the information. On another occasion, it would be necessary to discuss with those in charge of collecting information."
   ]
  },
  {
   "cell_type": "markdown",
   "metadata": {},
   "source": [
    "Now we are going to see if there is some problem among the column of age"
   ]
  },
  {
   "cell_type": "code",
   "execution_count": null,
   "metadata": {
    "scrolled": true
   },
   "outputs": [],
   "source": [
    "df['dob_years'].sort_values().unique()"
   ]
  },
  {
   "cell_type": "markdown",
   "metadata": {},
   "source": [
    "In the 'dob_years' column the only thing that is not acceptable is 0 (zero), so we replace this value with the median of the column without 0 (zero)."
   ]
  },
  {
   "cell_type": "code",
   "execution_count": null,
   "metadata": {},
   "outputs": [],
   "source": [
    "median_age = df.loc[df['dob_years'] != 0, 'dob_years'].median()\n",
    "median_age"
   ]
  },
  {
   "cell_type": "markdown",
   "metadata": {},
   "source": [
    "Lets now assign this median value to it:"
   ]
  },
  {
   "cell_type": "code",
   "execution_count": null,
   "metadata": {},
   "outputs": [],
   "source": [
    "df.loc[df['dob_years'] == 0, 'dob_years'] = median_age"
   ]
  },
  {
   "cell_type": "markdown",
   "metadata": {},
   "source": [
    "We verify:"
   ]
  },
  {
   "cell_type": "code",
   "execution_count": null,
   "metadata": {},
   "outputs": [],
   "source": [
    "df['dob_years'].sort_values().unique()"
   ]
  },
  {
   "attachments": {},
   "cell_type": "markdown",
   "metadata": {},
   "source": [
    "####  Restore missing values in `days_employed`"
   ]
  },
  {
   "cell_type": "markdown",
   "metadata": {},
   "source": [
    "Let's work now on the column 'days_employed'"
   ]
  },
  {
   "cell_type": "code",
   "execution_count": null,
   "metadata": {},
   "outputs": [],
   "source": [
    "# Find problematic data in `days_employed`, if it exists, re-arrange them\n",
    "df['days_employed'].head(20)"
   ]
  },
  {
   "cell_type": "markdown",
   "metadata": {},
   "source": [
    "We see that in the column 'days_employed' there are negative and float values. Anyway the positive values are one or more order of magnitude higher maybe because of a problem with the collection of \n",
    "information. I will replace temporarely all the positive data in 'days_employed' with null-value and later I substitute these null values with the mean or median value of the respective category (to be chosen which one)"
   ]
  },
  {
   "cell_type": "code",
   "execution_count": null,
   "metadata": {},
   "outputs": [],
   "source": [
    "df.loc[df['days_employed'] > 0, 'days_employed'] = None"
   ]
  },
  {
   "cell_type": "markdown",
   "metadata": {},
   "source": [
    "I check if the replacement effectively took place, counting the positive values of column 'days_employed'"
   ]
  },
  {
   "cell_type": "code",
   "execution_count": null,
   "metadata": {},
   "outputs": [],
   "source": [
    "len(df[df.days_employed > 0])"
   ]
  },
  {
   "cell_type": "markdown",
   "metadata": {},
   "source": [
    "Ok! we now have no positive value. Let's now convert the neg values to positive using their absolute value"
   ]
  },
  {
   "cell_type": "code",
   "execution_count": null,
   "metadata": {},
   "outputs": [],
   "source": [
    "df['days_employed'] = df['days_employed'].abs()"
   ]
  },
  {
   "cell_type": "code",
   "execution_count": null,
   "metadata": {},
   "outputs": [],
   "source": [
    "df['days_employed'].describe()"
   ]
  },
  {
   "cell_type": "markdown",
   "metadata": {},
   "source": [
    "Since the distribution of values in 'days_employed' is skewed and there are some outliers(the max is >10x the median value), I think it is better to use the median value to replace the null values. Let's dive into it"
   ]
  },
  {
   "cell_type": "markdown",
   "metadata": {},
   "source": [
    "To fill the absent values in 'days_employed' we will use the median value of the corresponding age category of the row. But to do this, we need first to find out these categories."
   ]
  },
  {
   "cell_type": "code",
   "execution_count": null,
   "metadata": {},
   "outputs": [],
   "source": [
    "# Let's write a function that calculates the age category\n",
    "def age_group(age):\n",
    "    \"\"\"\n",
    "    The function returns the age category according to the age value, using the following rules:\n",
    "    — 18-35 yo for age between 18 and 35 year old\n",
    "    — 36-46 yo for age between 36 and 46 year old\n",
    "    — 47-66 yo for age between 47 and 66 year old\n",
    "    — >66 yo for age over 66 year old\n",
    "    \"\"\"\n",
    "    \n",
    "    if 18 <= age <= 35:\n",
    "        return \"18-35 yo\"\n",
    "    if 36 <= age <= 46:\n",
    "        return \"36-46 yo\"\n",
    "    if 47 <= age <= 66:\n",
    "        return \"47-66 yo\"\n",
    "    if age > 66:\n",
    "        return \">66 yo\""
   ]
  },
  {
   "cell_type": "markdown",
   "metadata": {},
   "source": [
    "Now that we have the category of age we add a new column 'age_cat' referring the age of every customer"
   ]
  },
  {
   "cell_type": "code",
   "execution_count": null,
   "metadata": {},
   "outputs": [],
   "source": [
    "# Create a new column 'age_cat' based on the function\n",
    "df['age_cat'] = df['dob_years'].map(age_group)"
   ]
  },
  {
   "cell_type": "markdown",
   "metadata": {},
   "source": [
    "Let's now review the distribution of 'days_employed' by age_cat"
   ]
  },
  {
   "cell_type": "code",
   "execution_count": null,
   "metadata": {},
   "outputs": [],
   "source": [
    "age_days_employed = df.groupby(['age_cat']).agg({'days_employed' : ['mean', 'median', 'min', 'max']})\n",
    "age_days_employed"
   ]
  },
  {
   "cell_type": "markdown",
   "metadata": {},
   "source": [
    "It makes sense because the older a client is, the more days he (or she) has worked."
   ]
  },
  {
   "cell_type": "markdown",
   "metadata": {},
   "source": [
    "And now we will replace the null values with the median value of the corresponding age_cat. This because the values are highly skewed (see for example min and max)"
   ]
  },
  {
   "cell_type": "code",
   "execution_count": null,
   "metadata": {},
   "outputs": [],
   "source": [
    "def my_lambda(x):\n",
    "    return x.fillna(x.median())\n",
    "\n",
    "df['days_employed'] = df.groupby(['age_cat'])['days_employed'].transform(lambda x: my_lambda(x))"
   ]
  },
  {
   "cell_type": "markdown",
   "metadata": {},
   "source": [
    "To simplify things up, lets take the int of every value."
   ]
  },
  {
   "cell_type": "code",
   "execution_count": null,
   "metadata": {},
   "outputs": [],
   "source": [
    "df['days_employed'] = df['days_employed'].astype(int)"
   ]
  },
  {
   "cell_type": "markdown",
   "metadata": {},
   "source": [
    "Ok ! Lets see the resulting column info"
   ]
  },
  {
   "cell_type": "code",
   "execution_count": null,
   "metadata": {},
   "outputs": [],
   "source": [
    "df['days_employed'].info()"
   ]
  },
  {
   "cell_type": "markdown",
   "metadata": {},
   "source": [
    "Ok ! we have now 21525 int values in 'days_employed'"
   ]
  },
  {
   "cell_type": "markdown",
   "metadata": {},
   "source": [
    "Lets analyze now the family_status column to see if there's some anomaly"
   ]
  },
  {
   "cell_type": "code",
   "execution_count": null,
   "metadata": {},
   "outputs": [],
   "source": [
    "df['family_status'].sort_values().unique()"
   ]
  },
  {
   "cell_type": "markdown",
   "metadata": {},
   "source": [
    "There's no anomaly inside the 'family_status' column, so we skip this."
   ]
  },
  {
   "cell_type": "markdown",
   "metadata": {},
   "source": [
    "Lets analyze now the 'gender' column to see if there's some anomaly"
   ]
  },
  {
   "cell_type": "code",
   "execution_count": null,
   "metadata": {},
   "outputs": [],
   "source": [
    "df['gender'].unique()"
   ]
  },
  {
   "cell_type": "markdown",
   "metadata": {},
   "source": [
    "There's no anomaly inside the 'gender' column, so we skip this."
   ]
  },
  {
   "cell_type": "markdown",
   "metadata": {},
   "source": [
    "Lets analyze now the 'income_type' column to see if there's some anomaly"
   ]
  },
  {
   "cell_type": "code",
   "execution_count": null,
   "metadata": {},
   "outputs": [],
   "source": [
    "df['income_type'].sort_values().unique()"
   ]
  },
  {
   "cell_type": "markdown",
   "metadata": {},
   "source": [
    "There's no anomaly inside the 'income_type' column, so we skip this."
   ]
  },
  {
   "cell_type": "markdown",
   "metadata": {},
   "source": [
    "Lets see if there are duplicates:"
   ]
  },
  {
   "cell_type": "code",
   "execution_count": null,
   "metadata": {},
   "outputs": [],
   "source": [
    "df.duplicated().value_counts()"
   ]
  },
  {
   "cell_type": "markdown",
   "metadata": {},
   "source": [
    "We have 71 duplicated rows and then we should get rid of them and reset the index "
   ]
  },
  {
   "cell_type": "code",
   "execution_count": null,
   "metadata": {},
   "outputs": [],
   "source": [
    "df = df.drop_duplicates().reset_index(drop = True)"
   ]
  },
  {
   "cell_type": "code",
   "execution_count": null,
   "metadata": {},
   "outputs": [],
   "source": [
    "# Última comprobación para ver si tenemos duplicados\n",
    "\n",
    "df.duplicated().value_counts()"
   ]
  },
  {
   "cell_type": "markdown",
   "metadata": {},
   "source": [
    "Finally we have no duplicated values. Good! Now reset the index "
   ]
  },
  {
   "cell_type": "code",
   "execution_count": null,
   "metadata": {},
   "outputs": [],
   "source": [
    "# Checking the size of the dataset we now have, after having run these first few manipulations\n",
    "df.shape"
   ]
  },
  {
   "cell_type": "markdown",
   "metadata": {},
   "source": [
    "Filtering the duplicated rows we end up with 21454 rows, so just 0.4% less rows. This does not stop us to proceed."
   ]
  },
  {
   "attachments": {},
   "cell_type": "markdown",
   "metadata": {},
   "source": [
    "Restoring missing values in `total_income`"
   ]
  },
  {
   "cell_type": "markdown",
   "metadata": {},
   "source": [
    "As already stated, the second column with missing values is 'total_income'"
   ]
  },
  {
   "cell_type": "code",
   "execution_count": null,
   "metadata": {},
   "outputs": [],
   "source": [
    "# Distribution of mean and median value of `total_income`\n",
    "df['total_income'].describe().astype(int)"
   ]
  },
  {
   "cell_type": "markdown",
   "metadata": {},
   "source": [
    "Since the distribution of values in 'total_income' is skewed and there are some outliers, I think it is better to use the median value to replace the null values. But, as already done with 'days_employed' not just the overall median but the median correspondent to the level of education. Let's dive into it"
   ]
  },
  {
   "cell_type": "code",
   "execution_count": null,
   "metadata": {},
   "outputs": [],
   "source": [
    "education_total_income = df.groupby(['education']).agg({'total_income' : ['mean', 'median', 'min', 'max']})\n",
    "education_total_income"
   ]
  },
  {
   "cell_type": "markdown",
   "metadata": {},
   "source": [
    "It makes sense because the higher is the level of study, the higher is the total_income"
   ]
  },
  {
   "cell_type": "markdown",
   "metadata": {},
   "source": [
    "And now we will replace the null values with the median value of the corresponding education."
   ]
  },
  {
   "cell_type": "code",
   "execution_count": null,
   "metadata": {},
   "outputs": [],
   "source": [
    "def my_lambda(x):\n",
    "    return x.fillna(x.median())\n",
    "\n",
    "df['total_income'] = df.groupby(['education'])['total_income'].transform(lambda x: my_lambda(x))"
   ]
  },
  {
   "cell_type": "code",
   "execution_count": null,
   "metadata": {},
   "outputs": [],
   "source": [
    "df['total_income'] = df['total_income'].fillna(df['total_income'].median())"
   ]
  },
  {
   "cell_type": "markdown",
   "metadata": {},
   "source": [
    "Cool ! Now we have filled the null values in 'total_income' with the median value of correspondent education"
   ]
  },
  {
   "cell_type": "markdown",
   "metadata": {},
   "source": [
    "To simplify things up, lets take the int of every value."
   ]
  },
  {
   "cell_type": "code",
   "execution_count": null,
   "metadata": {},
   "outputs": [],
   "source": [
    "df['total_income'] = df['total_income'].astype(int)"
   ]
  },
  {
   "cell_type": "markdown",
   "metadata": {},
   "source": [
    "Ok ! Lets see the resulting column info"
   ]
  },
  {
   "cell_type": "code",
   "execution_count": null,
   "metadata": {},
   "outputs": [],
   "source": [
    "df['total_income'].info()"
   ]
  },
  {
   "cell_type": "markdown",
   "metadata": {},
   "source": [
    "Ok ! we have now 21525 int values in 'total_income'"
   ]
  },
  {
   "cell_type": "markdown",
   "metadata": {},
   "source": [
    "Let's now analyze the 'total income' mean and median values based on every column"
   ]
  },
  {
   "cell_type": "code",
   "execution_count": null,
   "metadata": {},
   "outputs": [],
   "source": [
    "# Relation between 'age_cat' and 'total_income'\n",
    "df.groupby(['age_cat']).agg({'total_income': ['mean', 'median']}).astype(int)"
   ]
  },
  {
   "cell_type": "code",
   "execution_count": null,
   "metadata": {},
   "outputs": [],
   "source": [
    "# Relation between 'children' and 'total_income'\n",
    "df.groupby(['children']).agg({'total_income': ['mean', 'median']}).astype(int)\n"
   ]
  },
  {
   "cell_type": "code",
   "execution_count": null,
   "metadata": {},
   "outputs": [],
   "source": [
    "# Relation between 'education' and 'total_income'\n",
    "df.groupby(['education']).agg({'total_income': ['mean', 'median']}).astype(int)"
   ]
  },
  {
   "cell_type": "markdown",
   "metadata": {},
   "source": [
    "This last, the relation between 'education' and 'total_income', is the more explicit.\n",
    "In short, the more people are educated, the bigger is their income.\n",
    "The scale is (from lower to high): \n",
    "- primary edu\n",
    "- secondary edu\n",
    "- some college \n",
    "- grad degree\n",
    "- BSc degree"
   ]
  },
  {
   "cell_type": "code",
   "execution_count": null,
   "metadata": {},
   "outputs": [],
   "source": [
    "# Relation between 'family_status' and 'total_income'\n",
    "df.groupby(['family_status']).agg({'total_income': ['mean', 'median']}).astype(int)"
   ]
  },
  {
   "cell_type": "code",
   "execution_count": null,
   "metadata": {},
   "outputs": [],
   "source": [
    "# Relation between 'gender' and 'total_income'\n",
    "df.groupby(['gender']).agg({'total_income': ['mean', 'median']}).astype(int)"
   ]
  },
  {
   "cell_type": "markdown",
   "metadata": {},
   "source": [
    "Males are definitive higher earner than female customers"
   ]
  },
  {
   "cell_type": "code",
   "execution_count": null,
   "metadata": {},
   "outputs": [],
   "source": [
    "# Relation between 'income_type' and 'total_income'\n",
    "df.groupby(['income_type']).agg({'total_income': ['mean', 'median']}).astype(int)"
   ]
  },
  {
   "cell_type": "markdown",
   "metadata": {},
   "source": [
    "This last as well, the relation between 'income_type' and 'total_income', is reasonable. Business and entrepreneur (maybe are the same) score the highest income while students and paternity leave have the lowest"
   ]
  },
  {
   "cell_type": "markdown",
   "metadata": {},
   "source": [
    "The 'education' index is, in my opinion, the most trustable index to foresee the total income.\n",
    "In short, the more people are educated, the bigger is their income."
   ]
  },
  {
   "cell_type": "code",
   "execution_count": null,
   "metadata": {},
   "outputs": [],
   "source": [
    "# Comprobar el número de entradas en las columnas\n",
    "df.info()"
   ]
  },
  {
   "cell_type": "markdown",
   "metadata": {},
   "source": [
    "Ok, now we are sure that every column has all non-null values."
   ]
  },
  {
   "attachments": {},
   "cell_type": "markdown",
   "metadata": {},
   "source": [
    "### 2.2 Data classification <a id='data_classification'></a>"
   ]
  },
  {
   "cell_type": "markdown",
   "metadata": {},
   "source": [
    "Let's first arrange the categorical data: 'purpose' column"
   ]
  },
  {
   "cell_type": "code",
   "execution_count": null,
   "metadata": {
    "scrolled": true
   },
   "outputs": [],
   "source": [
    "# Displays the data values selected for classification\n",
    "df.purpose.sort_values().unique()"
   ]
  },
  {
   "cell_type": "markdown",
   "metadata": {},
   "source": [
    "We can reduce all these different purposes to just 4. Let's see how"
   ]
  },
  {
   "cell_type": "code",
   "execution_count": null,
   "metadata": {},
   "outputs": [],
   "source": [
    "def replace_wrong_purpose(wrong_purposes, correct_purpose):\n",
    "    for wrong_purpose in wrong_purposes:\n",
    "        df['purpose'] = df['purpose'].replace(wrong_purpose, correct_purpose)\n",
    "        \n",
    "duplicates_1 = ['building a property', 'building a real estate', 'buy commercial real estate', 'buy real estate', 'buy residential real estate', 'buying property for renting out', \n",
    "                'construction of own property', 'housing', 'housing renovation', 'housing transactions', 'property', 'purchase of my own house', 'purchase of the house', \n",
    "                'purchase of the house for my family', 'real estate transactions', 'transactions with commercial real estate','transactions with my real estate']\n",
    "correct_1 = \"real estate\"\n",
    "\n",
    "duplicates_2 = ['buying a second-hand car', 'buying my own car', 'car', 'car purchase', 'cars', 'purchase of a car', 'second-hand car purchase', 'to buy a car', 'to own a car']\n",
    "correct_2 = \"car purchase\"\n",
    "\n",
    "duplicates_3 = ['education', 'getting an education', 'getting higher education', 'going to university', 'profile education', 'supplementary education', 'to become educated',\n",
    "                'to get a supplementary education', 'university education']\n",
    "correct_3 = \"education\"\n",
    "\n",
    "duplicates_4 = ['having a wedding', 'to have a wedding', 'wedding ceremony']\n",
    "correct_4 = \"wedding\"\n",
    "\n",
    "replace_wrong_purpose(duplicates_1, correct_1)  \n",
    "replace_wrong_purpose(duplicates_2, correct_2)\n",
    "replace_wrong_purpose(duplicates_3, correct_3)\n",
    "replace_wrong_purpose(duplicates_4, correct_4)"
   ]
  },
  {
   "cell_type": "markdown",
   "metadata": {},
   "source": [
    "Let's check again for unique values"
   ]
  },
  {
   "cell_type": "code",
   "execution_count": null,
   "metadata": {},
   "outputs": [],
   "source": [
    "df.purpose.sort_values().unique()"
   ]
  },
  {
   "cell_type": "markdown",
   "metadata": {},
   "source": [
    "Cool, we have now only four kind of purposes instead of the long messy list of before"
   ]
  },
  {
   "attachments": {},
   "cell_type": "markdown",
   "metadata": {},
   "source": [
    "## Stage 3. Hypothesis testing <a id='Hypothesis_testing'></a>"
   ]
  },
  {
   "attachments": {},
   "cell_type": "markdown",
   "metadata": {},
   "source": [
    "### 3.1 Data correlations <a id='data_correlation'></a>"
   ]
  },
  {
   "cell_type": "markdown",
   "metadata": {},
   "source": [
    "**Is there a correlation between having children and paying on time?**"
   ]
  },
  {
   "cell_type": "code",
   "execution_count": null,
   "metadata": {},
   "outputs": [],
   "source": [
    "# Checking the data on the children and punctual payments\n",
    "\n",
    "deb_clients = df['children'].value_counts()\n",
    "\n",
    "children_deb = df.groupby('children').agg({'debt':'sum'})\n",
    "\n",
    "children_deb[\"default_rate_%\"] = (100*children_deb['debt']/deb_clients).round(2)\n",
    "\n",
    "children_deb.sort_values(by = 'default_rate_%', ascending=False, inplace=True)\n",
    "\n",
    "\n",
    "children_deb.style.bar(color= '#ff6200')"
   ]
  },
  {
   "cell_type": "markdown",
   "metadata": {},
   "source": [
    "This last means respectively that:\n",
    "- 1063 clients with no children have not paid previous debts\n",
    "- 445 clients with 1 children have not paid previous debts\n",
    "- etc."
   ]
  },
  {
   "cell_type": "markdown",
   "metadata": {},
   "source": [
    "**Conclusion**\n",
    "\n",
    "So we realize that, statistically speaking, the default rate of customer with no children is the lowest (i did not consider clients with 5 children) thus they are more likely to pay back their debt whereas customers with 4 children are the worst. "
   ]
  },
  {
   "cell_type": "markdown",
   "metadata": {},
   "source": [
    "**Is there a correlation between family situation and paying on time?**"
   ]
  },
  {
   "cell_type": "code",
   "execution_count": null,
   "metadata": {},
   "outputs": [],
   "source": [
    "# Comprueba los datos del estado familiar y los pagos a tiempo \n",
    "\n",
    "fam_stat_clients = df['family_status'].value_counts()\n",
    "\n",
    "fam_stat_deb = df.groupby('family_status').agg({'debt':'sum'})\n",
    "\n",
    "fam_stat_deb[\"default_rate %\"] = (100*fam_stat_deb['debt']/fam_stat_clients).round(2)\n",
    "\n",
    "fam_stat_deb.sort_values(by = 'default_rate %', ascending=False, inplace=True)\n",
    "\n",
    "fam_stat_deb.style.bar(color= '#ff6200')"
   ]
  },
  {
   "cell_type": "markdown",
   "metadata": {},
   "source": [
    "**Conclusion**\n",
    "\n",
    "So we realize that the default rate of widow customer is the lowest thus they are more likely to pay back their debt whereas unmarried customers are the worst. "
   ]
  },
  {
   "cell_type": "markdown",
   "metadata": {},
   "source": [
    "**Is there a correlation between income level and on-time payment?**"
   ]
  },
  {
   "cell_type": "markdown",
   "metadata": {},
   "source": [
    "To do this, let's create a category of different income levels"
   ]
  },
  {
   "cell_type": "code",
   "execution_count": null,
   "metadata": {},
   "outputs": [],
   "source": [
    "def total_income_group(income):\n",
    "    \"\"\"\n",
    "    The function returns the total income, using the following rules:\n",
    "    — >50k for customer who get more than 50k/year\n",
    "    — 35-50k for customer who get between 35k and 50k/year\n",
    "    — 25-34k for customer who who get between 25k and 34k/year\n",
    "    — 15-24k for customer who who get between 15k and 24k/year\n",
    "    — <15h for customer who who get less than 15k/year    \n",
    "    \"\"\"\n",
    "    \n",
    "    if income > 50000:\n",
    "        return '>50k'\n",
    "    if 35000 < income <= 50000:\n",
    "        return '35-50k'\n",
    "    if 25000 < income <= 35000:\n",
    "        return '25-34k'\n",
    "    if 15000 < income <= 25000:\n",
    "        return '15-24k'\n",
    "    if income <= 15000:\n",
    "        return '<15k'   "
   ]
  },
  {
   "cell_type": "code",
   "execution_count": null,
   "metadata": {},
   "outputs": [],
   "source": [
    "df['income_cat'] = df['total_income'].map(total_income_group)\n",
    "df.head()"
   ]
  },
  {
   "cell_type": "markdown",
   "metadata": {},
   "source": [
    "Good, Now we have a new column with income_cat !"
   ]
  },
  {
   "cell_type": "code",
   "execution_count": null,
   "metadata": {},
   "outputs": [],
   "source": [
    "income_clients = df['income_cat'].value_counts()\n",
    "\n",
    "income_deb = df.groupby('income_cat').agg({'debt':'sum'})\n",
    "\n",
    "income_deb[\"default_rate_%\"] = (100*income_deb['debt']/income_clients).round(2)\n",
    "\n",
    "income_deb.sort_values(by = 'default_rate_%', ascending=False, inplace=True)\n",
    "\n",
    "income_deb.style.bar(color= '#ff6200')\n"
   ]
  },
  {
   "cell_type": "markdown",
   "metadata": {},
   "source": [
    "This last means respectively that:\n",
    "- 739 clients with total_income between 15k-24k have not paid previous debts\n",
    "- 414 clients with total_income between 25k-34k have not paid previous debts\n",
    "- etc."
   ]
  },
  {
   "cell_type": "markdown",
   "metadata": {},
   "source": [
    "So we realize that, statistically speaking, customers with higher income are more likely to pay back their debt."
   ]
  },
  {
   "cell_type": "markdown",
   "metadata": {},
   "source": [
    "**How does the purpose of the loan affect the default rate?**"
   ]
  },
  {
   "cell_type": "code",
   "execution_count": null,
   "metadata": {},
   "outputs": [],
   "source": [
    "# Consulting the default rate percentages for each credit purpose and analyze them\n",
    "\n",
    "purpose_clients = df['purpose'].value_counts()\n",
    "\n",
    "purpose_deb = df.groupby('purpose').agg({'debt':'sum'})\n",
    "\n",
    "purpose_deb[\"default_rate_%\"] = (100*purpose_deb['debt']/purpose_clients).round(2)\n",
    "\n",
    "purpose_deb.sort_values(by = 'default_rate_%', ascending=False, inplace=True)\n",
    "\n",
    "purpose_deb.style.bar(color= '#ff6200')"
   ]
  },
  {
   "cell_type": "markdown",
   "metadata": {},
   "source": [
    "So we realize that, statistically speaking, customers with real estate as a purpose are more likely to pay back their debt and customers with car purchase are the least trustable"
   ]
  },
  {
   "cell_type": "markdown",
   "metadata": {},
   "source": [
    "**How does education affect the default rate?**"
   ]
  },
  {
   "cell_type": "code",
   "execution_count": null,
   "metadata": {},
   "outputs": [],
   "source": [
    "education_clients = df['education'].value_counts()\n",
    "\n",
    "education_deb = df.groupby('education').agg({'debt':'sum'})\n",
    "\n",
    "education_deb[\"default_rate_%\"] = (100*education_deb['debt']/education_clients).round(2)\n",
    "\n",
    "education_deb.sort_values(by = 'default_rate_%', ascending=False, inplace=True)\n",
    "\n",
    "education_deb.style.bar(color= '#ff6200')"
   ]
  },
  {
   "cell_type": "markdown",
   "metadata": {},
   "source": [
    "So we realize that, statistically speaking, customers with bachelor's degree  are more likely to pay back their debt and customers with primary education are the least trustable"
   ]
  },
  {
   "attachments": {},
   "cell_type": "markdown",
   "metadata": {},
   "source": [
    "### 3.2 Credit score creation <a id='credit_score_creation'></a>"
   ]
  },
  {
   "cell_type": "markdown",
   "metadata": {},
   "source": [
    "Now we know for each category evaluated (number of children, family status, total income, purpose and education) which group is more financially reliable and who is less. So we can create an index for every one and then calculate the overall creditworthiness of every customer"
   ]
  },
  {
   "cell_type": "markdown",
   "metadata": {},
   "source": [
    "Lets begin setting an index for children"
   ]
  },
  {
   "cell_type": "code",
   "execution_count": null,
   "metadata": {},
   "outputs": [],
   "source": [
    "def children_index(children):\n",
    "    \"\"\"\n",
    "    The function returns the children index according to the previous analysis, using the following rules:\n",
    "    — index = 6 (max) for customer with 5 children\n",
    "    — index = 5 for customer with 0 children\n",
    "    — index = 4 for customer with 3 children\n",
    "    — index = 3 for customer with 1 children\n",
    "    — index = 2 for customer with 2 children\n",
    "    — index = 1 (min) for customer with 4 children \n",
    "    \"\"\"\n",
    "    \n",
    "    if children == 5:\n",
    "        return 6\n",
    "    if children == 0:\n",
    "        return 5\n",
    "    if children == 3:\n",
    "        return 4\n",
    "    if children == 1:\n",
    "        return 3\n",
    "    if children == 2:\n",
    "        return 2\n",
    "    if children == 4:\n",
    "        return 1"
   ]
  },
  {
   "cell_type": "markdown",
   "metadata": {},
   "source": [
    "Let's create a new column 'children_ind' using the previous function"
   ]
  },
  {
   "cell_type": "code",
   "execution_count": null,
   "metadata": {},
   "outputs": [],
   "source": [
    "df['children_ind'] = df['children'].map(children_index)"
   ]
  },
  {
   "cell_type": "markdown",
   "metadata": {},
   "source": [
    "Lets set an index for age"
   ]
  },
  {
   "cell_type": "code",
   "execution_count": null,
   "metadata": {},
   "outputs": [],
   "source": [
    "def age_index(age):\n",
    "    \n",
    "    \"\"\"\n",
    "    The function returns the age index according to the previous analysis, using the following rules:\n",
    "    — index = 4 (max) for customer aged 18-35\n",
    "    — index = 3 for customer aged 36-46\n",
    "    — index = 2 for customer aged 47-66\n",
    "    — index = 1 (min) for customer aged >66  \n",
    "    \"\"\"\n",
    "    \n",
    "    if 18 <= age <= 35:\n",
    "        return 1\n",
    "    if 36 <= age <= 46:\n",
    "        return 2\n",
    "    if 47 <= age <= 66:\n",
    "        return 3\n",
    "    if age >= 66:\n",
    "        return 4"
   ]
  },
  {
   "cell_type": "markdown",
   "metadata": {},
   "source": [
    "Let's create a new column 'age_ind' using the previous function"
   ]
  },
  {
   "cell_type": "code",
   "execution_count": null,
   "metadata": {},
   "outputs": [],
   "source": [
    "df['age_ind'] = df['dob_years'].map(age_index)"
   ]
  },
  {
   "cell_type": "markdown",
   "metadata": {},
   "source": [
    "Lets set an index for family status"
   ]
  },
  {
   "cell_type": "code",
   "execution_count": null,
   "metadata": {},
   "outputs": [],
   "source": [
    "def family_status_index(family_status):\n",
    "    \"\"\"\n",
    "    The function returns the family status index according to the previous analysis, using the following rules:\n",
    "    — index = 5 (max) for widow customer \n",
    "    — index = 4 for divorced customer \n",
    "    — index = 3 for married customer\n",
    "    — index = 2 for civil partnership customer\n",
    "    — index = 1 (min) for unmarried customer  \n",
    "    \"\"\"\n",
    "    \n",
    "    if family_status == 'unmarried':\n",
    "        return 1\n",
    "    if family_status == 'civil partnership':\n",
    "        return 2\n",
    "    if family_status == 'married':\n",
    "        return 3\n",
    "    if family_status == 'divorced':\n",
    "        return 4\n",
    "    if family_status == 'widow / widower':\n",
    "        return 5"
   ]
  },
  {
   "cell_type": "markdown",
   "metadata": {},
   "source": [
    "Let's create a new column 'family_status_ind' using the previous function"
   ]
  },
  {
   "cell_type": "code",
   "execution_count": null,
   "metadata": {},
   "outputs": [],
   "source": [
    "df['family_status_ind'] = df['family_status'].map(family_status_index)"
   ]
  },
  {
   "cell_type": "markdown",
   "metadata": {},
   "source": [
    "Lets set an index for education"
   ]
  },
  {
   "cell_type": "code",
   "execution_count": null,
   "metadata": {},
   "outputs": [],
   "source": [
    "def education_index(education):\n",
    "    \"\"\"\n",
    "    The function returns the education index according to the previous analysis, using the following rules:\n",
    "    — index = 5 (max) for graduate degree customer \n",
    "    — index = 4 for bachelor's degree customer \n",
    "    — index = 3 for secondary education customer\n",
    "    — index = 2 for some college customer\n",
    "    — index = 1 (min) for primary education customer  \n",
    "    \"\"\"\n",
    "    \n",
    "    if education == 'primary education':\n",
    "        return 1\n",
    "    if education == 'some college':\n",
    "        return 2\n",
    "    if education == 'secondary education':\n",
    "        return 3\n",
    "    if education == \"bachelor's degree\":\n",
    "        return 4\n",
    "    if education == \"graduate degree\":\n",
    "        return 5"
   ]
  },
  {
   "cell_type": "markdown",
   "metadata": {},
   "source": [
    "Let's create a new column 'education_ind' using the previous function"
   ]
  },
  {
   "cell_type": "code",
   "execution_count": null,
   "metadata": {},
   "outputs": [],
   "source": [
    "df['education_ind'] = df['education'].map(education_index)"
   ]
  },
  {
   "cell_type": "markdown",
   "metadata": {},
   "source": [
    "Lets set an index for income"
   ]
  },
  {
   "cell_type": "code",
   "execution_count": null,
   "metadata": {},
   "outputs": [],
   "source": [
    "def income_index(income):\n",
    "    \"\"\"\n",
    "    The function returns the income index according to the previous analysis, using the following rules:\n",
    "    — index = 5 (max) for customer who get more than 50k/year\n",
    "    — index = 4 for customer who get between 35k and 50k/year\n",
    "    — index = 3 for customer who who get less than 15k/year\n",
    "    — index = 2 for customer who who get between 25k and 35k/year\n",
    "    — index = 1 (min) for customer who between 15k and 24k/year    \n",
    "    \"\"\"\n",
    "    \n",
    "    if income > 50000:\n",
    "        return 5\n",
    "    if 35000 < income <= 50000:\n",
    "        return 4\n",
    "    if 25000 < income <= 35000:\n",
    "        return 2\n",
    "    if 15000 < income <= 25000:\n",
    "        return 1\n",
    "    if income <= 15000:\n",
    "        return 3 "
   ]
  },
  {
   "cell_type": "markdown",
   "metadata": {},
   "source": [
    "Let's create a new column 'income_ind' using the previous function"
   ]
  },
  {
   "cell_type": "code",
   "execution_count": null,
   "metadata": {},
   "outputs": [],
   "source": [
    "df['income_ind'] = df['total_income'].map(income_index)"
   ]
  },
  {
   "cell_type": "markdown",
   "metadata": {},
   "source": [
    "Lets set an index for purpose"
   ]
  },
  {
   "cell_type": "code",
   "execution_count": null,
   "metadata": {},
   "outputs": [],
   "source": [
    "def purpose_index(purpose):\n",
    "    \"\"\"\n",
    "    The function returns the purpose index according to the previous analysis, using the following rules:\n",
    "    — index = 4 (max) for real estate customer \n",
    "    — index = 3 for wedding customer\n",
    "    — index = 2 for education customer\n",
    "    — index = 1 (min) car purchase customer  \n",
    "    \"\"\"\n",
    "    \n",
    "    if purpose == 'car purchase':\n",
    "        return 1\n",
    "    if purpose == 'education':\n",
    "        return 2\n",
    "    if purpose == 'wedding':\n",
    "        return 3\n",
    "    if purpose == \"real estate\":\n",
    "        return 4"
   ]
  },
  {
   "cell_type": "markdown",
   "metadata": {},
   "source": [
    "Let's create a new column 'purpose_ind' using the previous function"
   ]
  },
  {
   "cell_type": "code",
   "execution_count": null,
   "metadata": {},
   "outputs": [],
   "source": [
    "df['purpose_ind'] = df['purpose'].map(purpose_index)"
   ]
  },
  {
   "cell_type": "markdown",
   "metadata": {},
   "source": [
    "And finally we can have the final index of every row just calculating the mean value of all the indexes"
   ]
  },
  {
   "cell_type": "code",
   "execution_count": null,
   "metadata": {},
   "outputs": [],
   "source": [
    "df['final_ind'] = ((df['children_ind'] + df['age_ind'] + df['family_status_ind'] + df['education_ind'] + df['income_ind'] + df['purpose_ind'])/6).round(2)"
   ]
  },
  {
   "cell_type": "markdown",
   "metadata": {},
   "source": [
    "Practically speaking, the final index ranges between 1 and 4.8 where. The smaller is the final index the lower is the creditworthiness of the debtor."
   ]
  },
  {
   "attachments": {},
   "cell_type": "markdown",
   "metadata": {},
   "source": [
    "## General conclusion <a id='conclusion'></a>"
   ]
  },
  {
   "cell_type": "markdown",
   "metadata": {},
   "source": [
    "We begun with a 21525x12 dataframe whith more or less 10% of rows with absent values. These absent values were always in the columns \"days_employed\" and \"total_income\" at the same time but anyway I did not discovered any connection between them.\n",
    "Once I worked the values in \"days_employed\", meaning that I deleted the original positive values because to high to be reasonable and replaced them with the median value of the correspondent age category and converted the negative float values into positive int values.\n",
    "I dropped the duplicated values (71 of them) and filled the absent values \"total_income\"  with the median value of the correspondent education. I did so because there were some outside values much higher or much smaller that could affect the simple average.\n",
    "After all this, I ended up with 21454 rows.\n",
    "After that I ran the analysis of every column based on categories and in relation with the ability to pay back the debt.\n",
    "\n",
    "Finally I discovered that prime indicators to measure the likeability of a client to pay back his debt are:\n",
    "- higher education\n",
    "- real estate purpose \n",
    "- high income level\n",
    "- not having children\n",
    "- be a widow/widower"
   ]
  }
 ],
 "metadata": {
  "ExecuteTimeLog": [
   {
    "duration": 2741,
    "start_time": "2021-10-21T01:08:49.480Z"
   },
   {
    "duration": 52,
    "start_time": "2021-10-21T01:08:53.315Z"
   },
   {
    "duration": 49,
    "start_time": "2021-10-21T01:08:57.432Z"
   },
   {
    "duration": 70,
    "start_time": "2021-10-21T01:09:07.706Z"
   }
  ],
  "kernelspec": {
   "display_name": "Python 3.10.8 64-bit",
   "language": "python",
   "name": "python3"
  },
  "language_info": {
   "codemirror_mode": {
    "name": "ipython",
    "version": 3
   },
   "file_extension": ".py",
   "mimetype": "text/x-python",
   "name": "python",
   "nbconvert_exporter": "python",
   "pygments_lexer": "ipython3",
   "version": "3.10.8"
  },
  "toc": {
   "base_numbering": 1,
   "nav_menu": {},
   "number_sections": true,
   "sideBar": true,
   "skip_h1_title": true,
   "title_cell": "Table of Contents",
   "title_sidebar": "Contents",
   "toc_cell": false,
   "toc_position": {},
   "toc_section_display": true,
   "toc_window_display": false
  },
  "vscode": {
   "interpreter": {
    "hash": "26de051ba29f2982a8de78e945f0abaf191376122a1563185a90213a26c5da77"
   }
  }
 },
 "nbformat": 4,
 "nbformat_minor": 2
}
